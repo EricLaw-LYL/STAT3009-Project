{
 "cells": [
  {
   "cell_type": "markdown",
   "metadata": {},
   "source": [
    "# STAT3009 Project 1\n",
    "- LAW Yiu Leung Eric 1155149315\n",
    "- LAM Wai Chiu 1155152095\n",
    "- TSOI Tung Sing 1155127274"
   ]
  },
  {
   "cell_type": "markdown",
   "metadata": {},
   "source": [
    "## Import packages and load the developed methods"
   ]
  },
  {
   "cell_type": "code",
   "execution_count": 27,
   "metadata": {},
   "outputs": [],
   "source": [
    "import numpy as np\n",
    "import pandas as pd"
   ]
  },
  {
   "cell_type": "code",
   "execution_count": null,
   "metadata": {},
   "outputs": [],
   "source": [
    "def rmse(true, pred):\n",
    "\treturn np.sqrt(np.mean((pred - true)**2))\n",
    "\n",
    "# baseline methods\n",
    "class glb_mean(object):\n",
    "\tdef __init__(self):\n",
    "\t\tself.glb_mean = 0\n",
    "\t\n",
    "\tdef fit(self, train_ratings):\n",
    "\t\tself.glb_mean = np.mean(train_ratings)\n",
    "\t\n",
    "\tdef predict(self, test_pair):\n",
    "\t\tpred = np.ones(len(test_pair))\n",
    "\t\tpred = pred*self.glb_mean\n",
    "\t\treturn pred\n",
    "\n",
    "class user_mean(object):\n",
    "\tdef __init__(self, n_user):\n",
    "\t\tself.n_user = n_user\n",
    "\t\tself.glb_mean = 0.\n",
    "\t\tself.user_mean = np.zeros(n_user)\n",
    "\t\n",
    "\tdef fit(self, train_pair, train_ratings):\n",
    "\t\tself.glb_mean = train_ratings.mean()\n",
    "\t\tfor u in range(self.n_user):\n",
    "\t\t\tind_train = np.where(train_pair[:,0] == u)[0]\n",
    "\t\t\tif len(ind_train) == 0:\n",
    "\t\t\t\tself.user_mean[u] = self.glb_mean\n",
    "\t\t\telse:\n",
    "\t\t\t\tself.user_mean[u] = train_ratings[ind_train].mean()\n",
    "\t\n",
    "\tdef predict(self, test_pair):\n",
    "\t\tpred = np.ones(len(test_pair))*self.glb_mean\n",
    "\t\tj = 0\n",
    "\t\tfor row in test_pair:\n",
    "\t\t\tuser_tmp, item_tmp = row[0], row[1]\n",
    "\t\t\tpred[j] = self.user_mean[user_tmp]\n",
    "\t\t\tj = j + 1\n",
    "\t\treturn pred\n",
    "\n",
    "class item_mean(object):\n",
    "\tdef __init__(self, n_item):\n",
    "\t\tself.n_item = n_item\n",
    "\t\tself.glb_mean = 0.\n",
    "\t\tself.item_mean = np.zeros(n_item)\n",
    "\t\n",
    "\tdef fit(self, train_pair, train_ratings):\n",
    "\t\tself.glb_mean = train_ratings.mean()\n",
    "\t\tfor i in range(self.n_item):\n",
    "\t\t\tind_train = np.where(train_pair[:,1] == i)[0]\n",
    "\t\t\tif len(ind_train) == 0:\n",
    "\t\t\t\tself.item_mean[i] = self.glb_mean\n",
    "\t\t\telse:\n",
    "\t\t\t\tself.item_mean[i] = train_ratings[ind_train].mean()\n",
    "\t\n",
    "\tdef predict(self, test_pair):\n",
    "\t\tpred = np.ones(len(test_pair))*self.glb_mean\n",
    "\t\tj = 0\n",
    "\t\tfor row in test_pair:\n",
    "\t\t\tuser_tmp, item_tmp = row[0], row[1]\n",
    "\t\t\tpred[j] = self.item_mean[item_tmp]\n",
    "\t\t\tj = j + 1\n",
    "\t\treturn pred\n",
    "\n",
    "\n",
    "class LFM(object):\n",
    "\n",
    "    def __init__(self, n_user, n_item, lam=.001, K=10, iterNum=10, tol=1e-4, verbose=1):\n",
    "        self.P = np.random.randn(n_user, K)\n",
    "        self.Q = np.random.randn(n_item, K)\n",
    "        # self.index_item = []\n",
    "        # self.index_user = []\n",
    "        self.n_user = n_user\n",
    "        self.n_item = n_item\n",
    "        self.lam = lam\n",
    "        self.K = K\n",
    "        self.iterNum = iterNum\n",
    "        self.tol = tol\n",
    "        self.verbose = verbose\n",
    "\n",
    "    def fit(self, train_pair, train_rating, learning_rate=0.0001):\n",
    "        diff, tol = 1., self.tol\n",
    "        n_user, n_item, n_obs = self.n_user, self.n_item, len(train_pair)\n",
    "        K, iterNum, lam = self.K, self.iterNum, self.lam\n",
    "        ## store user/item index set\n",
    "        self.index_item = [np.where(train_pair[:,1] == i)[0] for i in range(n_item)]\n",
    "        self.index_user = [np.where(train_pair[:,0] == u)[0] for u in range(n_user)]\n",
    "        if self.verbose:\n",
    "            print('Fitting Reg-LFM: K: %d, lam: %.5f' %(K, lam))\n",
    "        for i in range(iterNum):\n",
    "            ## item update\n",
    "            score_old = self.rmse(test_pair=train_pair, test_rating=train_rating)\n",
    "            for j in range(n_obs):\n",
    "                user_id, item_id, rating_tmp = train_pair[j,0], train_pair[j,1], train_rating[j]\n",
    "                err_tmp = rating_tmp - np.dot(self.P[user_id,:], self.Q[item_id,:])\n",
    "                self.Q[item_id,:] = self.Q[item_id,:] + 2*learning_rate*err_tmp*self.P[user_id,:] - 2*learning_rate*lam*self.Q[item_id,:]\n",
    "                err_tmp = rating_tmp - np.dot(self.P[user_id,:], self.Q[item_id,:])\n",
    "                self.P[user_id,:] = self.P[user_id,:] + 2*learning_rate*self.Q[item_id,:] - 2*learning_rate*lam*self.P[user_id,:]\n",
    "            # compute the new rmse score\n",
    "            score_new = self.rmse(test_pair=train_pair, test_rating=train_rating)\n",
    "            diff = - score_new + score_old\n",
    "            if self.verbose:\n",
    "                print(\"Reg-LFM: ite: %d; diff: %.3f RMSE: %.3f\" %(i, diff, score_new))\n",
    "            if (diff < tol):\n",
    "                break\n",
    "\n",
    "    def predict(self, test_pair):\n",
    "        # predict ratings for user-item pairs\n",
    "        pred_rating = [np.dot(self.P[line[0]], self.Q[line[1]]) for line in test_pair]\n",
    "        return np.array(pred_rating)\n",
    "    \n",
    "    def rmse(self, test_pair, test_rating):\n",
    "        # report the rmse for the fitted `LFM`\n",
    "        pred_rating = self.predict(test_pair=test_pair)\n",
    "        return np.sqrt( np.mean( (pred_rating - test_rating)**2) )\n",
    "\n",
    "from sklearn.model_selection import KFold\n",
    "import itertools\n",
    "import pandas as pd\n",
    "import seaborn as sns\n",
    "import matplotlib.pyplot as plt\n",
    "\n",
    "class LFM_CV(object):\n",
    "\n",
    "\tdef __init__(self, n_user, n_item, cv=5,\n",
    "\t\t\t\tlams=[.000001,.0001,.001,.01], \n",
    "\t\t\t\tKs=[3,5,10,20], \n",
    "\t\t\t\titerNum=10, tol=1e-4):\n",
    "\t\t# self.index_item = []\n",
    "\t\t# self.index_user = []\n",
    "\t\tself.n_user = n_user\n",
    "\t\tself.n_item = n_item\n",
    "\t\tself.cv = cv\n",
    "\t\tself.lams = lams\n",
    "\t\tself.Ks = Ks\n",
    "\t\tself.iterNum = iterNum\n",
    "\t\tself.tol = tol\n",
    "\t\tself.best_model = {}\n",
    "\t\tself.cv_result = {'K': [], 'lam': [], 'train_rmse': [], 'valid_rmse': []}\n",
    "\n",
    "\tdef grid_search(self, train_pair, train_rating):\n",
    "\t\t## generate all comb of `K` and `lam`\n",
    "\t\tkf = KFold(n_splits=self.cv, shuffle=True)\n",
    "\t\tfor (K,lam) in itertools.product(self.Ks, self.lams):\n",
    "\t\t\ttrain_rmse_tmp, valid_rmse_tmp = 0., 0.\n",
    "\t\t\tfor train_index, valid_index in kf.split(train_pair):\n",
    "\t\t\t\t# produce training/validation sets\n",
    "\t\t\t\ttrain_pair_cv, train_rating_cv = train_pair[train_index], train_rating[train_index]\n",
    "\t\t\t\tvalid_pair_cv, valid_rating_cv = train_pair[valid_index], train_rating[valid_index]\n",
    "\t\t\t\t# fit the model based on CV data\n",
    "\t\t\t\tmodel_tmp = LFM(self.n_user, self.n_item, K=K, lam=lam, verbose=0)\n",
    "\t\t\t\tmodel_tmp.fit(train_pair=train_pair_cv, train_rating=train_rating_cv)\n",
    "\t\t\t\ttrain_rmse_tmp_cv = model_tmp.rmse(test_pair=train_pair_cv, test_rating=train_rating_cv)\n",
    "\t\t\t\tvalid_rmse_tmp_cv = model_tmp.rmse(test_pair=valid_pair_cv, test_rating=valid_rating_cv)\n",
    "\t\t\t\ttrain_rmse_tmp = train_rmse_tmp + train_rmse_tmp_cv / self.cv\n",
    "\t\t\t\tvalid_rmse_tmp = valid_rmse_tmp + valid_rmse_tmp_cv / self.cv\n",
    "\t\t\t\tprint('%d-Fold CV for K: %d; lam: %.5f: train_rmse: %.3f, valid_rmse: %.3f' \n",
    "\t\t\t\t\t\t%(self.cv, K, lam, train_rmse_tmp_cv, valid_rmse_tmp_cv))\n",
    "\t\t\tself.cv_result['K'].append(K)\n",
    "\t\t\tself.cv_result['lam'].append(lam)\n",
    "\t\t\tself.cv_result['train_rmse'].append(train_rmse_tmp)\n",
    "\t\t\tself.cv_result['valid_rmse'].append(valid_rmse_tmp)\n",
    "\t\tself.cv_result = pd.DataFrame.from_dict(self.cv_result)\n",
    "\t\tbest_ind = self.cv_result['valid_rmse'].argmin()\n",
    "\t\tself.best_model = self.cv_result.loc[best_ind]\n",
    "\t\n",
    "\tdef plot_grid(self, data_source='valid'):\n",
    "\t\tsns.set_theme()\n",
    "\t\tif data_source == 'train':\n",
    "\t\t\tcv_pivot = self.cv_result.pivot(\"K\", \"lam\", \"train_rmse\")\n",
    "\t\telif data_source == 'valid':\n",
    "\t\t\tcv_pivot = self.cv_result.pivot(\"K\", \"lam\", \"valid_rmse\")\n",
    "\t\telse:\n",
    "\t\t\traise ValueError('data_source must be train or valid!')\n",
    "\t\tsns.heatmap(cv_pivot, annot=True, fmt=\".3f\", linewidths=.5, cmap=\"YlGnBu\")\n",
    "\t\tplt.show()"
   ]
  },
  {
   "cell_type": "markdown",
   "metadata": {},
   "source": [
    "# Pre-process the raw data\n",
    "- check the `user_id` and `item_id`: mapping `item_id` to a continuous sequence based on `sklean.preprocessing`\n",
    "- create `train_pair`,`train_rating`, `test_pair`\n",
    "\n",
    "This part is contributed by `TSOI Tung Sing 1155127274`"
   ]
  },
  {
   "cell_type": "code",
   "execution_count": 28,
   "metadata": {},
   "outputs": [],
   "source": [
    "dtrain = pd.read_csv(\"data/train.csv\")\n",
    "dtest = pd.read_csv(\"data/test.csv\")\n",
    "\n",
    "## mapping \n",
    "from sklearn import preprocessing\n",
    "le_user = preprocessing.LabelEncoder()\n",
    "le_user.fit(np.append(dtrain['user_id'], dtest[\"user_id\"]))\n",
    "dtrain['user_id'] = le_user.transform(dtrain[\"user_id\"])\n",
    "dtest[\"user_id\"] = le_user.transform(dtest[\"user_id\"])\n",
    "\n",
    "le_item = preprocessing.LabelEncoder()\n",
    "le_item.fit(np.append(dtrain['item_id'], dtest[\"item_id\"]))\n",
    "dtrain[\"item_id\"] = le_item.transform(dtrain[\"item_id\"])\n",
    "dtest[\"item_id\"] = le_item.transform(dtest[\"item_id\"])"
   ]
  },
  {
   "cell_type": "markdown",
   "metadata": {},
   "source": [
    "Create train_pair, train_rating and test_pair"
   ]
  },
  {
   "cell_type": "code",
   "execution_count": 29,
   "metadata": {},
   "outputs": [],
   "source": [
    "# train_pair, train_rating\n",
    "train_pair = dtrain[['user_id', 'item_id']].values\n",
    "train_rating = dtrain['rating'].values\n",
    "\n",
    "# test_pair\n",
    "test_pair = dtest[['user_id', 'item_id']].values\n",
    "\n",
    "n_user, n_item = max(train_pair[:,0].max(), test_pair[:,0].max())+1, max(train_pair[:,1].max(), test_pair[:,1].max())+1"
   ]
  },
  {
   "cell_type": "markdown",
   "metadata": {},
   "source": [
    "# Exploratory Data Analysis (EDA)\n",
    "This part is contributed by `LAM Wai Chiu 1155152095`"
   ]
  },
  {
   "cell_type": "code",
   "execution_count": 30,
   "metadata": {},
   "outputs": [],
   "source": [
    "import seaborn as sns\n",
    "import matplotlib.pyplot as plt\n",
    "sns.set_theme()"
   ]
  },
  {
   "cell_type": "markdown",
   "metadata": {},
   "source": [
    "## Summary of the Dataset"
   ]
  },
  {
   "cell_type": "code",
   "execution_count": 83,
   "metadata": {},
   "outputs": [
    {
     "name": "stdout",
     "output_type": "stream",
     "text": [
      "Number of users: 492\n",
      "Number of items: 959\n",
      "Number of records (rows): 15303\n",
      "Unique ratings:  [0, 1, 2, 3, 4, 5, 6, 7, 8, 9, 10, 11, 12, 13, 14, 15]\n"
     ]
    }
   ],
   "source": [
    "print(\"Number of users: {n_user}\\nNumber of items: {n_item}\".format(n_user = n_user, n_item = n_item))\n",
    "print(\"Number of records (rows): {n_rows}\".format(n_rows = len(dtrain)))\n",
    "print(\"Unique ratings: \", list(set(dtrain[\"rating\"])))"
   ]
  },
  {
   "cell_type": "markdown",
   "metadata": {},
   "source": [
    "The target variable is `rating`, which is discrete within [0, 15]. The explanatory variables are `user_id` and `item_id`, they are both nominal categorical data."
   ]
  },
  {
   "cell_type": "markdown",
   "metadata": {},
   "source": [
    "## Histogram of Ratings"
   ]
  },
  {
   "cell_type": "code",
   "execution_count": 32,
   "metadata": {},
   "outputs": [
    {
     "data": {
      "image/png": "[encoded data removed]",
      "text/plain": [
       "<Figure size 360x360 with 1 Axes>"
      ]
     },
     "metadata": {},
     "output_type": "display_data"
    }
   ],
   "source": [
    "g = sns.displot(dtrain, x = \"rating\", kde = True, fill = True)\n",
    "g.set(title = \"Histogram and Density of Ratings\", xticks = np.arange(15+1))\n",
    "plt.show(g)"
   ]
  },
  {
   "cell_type": "markdown",
   "metadata": {},
   "source": [
    "The mode of rating is 5, it seems to be normally distributed with mean = 5, except 15 being an outlier\n",
    "\n",
    "## Histogram of Users and Items\n"
   ]
  },
  {
   "cell_type": "code",
   "execution_count": 33,
   "metadata": {},
   "outputs": [
    {
     "data": {
      "image/png": "[encoded data removed]",
      "text/plain": [
       "<Figure size 432x288 with 1 Axes>"
      ]
     },
     "metadata": {},
     "output_type": "display_data"
    },
    {
     "data": {
      "image/png": "[encoded data removed]",
      "text/plain": [
       "<Figure size 432x288 with 1 Axes>"
      ]
     },
     "metadata": {},
     "output_type": "display_data"
    }
   ],
   "source": [
    "# histogram of users\n",
    "g = sns.histplot(data = dtrain, x = \"user_id\")\n",
    "g.set_title(\"Histogram of Users\")\n",
    "plt.show(g)\n",
    "\n",
    "# histogram of items\n",
    "g = sns.histplot(data = dtrain, x = \"item_id\")\n",
    "g.set_title(\"Histogram of Items\")\n",
    "plt.show(g)"
   ]
  },
  {
   "cell_type": "markdown",
   "metadata": {},
   "source": [
    "## Histogram for Averaged Ratings for Users and Items"
   ]
  },
  {
   "cell_type": "code",
   "execution_count": 34,
   "metadata": {},
   "outputs": [
    {
     "data": {
      "image/png": "[encoded data removed]",
      "text/plain": [
       "<Figure size 432x288 with 1 Axes>"
      ]
     },
     "metadata": {},
     "output_type": "display_data"
    },
    {
     "data": {
      "image/png": "[encoded data removed]",
      "text/plain": [
       "<Figure size 432x288 with 1 Axes>"
      ]
     },
     "metadata": {},
     "output_type": "display_data"
    }
   ],
   "source": [
    "# Histogram of average for user ratings\n",
    "g = sns.histplot(x = dtrain.groupby(\"user_id\")[\"rating\"].mean())\n",
    "g.set_xticks(range(15+1))\n",
    "g.set_title(\"Histogram of Average for User Ratings\")\n",
    "plt.show(g)\n",
    "\n",
    "# Histogram of average for item ratings\n",
    "g = sns.histplot(x = dtrain.groupby(\"item_id\")[\"rating\"].mean())\n",
    "g.set_xticks(range(15+1))\n",
    "g.set_title(\"Histogram of Average for Item Ratings\")\n",
    "plt.show(g)"
   ]
  },
  {
   "cell_type": "markdown",
   "metadata": {},
   "source": [
    "## Find Top-20 highest Rating Items\n",
    "Calculate the average rating of each items, then find the top 20"
   ]
  },
  {
   "cell_type": "code",
   "execution_count": 84,
   "metadata": {},
   "outputs": [
    {
     "data": {
      "image/png": "[encoded data removed]",
      "text/plain": [
       "<Figure size 432x288 with 1 Axes>"
      ]
     },
     "metadata": {},
     "output_type": "display_data"
    }
   ],
   "source": [
    "top20_item = dtrain.groupby(\"item_id\")[\"rating\"].mean().sort_values(ascending = False)[:20]\n",
    "g = sns.barplot(x = top20_item.index, y = top20_item, order = top20_item.index)\n",
    "g.set(title = \"Top-20 Highest Rating Items\", yticks = range(0, 15+1, 5))\n",
    "g.tick_params(axis = \"x\", rotation = 90)\n",
    "plt.show(g)"
   ]
  },
  {
   "cell_type": "markdown",
   "metadata": {},
   "source": [
    "## Find Top-20 Most Popular Items\n",
    "Count the number of ratings of each items, then find the top 20"
   ]
  },
  {
   "cell_type": "code",
   "execution_count": 85,
   "metadata": {},
   "outputs": [
    {
     "data": {
      "image/png": "[encoded data removed]",
      "text/plain": [
       "<Figure size 432x288 with 1 Axes>"
      ]
     },
     "metadata": {},
     "output_type": "display_data"
    }
   ],
   "source": [
    "top20_item = dtrain.groupby(\"item_id\")[\"rating\"].count().sort_values(ascending = False)[:20]\n",
    "g = sns.barplot(x = top20_item.index, y = top20_item, order = top20_item.index)\n",
    "g.set(title = \"Top-20 Most Popular Items\", ylabel = \"number of ratings\")\n",
    "g.tick_params(axis='x', rotation=90)\n",
    "plt.show(g)"
   ]
  },
  {
   "cell_type": "markdown",
   "metadata": {},
   "source": [
    "# Impelement Deep Learning with Keras\n",
    "This part is contributed by `LAW Yiu Leung Eric 1155149315`"
   ]
  },
  {
   "cell_type": "code",
   "execution_count": 37,
   "metadata": {},
   "outputs": [],
   "source": [
    "import tensorflow as tf\n",
    "from tensorflow import keras\n",
    "from tensorflow.keras import layers"
   ]
  },
  {
   "cell_type": "markdown",
   "metadata": {},
   "source": [
    "## Create the model\n",
    "We embed both users and movies in to multi-dimensional vectors.  \n",
    "The model computes a match score between user and movie embeddings via a dot product, and adds a per-movie and per-user bias.\n",
    "\n",
    "Math formuation: $\\hat{r}_{u, i} = f_L (p_u, q_i) = A(W_l f_{l-1}(p_u, q_i) + b_l)$"
   ]
  },
  {
   "cell_type": "code",
   "execution_count": 38,
   "metadata": {},
   "outputs": [],
   "source": [
    "class LFactorNet(keras.Model):\n",
    "    def __init__(self, num_users, num_items, embedding_size, **kwargs):\n",
    "        super(LFactorNet, self).__init__(**kwargs)\n",
    "        self.num_users = num_users\n",
    "        self.num_items = num_items\n",
    "        self.embedding_size = embedding_size\n",
    "        self.user_embedding = layers.Embedding(\n",
    "            num_users,\n",
    "            embedding_size,\n",
    "            embeddings_initializer=\"he_normal\",\n",
    "            embeddings_regularizer=keras.regularizers.l2(1e-2),\n",
    "        )\n",
    "        self.movie_embedding = layers.Embedding(\n",
    "            num_items,\n",
    "            embedding_size,\n",
    "            embeddings_initializer=\"he_normal\",\n",
    "            embeddings_regularizer=keras.regularizers.l2(1e-2),\n",
    "        )\n",
    "        self.concatenate = layers.Concatenate()\n",
    "        self.dense1 = layers.Dense(100, name='fc-1', activation='relu')\n",
    "        self.dense2 = layers.Dense(50, name='fc-2', activation='relu')\n",
    "        self.dense3 = layers.Dense(1, name='fc-3', activation='relu')\n",
    "\n",
    "    def call(self, inputs):\n",
    "        user_vector = self.user_embedding(inputs[:, 0])\n",
    "        movie_vector = self.movie_embedding(inputs[:, 1])\n",
    "        concatted_vec = self.concatenate([user_vector, movie_vector])\n",
    "        fc_1 = self.dense1(concatted_vec)\n",
    "        fc_2 = self.dense2(fc_1)\n",
    "        fc_3 = self.dense3(fc_2)\n",
    "        return fc_3"
   ]
  },
  {
   "cell_type": "markdown",
   "metadata": {},
   "source": [
    "## Baseline + NCF\n",
    "$\\hat{r}_{u, i} = \\bar{r} + \\bar{r}_u + \\bar{r}_i + \\hat{r}_{\\text{NCF}}$"
   ]
  },
  {
   "cell_type": "code",
   "execution_count": 39,
   "metadata": {},
   "outputs": [],
   "source": [
    "# glb mean\n",
    "glb_ave = glb_mean()\n",
    "glb_ave.fit(train_rating)\n",
    "pred = glb_ave.predict(test_pair)\n",
    "\n",
    "# user_mean\n",
    "train_rating_res = train_rating - glb_ave.predict(train_pair)\n",
    "user_ave = user_mean(n_user=n_user)\n",
    "user_ave.fit(train_pair=train_pair, train_ratings=train_rating_res)\n",
    "pred = pred + user_ave.predict(test_pair)\n",
    "\n",
    "# item_mean\n",
    "train_rating_res -=  user_ave.predict(train_pair)\n",
    "item_ave = item_mean(n_item=n_item)\n",
    "item_ave.fit(train_pair=train_pair, train_ratings=train_rating_res)\n",
    "pred = pred + item_ave.predict(test_pair)\n",
    "\n",
    "train_rating_res -= item_ave.predict(train_pair)"
   ]
  },
  {
   "cell_type": "markdown",
   "metadata": {},
   "source": [
    "Train the NCF model with 100-dimensional vectors, 20 epochs"
   ]
  },
  {
   "cell_type": "code",
   "execution_count": 40,
   "metadata": {},
   "outputs": [
    {
     "name": "stdout",
     "output_type": "stream",
     "text": [
      "Epoch 1/20\n",
      "192/192 [==============================] - 2s 3ms/step - loss: 2.0217 - mae: 0.9021 - rmse: 1.1631 - val_loss: 1.3690 - val_mae: 0.9002 - val_rmse: 1.1674\n",
      "Epoch 2/20\n",
      "192/192 [==============================] - 0s 2ms/step - loss: 1.3532 - mae: 0.9019 - rmse: 1.1629 - val_loss: 1.3628 - val_mae: 0.9002 - val_rmse: 1.1674\n",
      "Epoch 3/20\n",
      "192/192 [==============================] - 0s 2ms/step - loss: 1.3523 - mae: 0.9019 - rmse: 1.1629 - val_loss: 1.3628 - val_mae: 0.9002 - val_rmse: 1.1674\n",
      "Epoch 4/20\n",
      "192/192 [==============================] - 1s 3ms/step - loss: 1.3523 - mae: 0.9019 - rmse: 1.1629 - val_loss: 1.3628 - val_mae: 0.9002 - val_rmse: 1.1674\n",
      "Epoch 5/20\n",
      "192/192 [==============================] - 0s 2ms/step - loss: 1.3523 - mae: 0.9019 - rmse: 1.1629 - val_loss: 1.3628 - val_mae: 0.9002 - val_rmse: 1.1674\n",
      "Epoch 6/20\n",
      "192/192 [==============================] - 1s 3ms/step - loss: 1.3523 - mae: 0.9019 - rmse: 1.1629 - val_loss: 1.3628 - val_mae: 0.9002 - val_rmse: 1.1674\n",
      "Epoch 7/20\n",
      "192/192 [==============================] - 0s 3ms/step - loss: 1.3523 - mae: 0.9019 - rmse: 1.1629 - val_loss: 1.3628 - val_mae: 0.9002 - val_rmse: 1.1674\n",
      "Epoch 8/20\n",
      "192/192 [==============================] - 0s 2ms/step - loss: 1.3523 - mae: 0.9019 - rmse: 1.1629 - val_loss: 1.3628 - val_mae: 0.9002 - val_rmse: 1.1674\n",
      "Epoch 9/20\n",
      "192/192 [==============================] - 1s 3ms/step - loss: 1.3523 - mae: 0.9019 - rmse: 1.1629 - val_loss: 1.3628 - val_mae: 0.9002 - val_rmse: 1.1674\n",
      "Epoch 10/20\n",
      "192/192 [==============================] - 0s 3ms/step - loss: 1.3523 - mae: 0.9019 - rmse: 1.1629 - val_loss: 1.3628 - val_mae: 0.9002 - val_rmse: 1.1674\n",
      "Epoch 11/20\n",
      "192/192 [==============================] - 0s 3ms/step - loss: 1.3523 - mae: 0.9019 - rmse: 1.1629 - val_loss: 1.3628 - val_mae: 0.9002 - val_rmse: 1.1674\n",
      "Epoch 12/20\n",
      "192/192 [==============================] - 0s 2ms/step - loss: 1.3523 - mae: 0.9019 - rmse: 1.1629 - val_loss: 1.3628 - val_mae: 0.9002 - val_rmse: 1.1674\n",
      "Epoch 13/20\n",
      "192/192 [==============================] - 1s 3ms/step - loss: 1.3523 - mae: 0.9019 - rmse: 1.1629 - val_loss: 1.3628 - val_mae: 0.9002 - val_rmse: 1.1674\n",
      "Epoch 14/20\n",
      "192/192 [==============================] - 0s 2ms/step - loss: 1.3523 - mae: 0.9019 - rmse: 1.1629 - val_loss: 1.3628 - val_mae: 0.9002 - val_rmse: 1.1674\n",
      "Epoch 15/20\n",
      "192/192 [==============================] - 1s 3ms/step - loss: 1.3523 - mae: 0.9019 - rmse: 1.1629 - val_loss: 1.3628 - val_mae: 0.9002 - val_rmse: 1.1674\n",
      "Epoch 16/20\n",
      "192/192 [==============================] - 0s 3ms/step - loss: 1.3523 - mae: 0.9019 - rmse: 1.1629 - val_loss: 1.3628 - val_mae: 0.9002 - val_rmse: 1.1674\n",
      "Epoch 17/20\n",
      "192/192 [==============================] - 1s 3ms/step - loss: 1.3523 - mae: 0.9019 - rmse: 1.1629 - val_loss: 1.3628 - val_mae: 0.9002 - val_rmse: 1.1674\n",
      "Epoch 18/20\n",
      "192/192 [==============================] - 0s 2ms/step - loss: 1.3523 - mae: 0.9019 - rmse: 1.1629 - val_loss: 1.3628 - val_mae: 0.9002 - val_rmse: 1.1674\n",
      "Epoch 19/20\n",
      "192/192 [==============================] - 0s 2ms/step - loss: 1.3523 - mae: 0.9019 - rmse: 1.1629 - val_loss: 1.3628 - val_mae: 0.9002 - val_rmse: 1.1674\n",
      "Epoch 20/20\n",
      "192/192 [==============================] - 0s 2ms/step - loss: 1.3523 - mae: 0.9019 - rmse: 1.1629 - val_loss: 1.3628 - val_mae: 0.9002 - val_rmse: 1.1674\n"
     ]
    }
   ],
   "source": [
    "model = LFactorNet(num_users=n_user, num_items=n_item, embedding_size=100)\n",
    "\n",
    "\n",
    "metrics = [\n",
    "    keras.metrics.MeanAbsoluteError(name='mae'),\n",
    "    keras.metrics.RootMeanSquaredError(name='rmse')\n",
    "]\n",
    "\n",
    "model.compile(\n",
    "    optimizer=keras.optimizers.Adam(1e-3), \n",
    "    loss=tf.keras.losses.MeanSquaredError(), \n",
    "    metrics=metrics\n",
    ")\n",
    "\n",
    "callbacks = [keras.callbacks.EarlyStopping( \n",
    "    monitor='val_rmse', min_delta=0, patience=5, verbose=1, \n",
    "    mode='auto', baseline=None, restore_best_weights=True)]\n",
    "\n",
    "history = model.fit(\n",
    "    x=train_pair,\n",
    "    y=train_rating_res,\n",
    "    batch_size=64,\n",
    "    epochs=20,\n",
    "    verbose=1,\n",
    "    validation_split=.2,\n",
    ")"
   ]
  },
  {
   "cell_type": "markdown",
   "metadata": {},
   "source": [
    "### RMSE of Training Dataset"
   ]
  },
  {
   "cell_type": "code",
   "execution_count": 74,
   "metadata": {},
   "outputs": [
    {
     "data": {
      "text/plain": [
       "1.1637926707361146"
      ]
     },
     "execution_count": 74,
     "metadata": {},
     "output_type": "execute_result"
    }
   ],
   "source": [
    "train_pred_rating = glb_ave.predict(train_pair) + user_ave.predict(train_pair) + item_ave.predict(train_pair) + model.predict(train_pair).flatten()\n",
    "rmse(train_rating, train_pred_rating)"
   ]
  },
  {
   "cell_type": "markdown",
   "metadata": {},
   "source": [
    "## Adjustment for Final Prediction"
   ]
  },
  {
   "cell_type": "code",
   "execution_count": 78,
   "metadata": {},
   "outputs": [
    {
     "data": {
      "image/png": "[encoded data removed]",
      "text/plain": [
       "<Figure size 432x288 with 1 Axes>"
      ]
     },
     "metadata": {},
     "output_type": "display_data"
    }
   ],
   "source": [
    "g = sns.histplot(x = train_pred_rating)\n",
    "g.set(title = \"Histogram of Predicted Rating\")\n",
    "plt.show(g)"
   ]
  },
  {
   "cell_type": "markdown",
   "metadata": {},
   "source": [
    "We can see the distribution of the prediction is similar to training rating. However, the prediction should be within [0, 15]"
   ]
  },
  {
   "cell_type": "markdown",
   "metadata": {},
   "source": [
    "### Predict within [0, 15]"
   ]
  },
  {
   "cell_type": "code",
   "execution_count": 70,
   "metadata": {},
   "outputs": [],
   "source": [
    "def adjust(pred_rating, score_min, score_max):\n",
    "    pred_rating_adjusted = pred_rating.copy()\n",
    "    pred_rating_adjusted[pred_rating > score_max] = score_max\n",
    "    pred_rating_adjusted[pred_rating < score_min] = score_min\n",
    "    return pred_rating_adjusted"
   ]
  },
  {
   "cell_type": "markdown",
   "metadata": {},
   "source": [
    "### Adjust the Fractional Part\n",
    "If the fractioanl part < 0.1, then round it down\n",
    "If the fractional part > 0.9, then round it up"
   ]
  },
  {
   "cell_type": "code",
   "execution_count": 71,
   "metadata": {},
   "outputs": [],
   "source": [
    "def adjust_frac(pred_rating, frac_lower, frac_upper):\n",
    "    frac = pred_rating - np.fix(pred_rating)\n",
    "    \n",
    "    pred_rating_adjusted = pred_rating.copy()\n",
    "    pred_rating_adjusted[(frac< frac_lower) | (frac > frac_upper)] = pred_rating[(frac< frac_lower) | (frac > frac_upper)].round()\n",
    "    return pred_rating_adjusted"
   ]
  },
  {
   "cell_type": "markdown",
   "metadata": {},
   "source": [
    "### RMSE after Adjustment"
   ]
  },
  {
   "cell_type": "code",
   "execution_count": 87,
   "metadata": {},
   "outputs": [
    {
     "data": {
      "image/png": "[encoded data removed]",
      "text/plain": [
       "<Figure size 432x288 with 1 Axes>"
      ]
     },
     "metadata": {},
     "output_type": "display_data"
    },
    {
     "data": {
      "text/plain": [
       "1.143303752957184"
      ]
     },
     "execution_count": 87,
     "metadata": {},
     "output_type": "execute_result"
    }
   ],
   "source": [
    "train_pred_rating = adjust(train_pred_rating, 0, 15)\n",
    "g = sns.histplot(x = train_pred_rating)\n",
    "g.set(title = \"Histogram of Predicted Rating\", xticks = range(0, 15+1, 3))\n",
    "plt.show(g)\n",
    "rmse(train_rating, train_pred_rating)"
   ]
  },
  {
   "cell_type": "code",
   "execution_count": 82,
   "metadata": {},
   "outputs": [
    {
     "data": {
      "image/png": "[encoded data removed]",
      "text/plain": [
       "<Figure size 432x288 with 1 Axes>"
      ]
     },
     "metadata": {},
     "output_type": "display_data"
    },
    {
     "data": {
      "text/plain": [
       "1.143303752957184"
      ]
     },
     "execution_count": 82,
     "metadata": {},
     "output_type": "execute_result"
    }
   ],
   "source": [
    "train_pred_rating = adjust_frac(train_pred_rating, 0.1, 0.9)\n",
    "g = sns.histplot(x = train_pred_rating)\n",
    "g.set(title = \"Histogram of Predicted Rating\", xticks = range(0, 15+1, 3))\n",
    "plt.show(g)\n",
    "rmse(train_rating, train_pred_rating)"
   ]
  },
  {
   "cell_type": "markdown",
   "metadata": {},
   "source": [
    "We can see adjustment of the fractional part does not decrease the RMSE."
   ]
  },
  {
   "cell_type": "markdown",
   "metadata": {},
   "source": [
    "## Final Prediction"
   ]
  },
  {
   "cell_type": "code",
   "execution_count": 92,
   "metadata": {},
   "outputs": [
    {
     "name": "stdout",
     "output_type": "stream",
     "text": [
      "[2.48521862 4.77526723 4.7357608  ... 3.62452553 9.98011706 4.5890244 ]\n"
     ]
    },
    {
     "data": {
      "image/png": "[encoded data removed]",
      "text/plain": [
       "<Figure size 432x288 with 1 Axes>"
      ]
     },
     "metadata": {},
     "output_type": "display_data"
    }
   ],
   "source": [
    "pred_rating = pred + model.predict(test_pair).flatten()\n",
    "pred_rating = np.array(pred_rating)\n",
    "pred_rating = adjust(pred_rating, 0, 15)\n",
    "print(pred_rating)\n",
    "\n",
    "g = sns.histplot(x = pred_rating)\n",
    "g.set(title = \"Histogram of Final Prediction\", xticks = range(15+1))\n",
    "plt.show(g)"
   ]
  },
  {
   "cell_type": "markdown",
   "metadata": {},
   "source": [
    "# Result\n",
    "This part is contributed by `TSOI Tung Sing 1155127274`\n",
    "## Save to csv with timestamp"
   ]
  },
  {
   "cell_type": "code",
   "execution_count": 20,
   "metadata": {},
   "outputs": [],
   "source": [
    "from datetime import datetime\n",
    "nowTime = datetime.now().strftime(\"%Y-%m-%d_%H-%M\")\n",
    "\n",
    "method = \"glb_user_item_NCF\"\n",
    "fileName = \"predict/{method}_{nowTime}.csv\".format(method = method, nowTime = nowTime)\n",
    "\n",
    "submit = pd.DataFrame({\"id\": range(len(dtest)), \"rating\": pred_rating})\n",
    "submit.to_csv(fileName, index = False)"
   ]
  },
  {
   "cell_type": "markdown",
   "metadata": {},
   "source": [
    "## Print T-th record"
   ]
  },
  {
   "cell_type": "code",
   "execution_count": 93,
   "metadata": {},
   "outputs": [
    {
     "name": "stdout",
     "output_type": "stream",
     "text": [
      "T-th test_pair:  [124 103]\n",
      "T-th predicted rating:  1.892751620991472\n"
     ]
    }
   ],
   "source": [
    "t = 9315\n",
    "t = 315 # there are only 3826 rows in test.csv, change t to 315\n",
    "\n",
    "print(\"T-th test_pair: \", test_pair[t])\n",
    "print(\"T-th predicted rating: \", pred_rating[t])"
   ]
  },
  {
   "cell_type": "markdown",
   "metadata": {},
   "source": [
    "## Print Top-5 Preferred Items based on `pred_rating`"
   ]
  },
  {
   "cell_type": "code",
   "execution_count": 94,
   "metadata": {},
   "outputs": [
    {
     "data": {
      "text/html": [
       "<div>\n",
       "<style scoped>\n",
       "    .dataframe tbody tr th:only-of-type {\n",
       "        vertical-align: middle;\n",
       "    }\n",
       "\n",
       "    .dataframe tbody tr th {\n",
       "        vertical-align: top;\n",
       "    }\n",
       "\n",
       "    .dataframe thead th {\n",
       "        text-align: right;\n",
       "    }\n",
       "</style>\n",
       "<table border=\"1\" class=\"dataframe\">\n",
       "  <thead>\n",
       "    <tr style=\"text-align: right;\">\n",
       "      <th></th>\n",
       "      <th>item_id</th>\n",
       "      <th>rating</th>\n",
       "    </tr>\n",
       "  </thead>\n",
       "  <tbody>\n",
       "    <tr>\n",
       "      <th>2521</th>\n",
       "      <td>952</td>\n",
       "      <td>6.356096</td>\n",
       "    </tr>\n",
       "    <tr>\n",
       "      <th>2687</th>\n",
       "      <td>178</td>\n",
       "      <td>4.913444</td>\n",
       "    </tr>\n",
       "    <tr>\n",
       "      <th>2350</th>\n",
       "      <td>947</td>\n",
       "      <td>4.799069</td>\n",
       "    </tr>\n",
       "    <tr>\n",
       "      <th>255</th>\n",
       "      <td>96</td>\n",
       "      <td>4.774183</td>\n",
       "    </tr>\n",
       "    <tr>\n",
       "      <th>1678</th>\n",
       "      <td>295</td>\n",
       "      <td>4.392175</td>\n",
       "    </tr>\n",
       "  </tbody>\n",
       "</table>\n",
       "</div>"
      ],
      "text/plain": [
       "      item_id    rating\n",
       "2521      952  6.356096\n",
       "2687      178  4.913444\n",
       "2350      947  4.799069\n",
       "255        96  4.774183\n",
       "1678      295  4.392175"
      ]
     },
     "execution_count": 94,
     "metadata": {},
     "output_type": "execute_result"
    }
   ],
   "source": [
    "user_id_t = test_pair[t, 0]\n",
    "index = dtest[dtest[\"user_id\"] == user_id_t].index\n",
    "pred_t = pd.DataFrame({\"item_id\": dtest[\"item_id\"][index], \"rating\": pred_rating[index]})\n",
    "pred_t.sort_values(\"rating\", ascending = False, inplace = True)\n",
    "pred_t[:5]"
   ]
  },
  {
   "cell_type": "markdown",
   "metadata": {},
   "source": [
    "## Print Top-5 Preferred Items (including items may not been seen by the user)"
   ]
  },
  {
   "cell_type": "code",
   "execution_count": 95,
   "metadata": {},
   "outputs": [
    {
     "data": {
      "text/html": [
       "<div>\n",
       "<style scoped>\n",
       "    .dataframe tbody tr th:only-of-type {\n",
       "        vertical-align: middle;\n",
       "    }\n",
       "\n",
       "    .dataframe tbody tr th {\n",
       "        vertical-align: top;\n",
       "    }\n",
       "\n",
       "    .dataframe thead th {\n",
       "        text-align: right;\n",
       "    }\n",
       "</style>\n",
       "<table border=\"1\" class=\"dataframe\">\n",
       "  <thead>\n",
       "    <tr style=\"text-align: right;\">\n",
       "      <th></th>\n",
       "      <th>item_id</th>\n",
       "      <th>rating</th>\n",
       "    </tr>\n",
       "  </thead>\n",
       "  <tbody>\n",
       "    <tr>\n",
       "      <th>252</th>\n",
       "      <td>252</td>\n",
       "      <td>13.160800</td>\n",
       "    </tr>\n",
       "    <tr>\n",
       "      <th>117</th>\n",
       "      <td>117</td>\n",
       "      <td>12.661375</td>\n",
       "    </tr>\n",
       "    <tr>\n",
       "      <th>4</th>\n",
       "      <td>4</td>\n",
       "      <td>12.101098</td>\n",
       "    </tr>\n",
       "    <tr>\n",
       "      <th>653</th>\n",
       "      <td>653</td>\n",
       "      <td>10.993568</td>\n",
       "    </tr>\n",
       "    <tr>\n",
       "      <th>943</th>\n",
       "      <td>943</td>\n",
       "      <td>10.805256</td>\n",
       "    </tr>\n",
       "  </tbody>\n",
       "</table>\n",
       "</div>"
      ],
      "text/plain": [
       "     item_id     rating\n",
       "252      252  13.160800\n",
       "117      117  12.661375\n",
       "4          4  12.101098\n",
       "653      653  10.993568\n",
       "943      943  10.805256"
      ]
     },
     "execution_count": 95,
     "metadata": {},
     "output_type": "execute_result"
    }
   ],
   "source": [
    "test_pair_t = np.array([[user_id_t, item] for item in range(n_item)])\n",
    "pred_rating_t = glb_ave.predict(test_pair_t) + user_ave.predict(test_pair_t) + item_ave.predict(test_pair_t) + model.predict(test_pair_t).flatten()\n",
    "pred_t = pd.DataFrame({\"item_id\": range(n_item), \"rating\": adjust(pred_rating_t, 0, 15)})\n",
    "pred_t.sort_values(\"rating\", ascending = False, inplace = True)\n",
    "pred_t[:5]"
   ]
  }
 ],
 "metadata": {
  "interpreter": {
   "hash": "5129930097a52138fdc5ab816b09a2f27e944ad02f83c97d5e0e22f93f3b8c3c"
  },
  "kernelspec": {
   "display_name": "Python 3.9.7 64-bit (windows store)",
   "name": "python3"
  },
  "language_info": {
   "codemirror_mode": {
    "name": "ipython",
    "version": 3
   },
   "file_extension": ".py",
   "mimetype": "text/x-python",
   "name": "python",
   "nbconvert_exporter": "python",
   "pygments_lexer": "ipython3",
   "version": "3.9.7"
  },
  "orig_nbformat": 4
 },
 "nbformat": 4,
 "nbformat_minor": 2
}
