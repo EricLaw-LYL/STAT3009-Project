{
 "cells": [
  {
   "cell_type": "code",
   "execution_count": 1,
   "id": "ad10ca71",
   "metadata": {},
   "outputs": [],
   "source": [
    "import numpy as np\n",
    "import pandas as pd\n",
    "from datetime import datetime\n",
    "from numpy.linalg import norm\n",
    "\n",
    "from scipy.sparse import lil_matrix\n",
    "\n",
    "from sklearn import preprocessing\n",
    "from sklearn.preprocessing import StandardScaler\n",
    "from sklearn.impute import SimpleImputer\n",
    "from sklearn.linear_model import LinearRegression\n",
    "from sklearn.ensemble import RandomForestRegressor\n",
    "\n",
    "from sklearn.metrics.pairwise import cosine_similarity\n",
    "from sklearn.ensemble import RandomForestClassifier\n",
    "from sklearn.datasets import make_classification"
   ]
  },
  {
   "cell_type": "markdown",
   "id": "bee52403",
   "metadata": {},
   "source": [
    "# Load datasets"
   ]
  },
  {
   "cell_type": "code",
   "execution_count": 2,
   "id": "f36a734b",
   "metadata": {},
   "outputs": [],
   "source": [
    "train_rating = pd.read_csv(\"../data/train_rating.csv\")\n",
    "test_pair = pd.read_csv(\"../data/test_pair.csv\")\n",
    "\n",
    "item_feat = pd.read_csv(\"../data/item_feats.csv\")\n",
    "user_feat = pd.read_csv(\"../data/user_feats.csv\")\n",
    "\n",
    "sub = pd.read_csv('../predict/sample_submission.csv')"
   ]
  },
  {
   "cell_type": "markdown",
   "id": "e76a3d6e",
   "metadata": {},
   "source": [
    "# EDA"
   ]
  },
  {
   "cell_type": "markdown",
   "id": "e74e67b3",
   "metadata": {},
   "source": [
    "## Data Types\n",
    "* UserId, ItemId : str\n",
    "* rating : float \n",
    "* side information V1, V3 in item_feat are int -> Discrete Type RV\n",
    "* side information V2 in item_feat is float -> Continuous Type RV\n",
    "* side information V1 in user_feat is float -> Continuous Type RV\n",
    "* side information V2, V3, V4 in user_feat are int -> Discrete Type RV"
   ]
  },
  {
   "cell_type": "markdown",
   "id": "3aaddf19",
   "metadata": {},
   "source": [
    "### test_pair"
   ]
  },
  {
   "cell_type": "code",
   "execution_count": 3,
   "id": "d2e0d195",
   "metadata": {},
   "outputs": [
    {
     "name": "stdout",
     "output_type": "stream",
     "text": [
      "UserId data type:  <class 'str'>\n",
      "ItemId data type:  <class 'str'>\n"
     ]
    },
    {
     "data": {
      "text/html": [
       "<div>\n",
       "<style scoped>\n",
       "    .dataframe tbody tr th:only-of-type {\n",
       "        vertical-align: middle;\n",
       "    }\n",
       "\n",
       "    .dataframe tbody tr th {\n",
       "        vertical-align: top;\n",
       "    }\n",
       "\n",
       "    .dataframe thead th {\n",
       "        text-align: right;\n",
       "    }\n",
       "</style>\n",
       "<table border=\"1\" class=\"dataframe\">\n",
       "  <thead>\n",
       "    <tr style=\"text-align: right;\">\n",
       "      <th></th>\n",
       "      <th>UserId</th>\n",
       "      <th>ItemId</th>\n",
       "    </tr>\n",
       "  </thead>\n",
       "  <tbody>\n",
       "    <tr>\n",
       "      <th>0</th>\n",
       "      <td>DCC1A9</td>\n",
       "      <td>282298</td>\n",
       "    </tr>\n",
       "    <tr>\n",
       "      <th>1</th>\n",
       "      <td>895206</td>\n",
       "      <td>A9D3D8</td>\n",
       "    </tr>\n",
       "    <tr>\n",
       "      <th>2</th>\n",
       "      <td>C38E32</td>\n",
       "      <td>38D5EE</td>\n",
       "    </tr>\n",
       "  </tbody>\n",
       "</table>\n",
       "</div>"
      ],
      "text/plain": [
       "   UserId  ItemId\n",
       "0  DCC1A9  282298\n",
       "1  895206  A9D3D8\n",
       "2  C38E32  38D5EE"
      ]
     },
     "execution_count": 3,
     "metadata": {},
     "output_type": "execute_result"
    }
   ],
   "source": [
    "print('UserId data type: ' , type(test_pair['UserId'][0]) ) \n",
    "print('ItemId data type: ' , type(item_feat['ItemId'][0]) )\n",
    "test_pair.head(3)"
   ]
  },
  {
   "cell_type": "markdown",
   "id": "c2b96043",
   "metadata": {},
   "source": [
    "### item_feat"
   ]
  },
  {
   "cell_type": "code",
   "execution_count": 4,
   "id": "d07eb6d3",
   "metadata": {},
   "outputs": [
    {
     "name": "stdout",
     "output_type": "stream",
     "text": [
      "ItemId data type:  <class 'str'>\n",
      "V1 data type:  <class 'numpy.int64'>\n",
      "V2 data type:  <class 'numpy.float64'>\n",
      "V3 data type:  <class 'numpy.int64'>\n"
     ]
    },
    {
     "data": {
      "text/html": [
       "<div>\n",
       "<style scoped>\n",
       "    .dataframe tbody tr th:only-of-type {\n",
       "        vertical-align: middle;\n",
       "    }\n",
       "\n",
       "    .dataframe tbody tr th {\n",
       "        vertical-align: top;\n",
       "    }\n",
       "\n",
       "    .dataframe thead th {\n",
       "        text-align: right;\n",
       "    }\n",
       "</style>\n",
       "<table border=\"1\" class=\"dataframe\">\n",
       "  <thead>\n",
       "    <tr style=\"text-align: right;\">\n",
       "      <th></th>\n",
       "      <th>ItemId</th>\n",
       "      <th>V1</th>\n",
       "      <th>V2</th>\n",
       "      <th>V3</th>\n",
       "    </tr>\n",
       "  </thead>\n",
       "  <tbody>\n",
       "    <tr>\n",
       "      <th>0</th>\n",
       "      <td>9AF5AA</td>\n",
       "      <td>8366</td>\n",
       "      <td>7.496452</td>\n",
       "      <td>2041</td>\n",
       "    </tr>\n",
       "    <tr>\n",
       "      <th>1</th>\n",
       "      <td>960857</td>\n",
       "      <td>10416</td>\n",
       "      <td>7.686800</td>\n",
       "      <td>1247</td>\n",
       "    </tr>\n",
       "    <tr>\n",
       "      <th>2</th>\n",
       "      <td>3FC7E9</td>\n",
       "      <td>1670</td>\n",
       "      <td>7.635397</td>\n",
       "      <td>1248</td>\n",
       "    </tr>\n",
       "  </tbody>\n",
       "</table>\n",
       "</div>"
      ],
      "text/plain": [
       "   ItemId     V1        V2    V3\n",
       "0  9AF5AA   8366  7.496452  2041\n",
       "1  960857  10416  7.686800  1247\n",
       "2  3FC7E9   1670  7.635397  1248"
      ]
     },
     "execution_count": 4,
     "metadata": {},
     "output_type": "execute_result"
    }
   ],
   "source": [
    "print('ItemId data type: ' , type(item_feat['ItemId'][0]) ) \n",
    "print('V1 data type: ' , type(item_feat['V1'][0]) )\n",
    "print('V2 data type: ' , type(item_feat['V2'][0]) )\n",
    "print('V3 data type: ' , type(item_feat['V3'][0]) )\n",
    "item_feat.head(3)"
   ]
  },
  {
   "cell_type": "markdown",
   "id": "84d933d8",
   "metadata": {},
   "source": [
    "### train_rating"
   ]
  },
  {
   "cell_type": "code",
   "execution_count": 5,
   "id": "86de2cd7",
   "metadata": {},
   "outputs": [
    {
     "name": "stdout",
     "output_type": "stream",
     "text": [
      "UserId data type:  <class 'str'>\n",
      "ItemId data type:  <class 'str'>\n",
      "rating data type:  <class 'numpy.float64'>\n"
     ]
    },
    {
     "data": {
      "text/html": [
       "<div>\n",
       "<style scoped>\n",
       "    .dataframe tbody tr th:only-of-type {\n",
       "        vertical-align: middle;\n",
       "    }\n",
       "\n",
       "    .dataframe tbody tr th {\n",
       "        vertical-align: top;\n",
       "    }\n",
       "\n",
       "    .dataframe thead th {\n",
       "        text-align: right;\n",
       "    }\n",
       "</style>\n",
       "<table border=\"1\" class=\"dataframe\">\n",
       "  <thead>\n",
       "    <tr style=\"text-align: right;\">\n",
       "      <th></th>\n",
       "      <th>UserId</th>\n",
       "      <th>ItemId</th>\n",
       "      <th>rating</th>\n",
       "    </tr>\n",
       "  </thead>\n",
       "  <tbody>\n",
       "    <tr>\n",
       "      <th>0</th>\n",
       "      <td>A22818</td>\n",
       "      <td>70621F</td>\n",
       "      <td>0.0</td>\n",
       "    </tr>\n",
       "    <tr>\n",
       "      <th>1</th>\n",
       "      <td>36B488</td>\n",
       "      <td>16553B</td>\n",
       "      <td>0.0</td>\n",
       "    </tr>\n",
       "    <tr>\n",
       "      <th>2</th>\n",
       "      <td>AB1C55</td>\n",
       "      <td>035CDE</td>\n",
       "      <td>0.0</td>\n",
       "    </tr>\n",
       "  </tbody>\n",
       "</table>\n",
       "</div>"
      ],
      "text/plain": [
       "   UserId  ItemId  rating\n",
       "0  A22818  70621F     0.0\n",
       "1  36B488  16553B     0.0\n",
       "2  AB1C55  035CDE     0.0"
      ]
     },
     "execution_count": 5,
     "metadata": {},
     "output_type": "execute_result"
    }
   ],
   "source": [
    "print('UserId data type: ' , type(train_rating['UserId'][0]) ) \n",
    "print('ItemId data type: ' , type(train_rating['ItemId'][0]) )\n",
    "print('rating data type: ' , type(train_rating['rating'][0]) )\n",
    "train_rating.head(3)"
   ]
  },
  {
   "cell_type": "markdown",
   "id": "b284acc7",
   "metadata": {},
   "source": [
    "### user_feat"
   ]
  },
  {
   "cell_type": "code",
   "execution_count": 7,
   "id": "29dfdb49",
   "metadata": {},
   "outputs": [
    {
     "name": "stdout",
     "output_type": "stream",
     "text": [
      "UserId data type:  <class 'str'>\n",
      "V1 data type:  <class 'numpy.float64'>\n",
      "V2 data type:  <class 'numpy.int64'>\n",
      "V3 data type:  <class 'numpy.int64'>\n",
      "V4 data type:  <class 'numpy.int64'>\n"
     ]
    },
    {
     "data": {
      "text/html": [
       "<div>\n",
       "<style scoped>\n",
       "    .dataframe tbody tr th:only-of-type {\n",
       "        vertical-align: middle;\n",
       "    }\n",
       "\n",
       "    .dataframe tbody tr th {\n",
       "        vertical-align: top;\n",
       "    }\n",
       "\n",
       "    .dataframe thead th {\n",
       "        text-align: right;\n",
       "    }\n",
       "</style>\n",
       "<table border=\"1\" class=\"dataframe\">\n",
       "  <thead>\n",
       "    <tr style=\"text-align: right;\">\n",
       "      <th></th>\n",
       "      <th>UserId</th>\n",
       "      <th>V1</th>\n",
       "      <th>V2</th>\n",
       "      <th>V3</th>\n",
       "      <th>V4</th>\n",
       "    </tr>\n",
       "  </thead>\n",
       "  <tbody>\n",
       "    <tr>\n",
       "      <th>0</th>\n",
       "      <td>1CDE4D</td>\n",
       "      <td>NaN</td>\n",
       "      <td>5233</td>\n",
       "      <td>982</td>\n",
       "      <td>330</td>\n",
       "    </tr>\n",
       "    <tr>\n",
       "      <th>1</th>\n",
       "      <td>1FEE19</td>\n",
       "      <td>2.896804</td>\n",
       "      <td>6968</td>\n",
       "      <td>262</td>\n",
       "      <td>330</td>\n",
       "    </tr>\n",
       "    <tr>\n",
       "      <th>2</th>\n",
       "      <td>B14416</td>\n",
       "      <td>NaN</td>\n",
       "      <td>4787</td>\n",
       "      <td>1608</td>\n",
       "      <td>267</td>\n",
       "    </tr>\n",
       "  </tbody>\n",
       "</table>\n",
       "</div>"
      ],
      "text/plain": [
       "   UserId        V1    V2    V3   V4\n",
       "0  1CDE4D       NaN  5233   982  330\n",
       "1  1FEE19  2.896804  6968   262  330\n",
       "2  B14416       NaN  4787  1608  267"
      ]
     },
     "execution_count": 7,
     "metadata": {},
     "output_type": "execute_result"
    }
   ],
   "source": [
    "print('UserId data type: ' , type(user_feat['UserId'][0]) ) \n",
    "print('V1 data type: ' , type(user_feat['V1'][0]) )\n",
    "print('V2 data type: ' , type(user_feat['V2'][0]) )\n",
    "print('V3 data type: ' , type(user_feat['V3'][0]) )\n",
    "print('V4 data type: ' , type(user_feat['V4'][0]) )\n",
    "user_feat.head(3)"
   ]
  },
  {
   "cell_type": "markdown",
   "id": "bfca8f2b",
   "metadata": {},
   "source": [
    "## No. of Users and Items \n",
    "* No. of Users = 5766\n",
    "* No. of items = 20251"
   ]
  },
  {
   "cell_type": "code",
   "execution_count": 8,
   "id": "b2a4e929",
   "metadata": {},
   "outputs": [
    {
     "name": "stdout",
     "output_type": "stream",
     "text": [
      "n_user in training = 27000\n",
      "n_item in training = 26000\n"
     ]
    }
   ],
   "source": [
    "n_user = len(set(user_feat[\"UserId\"]))\n",
    "print(\"n_user in training =\", n_user)\n",
    "n_item = len(set(item_feat[\"ItemId\"]))\n",
    "print(\"n_item in training =\", n_item)"
   ]
  },
  {
   "cell_type": "markdown",
   "id": "0e1e2b75",
   "metadata": {},
   "source": [
    "## Check no. of users who didn't rate any item"
   ]
  },
  {
   "cell_type": "code",
   "execution_count": 9,
   "id": "045c1669",
   "metadata": {},
   "outputs": [
    {
     "name": "stdout",
     "output_type": "stream",
     "text": [
      "No. of no rating users: 21234\n"
     ]
    }
   ],
   "source": [
    "no_rating_users = user_feat.set_index('UserId').index.difference(train_rating.set_index('UserId').index)\n",
    "print(\"No. of no rating users:\", len(no_rating_users) )"
   ]
  },
  {
   "cell_type": "markdown",
   "id": "170bf04a",
   "metadata": {},
   "source": [
    "## Check no. of items which didn't recieve any rating"
   ]
  },
  {
   "cell_type": "code",
   "execution_count": 10,
   "id": "d7334d2a",
   "metadata": {},
   "outputs": [
    {
     "name": "stdout",
     "output_type": "stream",
     "text": [
      "No. of no rating items: 5749\n"
     ]
    }
   ],
   "source": [
    "no_rating_items = item_feat.set_index('ItemId').index.difference(train_rating.set_index('ItemId').index)\n",
    "print(\"No. of no rating items:\", len(no_rating_items) )"
   ]
  },
  {
   "cell_type": "markdown",
   "id": "e519bf78",
   "metadata": {},
   "source": [
    "## Correlation between variables and rating"
   ]
  },
  {
   "cell_type": "markdown",
   "id": "6b733231",
   "metadata": {},
   "source": [
    "### Correlation between user features variables and rating \n",
    "* User_mean_ratings are not linear correlated with uesr features \n",
    "* V1, V2, V3, V4 in user features are not really linear correlated\n",
    "* V1 and V4 has the highest correlation but still around 0.1 "
   ]
  },
  {
   "cell_type": "code",
   "execution_count": 11,
   "id": "b574ec06",
   "metadata": {},
   "outputs": [
    {
     "data": {
      "text/html": [
       "<div>\n",
       "<style scoped>\n",
       "    .dataframe tbody tr th:only-of-type {\n",
       "        vertical-align: middle;\n",
       "    }\n",
       "\n",
       "    .dataframe tbody tr th {\n",
       "        vertical-align: top;\n",
       "    }\n",
       "\n",
       "    .dataframe thead th {\n",
       "        text-align: right;\n",
       "    }\n",
       "</style>\n",
       "<table border=\"1\" class=\"dataframe\">\n",
       "  <thead>\n",
       "    <tr style=\"text-align: right;\">\n",
       "      <th></th>\n",
       "      <th>rating</th>\n",
       "      <th>V1</th>\n",
       "      <th>V2</th>\n",
       "      <th>V3</th>\n",
       "      <th>V4</th>\n",
       "    </tr>\n",
       "  </thead>\n",
       "  <tbody>\n",
       "    <tr>\n",
       "      <th>rating</th>\n",
       "      <td>1.000000</td>\n",
       "      <td>0.006956</td>\n",
       "      <td>-0.008383</td>\n",
       "      <td>-0.024794</td>\n",
       "      <td>0.073029</td>\n",
       "    </tr>\n",
       "    <tr>\n",
       "      <th>V1</th>\n",
       "      <td>0.006956</td>\n",
       "      <td>1.000000</td>\n",
       "      <td>-0.001254</td>\n",
       "      <td>-0.010570</td>\n",
       "      <td>0.101653</td>\n",
       "    </tr>\n",
       "    <tr>\n",
       "      <th>V2</th>\n",
       "      <td>-0.008383</td>\n",
       "      <td>-0.001254</td>\n",
       "      <td>1.000000</td>\n",
       "      <td>0.060035</td>\n",
       "      <td>-0.044762</td>\n",
       "    </tr>\n",
       "    <tr>\n",
       "      <th>V3</th>\n",
       "      <td>-0.024794</td>\n",
       "      <td>-0.010570</td>\n",
       "      <td>0.060035</td>\n",
       "      <td>1.000000</td>\n",
       "      <td>-0.004453</td>\n",
       "    </tr>\n",
       "    <tr>\n",
       "      <th>V4</th>\n",
       "      <td>0.073029</td>\n",
       "      <td>0.101653</td>\n",
       "      <td>-0.044762</td>\n",
       "      <td>-0.004453</td>\n",
       "      <td>1.000000</td>\n",
       "    </tr>\n",
       "  </tbody>\n",
       "</table>\n",
       "</div>"
      ],
      "text/plain": [
       "          rating        V1        V2        V3        V4\n",
       "rating  1.000000  0.006956 -0.008383 -0.024794  0.073029\n",
       "V1      0.006956  1.000000 -0.001254 -0.010570  0.101653\n",
       "V2     -0.008383 -0.001254  1.000000  0.060035 -0.044762\n",
       "V3     -0.024794 -0.010570  0.060035  1.000000 -0.004453\n",
       "V4      0.073029  0.101653 -0.044762 -0.004453  1.000000"
      ]
     },
     "execution_count": 11,
     "metadata": {},
     "output_type": "execute_result"
    }
   ],
   "source": [
    "# get user mean rating\n",
    "user_mean = train_rating[['UserId','rating']].groupby(['UserId']).mean()\n",
    "# concat features and rationg\n",
    "user_mean_rating = pd.concat([user_mean, user_feat.set_index('UserId')], axis =1)\n",
    "user_mean_rating.corr()"
   ]
  },
  {
   "cell_type": "code",
   "execution_count": 12,
   "id": "5a5b0796",
   "metadata": {},
   "outputs": [
    {
     "data": {
      "image/png": "[encoded data removed]",
      "text/plain": [
       "<Figure size 432x288 with 2 Axes>"
      ]
     },
     "metadata": {
      "needs_background": "light"
     },
     "output_type": "display_data"
    }
   ],
   "source": [
    "import seaborn as sns\n",
    "ax = sns.heatmap(user_mean_rating.corr())"
   ]
  },
  {
   "cell_type": "markdown",
   "id": "4cf49cca",
   "metadata": {},
   "source": [
    "### item_feat side info variables\n",
    "* Item_mean_ratings are not linear correlated with item features \n",
    "* V1, V2, V3 in item features are not linear correlated"
   ]
  },
  {
   "cell_type": "code",
   "execution_count": 13,
   "id": "97175eb0",
   "metadata": {},
   "outputs": [
    {
     "data": {
      "text/html": [
       "<div>\n",
       "<style scoped>\n",
       "    .dataframe tbody tr th:only-of-type {\n",
       "        vertical-align: middle;\n",
       "    }\n",
       "\n",
       "    .dataframe tbody tr th {\n",
       "        vertical-align: top;\n",
       "    }\n",
       "\n",
       "    .dataframe thead th {\n",
       "        text-align: right;\n",
       "    }\n",
       "</style>\n",
       "<table border=\"1\" class=\"dataframe\">\n",
       "  <thead>\n",
       "    <tr style=\"text-align: right;\">\n",
       "      <th></th>\n",
       "      <th>rating</th>\n",
       "      <th>V1</th>\n",
       "      <th>V2</th>\n",
       "      <th>V3</th>\n",
       "    </tr>\n",
       "  </thead>\n",
       "  <tbody>\n",
       "    <tr>\n",
       "      <th>rating</th>\n",
       "      <td>1.000000</td>\n",
       "      <td>0.001805</td>\n",
       "      <td>0.004561</td>\n",
       "      <td>0.001998</td>\n",
       "    </tr>\n",
       "    <tr>\n",
       "      <th>V1</th>\n",
       "      <td>0.001805</td>\n",
       "      <td>1.000000</td>\n",
       "      <td>-0.007890</td>\n",
       "      <td>0.040643</td>\n",
       "    </tr>\n",
       "    <tr>\n",
       "      <th>V2</th>\n",
       "      <td>0.004561</td>\n",
       "      <td>-0.007890</td>\n",
       "      <td>1.000000</td>\n",
       "      <td>0.007543</td>\n",
       "    </tr>\n",
       "    <tr>\n",
       "      <th>V3</th>\n",
       "      <td>0.001998</td>\n",
       "      <td>0.040643</td>\n",
       "      <td>0.007543</td>\n",
       "      <td>1.000000</td>\n",
       "    </tr>\n",
       "  </tbody>\n",
       "</table>\n",
       "</div>"
      ],
      "text/plain": [
       "          rating        V1        V2        V3\n",
       "rating  1.000000  0.001805  0.004561  0.001998\n",
       "V1      0.001805  1.000000 -0.007890  0.040643\n",
       "V2      0.004561 -0.007890  1.000000  0.007543\n",
       "V3      0.001998  0.040643  0.007543  1.000000"
      ]
     },
     "execution_count": 13,
     "metadata": {},
     "output_type": "execute_result"
    }
   ],
   "source": [
    "# get item mean rating\n",
    "item_mean = train_rating[['ItemId','rating']].groupby(['ItemId']).mean()\n",
    "# concat features and rationg\n",
    "item_mean_rating = pd.concat([item_mean, item_feat.set_index('ItemId')], axis =1)\n",
    "item_mean_rating.corr()"
   ]
  },
  {
   "cell_type": "code",
   "execution_count": 82,
   "id": "f8f41e16",
   "metadata": {},
   "outputs": [
    {
     "data": {
      "image/png": "[encoded data removed]",
      "text/plain": [
       "<Figure size 432x288 with 2 Axes>"
      ]
     },
     "metadata": {
      "needs_background": "light"
     },
     "output_type": "display_data"
    }
   ],
   "source": [
    "import seaborn as sns\n",
    "ax = sns.heatmap(item_mean_rating.corr())"
   ]
  },
  {
   "cell_type": "markdown",
   "id": "ba8035c5",
   "metadata": {},
   "source": [
    "## Check na "
   ]
  },
  {
   "cell_type": "code",
   "execution_count": 86,
   "id": "09679335",
   "metadata": {},
   "outputs": [
    {
     "data": {
      "text/plain": [
       "UserId    0\n",
       "ItemId    0\n",
       "rating    0\n",
       "dtype: int64"
      ]
     },
     "execution_count": 86,
     "metadata": {},
     "output_type": "execute_result"
    }
   ],
   "source": [
    "pd.isna(train_rating).sum()"
   ]
  },
  {
   "cell_type": "code",
   "execution_count": 87,
   "id": "d7ea0667",
   "metadata": {},
   "outputs": [
    {
     "data": {
      "text/plain": [
       "UserId        0\n",
       "V1        10573\n",
       "V2            0\n",
       "V3            0\n",
       "V4            0\n",
       "dtype: int64"
      ]
     },
     "execution_count": 87,
     "metadata": {},
     "output_type": "execute_result"
    }
   ],
   "source": [
    "pd.isna(user_feat).sum()"
   ]
  },
  {
   "cell_type": "code",
   "execution_count": 88,
   "id": "175c5f0f",
   "metadata": {},
   "outputs": [
    {
     "data": {
      "text/plain": [
       "ItemId    0\n",
       "V1        0\n",
       "V2        0\n",
       "V3        0\n",
       "dtype: int64"
      ]
     },
     "execution_count": 88,
     "metadata": {},
     "output_type": "execute_result"
    }
   ],
   "source": [
    "pd.isna(item_feat).sum()"
   ]
  },
  {
   "cell_type": "markdown",
   "id": "0348218b",
   "metadata": {},
   "source": [
    "## Check infinity\n",
    "* No infinity in training rating\n",
    "* 417 infinity in V2 of item features (1.6%)\n",
    "* 47 infinity in V1 of user features (0.174%)"
   ]
  },
  {
   "cell_type": "code",
   "execution_count": 100,
   "id": "20575cde",
   "metadata": {},
   "outputs": [
    {
     "name": "stdout",
     "output_type": "stream",
     "text": [
      "No. of infinity in train_rating : 0\n"
     ]
    }
   ],
   "source": [
    "# for train_rating\n",
    "import math\n",
    "n_inf = 0\n",
    "for i in range(len(train_rating)):\n",
    "    if ( math.isinf(train_rating.iloc[i,2]) ):\n",
    "        n_inf = n_inf + 1\n",
    "print('No. of infinity in train_rating :', n_inf)"
   ]
  },
  {
   "cell_type": "code",
   "execution_count": 99,
   "id": "6874491b",
   "metadata": {},
   "outputs": [
    {
     "name": "stdout",
     "output_type": "stream",
     "text": [
      "In V1 , no. of n_inf : 0\n",
      "In V2 , no. of n_inf : 417\n",
      "In V3 , no. of n_inf : 0\n"
     ]
    }
   ],
   "source": [
    "# for item_feat\n",
    "for j in range(len(item_feat.columns) -1 ):\n",
    "    n_inf = 0\n",
    "    for i in range(len(item_feat)):\n",
    "        if ( math.isinf(item_feat.iloc[i,j+1]) ):\n",
    "            n_inf = n_inf + 1\n",
    "    print('In V'+str(j+1), ', no. of n_inf :', n_inf)"
   ]
  },
  {
   "cell_type": "code",
   "execution_count": 103,
   "id": "133b135d",
   "metadata": {},
   "outputs": [
    {
     "data": {
      "text/plain": [
       "0.01603846153846154"
      ]
     },
     "execution_count": 103,
     "metadata": {},
     "output_type": "execute_result"
    }
   ],
   "source": [
    "417 / len(item_feat)"
   ]
  },
  {
   "cell_type": "code",
   "execution_count": 102,
   "id": "280c9cc4",
   "metadata": {},
   "outputs": [
    {
     "name": "stdout",
     "output_type": "stream",
     "text": [
      "In V1 , no. of n_inf : 47\n",
      "In V2 , no. of n_inf : 0\n",
      "In V3 , no. of n_inf : 0\n",
      "In V4 , no. of n_inf : 0\n"
     ]
    }
   ],
   "source": [
    "# for user_feat\n",
    "for j in range(len(user_feat.columns) -1 ):\n",
    "    n_inf = 0\n",
    "    for i in range(len(user_feat)):\n",
    "        if ( math.isinf(user_feat.iloc[i,j+1]) ):\n",
    "            n_inf = n_inf + 1\n",
    "    print('In V'+str(j+1), ', no. of n_inf :', n_inf)"
   ]
  },
  {
   "cell_type": "code",
   "execution_count": 104,
   "id": "58fcbd36",
   "metadata": {},
   "outputs": [
    {
     "data": {
      "text/plain": [
       "0.0017407407407407408"
      ]
     },
     "execution_count": 104,
     "metadata": {},
     "output_type": "execute_result"
    }
   ],
   "source": [
    "47 / len(user_feat)"
   ]
  },
  {
   "cell_type": "markdown",
   "id": "3dfeec86",
   "metadata": {},
   "source": [
    "# Analsis on Rating"
   ]
  },
  {
   "cell_type": "code",
   "execution_count": 118,
   "id": "c6ae0ccd",
   "metadata": {},
   "outputs": [],
   "source": [
    "import warnings\n",
    "warnings.filterwarnings(\"ignore\")"
   ]
  },
  {
   "cell_type": "markdown",
   "id": "b393d9aa",
   "metadata": {},
   "source": [
    "### Rating"
   ]
  },
  {
   "cell_type": "code",
   "execution_count": 123,
   "id": "f617d9f0",
   "metadata": {},
   "outputs": [
    {
     "name": "stdout",
     "output_type": "stream",
     "text": [
      "Max: 5.0\n",
      "Min: 0.0\n"
     ]
    }
   ],
   "source": [
    "print( 'Max:', train_rating['rating'].max())\n",
    "print( 'Min:', train_rating['rating'].min())"
   ]
  },
  {
   "cell_type": "code",
   "execution_count": 119,
   "id": "3fbf706c",
   "metadata": {},
   "outputs": [
    {
     "data": {
      "image/png": "[encoded data removed]",
      "text/plain": [
       "<Figure size 864x288 with 2 Axes>"
      ]
     },
     "metadata": {},
     "output_type": "display_data"
    }
   ],
   "source": [
    "import matplotlib.pyplot as plt\n",
    "fig, axes = plt.subplots(1, 2, figsize=(12,4) )\n",
    "axes[0].set_title('Histogram and Density Plot of \"rating\"' )\n",
    "axes[1].set_title('Box Plot of \"rating\"' )\n",
    "sns.set_theme(style=\"whitegrid\")\n",
    "p = sns.distplot(train_rating['rating'],  hist=True, kde=True , ax=axes[0])\n",
    "#p.set( xticks = np.arange(6+1))\n",
    "box = sns.boxplot(x=train_rating['rating'] , ax=axes[1])"
   ]
  },
  {
   "cell_type": "markdown",
   "id": "00854513",
   "metadata": {},
   "source": [
    "## User mean rating (many users give only 0 rating)"
   ]
  },
  {
   "cell_type": "code",
   "execution_count": 159,
   "id": "c58b2b08",
   "metadata": {},
   "outputs": [
    {
     "name": "stdout",
     "output_type": "stream",
     "text": [
      "1538 (27%) users only give 0 ratings\n"
     ]
    }
   ],
   "source": [
    "p = user_mean['rating'].value_counts()[0]\n",
    "print( p, '('+str(  round(p /len(user_mean) * 100))+'%)', 'users only give 0 ratings')"
   ]
  },
  {
   "cell_type": "code",
   "execution_count": 120,
   "id": "9aea6b30",
   "metadata": {},
   "outputs": [
    {
     "data": {
      "image/png": "[encoded data removed]",
      "text/plain": [
       "<Figure size 864x288 with 2 Axes>"
      ]
     },
     "metadata": {},
     "output_type": "display_data"
    }
   ],
   "source": [
    "import matplotlib.pyplot as plt\n",
    "fig, axes = plt.subplots(1, 2, figsize=(12,4) )\n",
    "axes[0].set_title('Histogram and Density Plot of user mean rating' )\n",
    "axes[1].set_title('Box Plot of user mean rating' )\n",
    "sns.set_theme(style=\"whitegrid\")\n",
    "p = sns.distplot(user_mean['rating'],  hist=True, kde=True , ax=axes[0])\n",
    "#p.set( xticks = np.arange(6+1))\n",
    "box = sns.boxplot(x=user_mean['rating'] , ax=axes[1])"
   ]
  },
  {
   "cell_type": "markdown",
   "id": "077255f4",
   "metadata": {},
   "source": [
    "### Item mean rating (many items only recieve mean rating 0)"
   ]
  },
  {
   "cell_type": "code",
   "execution_count": 160,
   "id": "47ccaf36",
   "metadata": {},
   "outputs": [
    {
     "name": "stdout",
     "output_type": "stream",
     "text": [
      "9286 (46%) items are only rated 0\n"
     ]
    }
   ],
   "source": [
    "p = item_mean['rating'].value_counts()[0]\n",
    "print( p, '('+str(  round(p /len(item_mean) * 100))+'%)', 'items are only rated 0')"
   ]
  },
  {
   "cell_type": "code",
   "execution_count": 122,
   "id": "07d580b1",
   "metadata": {},
   "outputs": [
    {
     "data": {
      "image/png": "[encoded data removed]",
      "text/plain": [
       "<Figure size 864x288 with 2 Axes>"
      ]
     },
     "metadata": {},
     "output_type": "display_data"
    }
   ],
   "source": [
    "import matplotlib.pyplot as plt\n",
    "fig, axes = plt.subplots(1, 2, figsize=(12,4) )\n",
    "axes[0].set_title('Histogram and Density Plot of item mean rating' )\n",
    "axes[1].set_title('Box Plot of item mean rating' )\n",
    "sns.set_theme(style=\"whitegrid\")\n",
    "p = sns.distplot(item_mean['rating'],  hist=True, kde=True , ax=axes[0])\n",
    "#p.set( xticks = np.arange(6+1))\n",
    "box = sns.boxplot(x=item_mean['rating'] , ax=axes[1])"
   ]
  },
  {
   "cell_type": "markdown",
   "id": "b1da5ce3",
   "metadata": {},
   "source": [
    "### No. of rating each item received (Many outliers, the no. of rating can be differ greatly from item to item)"
   ]
  },
  {
   "cell_type": "code",
   "execution_count": 142,
   "id": "209f428c",
   "metadata": {},
   "outputs": [
    {
     "name": "stdout",
     "output_type": "stream",
     "text": [
      "Max no. of rating in each item: 138\n",
      "Mean no. of rating in each item: 1.9910621697693942\n",
      "Min no. of rating in each item: 1\n",
      "sd of no. of rating in each item: 2.7869305408712486\n"
     ]
    }
   ],
   "source": [
    "a = train_rating[['ItemId','rating']].copy()\n",
    "a['number'] = [1]*len(train_rating)\n",
    "print( 'Max no. of rating in each item:', a.groupby(['ItemId']).sum()['number'].max())\n",
    "print( 'Mean no. of rating in each item:', a.groupby(['ItemId']).sum()['number'].mean())\n",
    "print( 'Min no. of rating in each item:', a.groupby(['ItemId']).sum()['number'].min())\n",
    "print( 'sd of no. of rating in each item:', a.groupby(['ItemId']).sum()['number'].std())"
   ]
  },
  {
   "cell_type": "code",
   "execution_count": 136,
   "id": "a03b9bed",
   "metadata": {},
   "outputs": [
    {
     "data": {
      "image/png": "[encoded data removed]",
      "text/plain": [
       "<Figure size 1440x360 with 2 Axes>"
      ]
     },
     "metadata": {},
     "output_type": "display_data"
    }
   ],
   "source": [
    "import matplotlib.pyplot as plt\n",
    "fig, axes = plt.subplots(2, 1, figsize=(20,5) )\n",
    "\n",
    "p = sns.distplot(a.groupby(['ItemId']).sum()['number'],  hist=True, kde=True, ax=axes[0])\n",
    "box = sns.boxplot(x = a.groupby(['ItemId']).sum()['number'] , ax=axes[1])"
   ]
  },
  {
   "cell_type": "markdown",
   "id": "f4e46fb1",
   "metadata": {},
   "source": [
    "### No. of rating each user gave (Even more outliers, the no. of rating can be differ greatly from user to user)"
   ]
  },
  {
   "cell_type": "code",
   "execution_count": 140,
   "id": "839c6fda",
   "metadata": {},
   "outputs": [
    {
     "name": "stdout",
     "output_type": "stream",
     "text": [
      "Max no. of rating each user gave: 2670\n",
      "Mean no. of rating each user gave: 6.992889351370101\n",
      "Min no. of rating each user gave: 1\n",
      "sd of no. of rating each user gave: 47.5937723382835\n"
     ]
    }
   ],
   "source": [
    "b = train_rating[['UserId','rating']].copy()\n",
    "b['number'] = [1]*len(train_rating)\n",
    "print( 'Max no. of rating each user gave:', b.groupby(['UserId']).sum()['number'].max())\n",
    "print( 'Mean no. of rating each user gave:', b.groupby(['UserId']).sum()['number'].mean())\n",
    "print( 'Min no. of rating each user gave:', b.groupby(['UserId']).sum()['number'].min())\n",
    "print( 'sd of no. of rating each user gave:', b.groupby(['UserId']).sum()['number'].std())"
   ]
  },
  {
   "cell_type": "code",
   "execution_count": 139,
   "id": "b2319bf3",
   "metadata": {},
   "outputs": [
    {
     "data": {
      "image/png": "[encoded data removed]",
      "text/plain": [
       "<Figure size 1440x360 with 2 Axes>"
      ]
     },
     "metadata": {},
     "output_type": "display_data"
    }
   ],
   "source": [
    "import matplotlib.pyplot as plt\n",
    "fig, axes = plt.subplots(2, 1, figsize=(20,5) )\n",
    "\n",
    "p = sns.distplot(b.groupby(['UserId']).sum()['number'],  hist=True, kde=True, ax=axes[0])\n",
    "box = sns.boxplot(x = b.groupby(['UserId']).sum()['number'] , ax=axes[1])"
   ]
  },
  {
   "cell_type": "markdown",
   "id": "c8a850c5",
   "metadata": {},
   "source": [
    "### no. of rating does not correlate with rating"
   ]
  },
  {
   "cell_type": "code",
   "execution_count": 149,
   "id": "6ad5bb34",
   "metadata": {},
   "outputs": [
    {
     "data": {
      "text/html": [
       "<div>\n",
       "<style scoped>\n",
       "    .dataframe tbody tr th:only-of-type {\n",
       "        vertical-align: middle;\n",
       "    }\n",
       "\n",
       "    .dataframe tbody tr th {\n",
       "        vertical-align: top;\n",
       "    }\n",
       "\n",
       "    .dataframe thead th {\n",
       "        text-align: right;\n",
       "    }\n",
       "</style>\n",
       "<table border=\"1\" class=\"dataframe\">\n",
       "  <thead>\n",
       "    <tr style=\"text-align: right;\">\n",
       "      <th></th>\n",
       "      <th>rating</th>\n",
       "      <th>number</th>\n",
       "    </tr>\n",
       "  </thead>\n",
       "  <tbody>\n",
       "    <tr>\n",
       "      <th>rating</th>\n",
       "      <td>1.000000</td>\n",
       "      <td>-0.048639</td>\n",
       "    </tr>\n",
       "    <tr>\n",
       "      <th>number</th>\n",
       "      <td>-0.048639</td>\n",
       "      <td>1.000000</td>\n",
       "    </tr>\n",
       "  </tbody>\n",
       "</table>\n",
       "</div>"
      ],
      "text/plain": [
       "          rating    number\n",
       "rating  1.000000 -0.048639\n",
       "number -0.048639  1.000000"
      ]
     },
     "execution_count": 149,
     "metadata": {},
     "output_type": "execute_result"
    }
   ],
   "source": [
    "pd.concat([user_mean,b.groupby(['UserId']).sum()['number']], axis =1) .corr()"
   ]
  },
  {
   "cell_type": "code",
   "execution_count": 150,
   "id": "486f6691",
   "metadata": {},
   "outputs": [
    {
     "data": {
      "text/html": [
       "<div>\n",
       "<style scoped>\n",
       "    .dataframe tbody tr th:only-of-type {\n",
       "        vertical-align: middle;\n",
       "    }\n",
       "\n",
       "    .dataframe tbody tr th {\n",
       "        vertical-align: top;\n",
       "    }\n",
       "\n",
       "    .dataframe thead th {\n",
       "        text-align: right;\n",
       "    }\n",
       "</style>\n",
       "<table border=\"1\" class=\"dataframe\">\n",
       "  <thead>\n",
       "    <tr style=\"text-align: right;\">\n",
       "      <th></th>\n",
       "      <th>rating</th>\n",
       "      <th>number</th>\n",
       "    </tr>\n",
       "  </thead>\n",
       "  <tbody>\n",
       "    <tr>\n",
       "      <th>rating</th>\n",
       "      <td>1.000000</td>\n",
       "      <td>0.011179</td>\n",
       "    </tr>\n",
       "    <tr>\n",
       "      <th>number</th>\n",
       "      <td>0.011179</td>\n",
       "      <td>1.000000</td>\n",
       "    </tr>\n",
       "  </tbody>\n",
       "</table>\n",
       "</div>"
      ],
      "text/plain": [
       "          rating    number\n",
       "rating  1.000000  0.011179\n",
       "number  0.011179  1.000000"
      ]
     },
     "execution_count": 150,
     "metadata": {},
     "output_type": "execute_result"
    }
   ],
   "source": [
    "pd.concat([item_mean, a.groupby(['ItemId']).sum()['number']], axis =1).corr()"
   ]
  }
 ],
 "metadata": {
  "kernelspec": {
   "display_name": "Python 3",
   "language": "python",
   "name": "python3"
  },
  "language_info": {
   "codemirror_mode": {
    "name": "ipython",
    "version": 3
   },
   "file_extension": ".py",
   "mimetype": "text/x-python",
   "name": "python",
   "nbconvert_exporter": "python",
   "pygments_lexer": "ipython3",
   "version": "3.9.9"
  }
 },
 "nbformat": 4,
 "nbformat_minor": 5
}
