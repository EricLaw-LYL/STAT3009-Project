{
 "cells": [
  {
   "cell_type": "markdown",
   "metadata": {},
   "source": [
    "# STAT3009 Project 2\n",
    "- LAW Yiu Leung Eric 1155149315\n",
    "- LAM Wai Chiu 1155152095\n",
    "- TSOI Tung Sing 1155127274"
   ]
  },
  {
   "cell_type": "markdown",
   "metadata": {},
   "source": [
    "## Import packages and load the developed methods"
   ]
  },
  {
   "cell_type": "code",
   "execution_count": 1,
   "metadata": {},
   "outputs": [],
   "source": [
    "import numpy as np\n",
    "import pandas as pd\n",
    "from datetime import datetime"
   ]
  },
  {
   "cell_type": "code",
   "execution_count": 2,
   "metadata": {},
   "outputs": [],
   "source": [
    "from developed_methods import *"
   ]
  },
  {
   "cell_type": "markdown",
   "metadata": {},
   "source": [
    "# Pre-process the raw data\n",
    "- check the `UserId` and `ItemId`: mapping `ItemId` to a continuous sequence based on `sklean.preprocessing`\n",
    "- create `train_pair`,`train_rating`, `test_pair`"
   ]
  },
  {
   "cell_type": "code",
   "execution_count": 10,
   "metadata": {},
   "outputs": [],
   "source": [
    "## import datasets\n",
    "dtrain = pd.read_csv(\"../data/train_rating.csv\")\n",
    "dtest = pd.read_csv(\"../data/test_pair.csv\")\n",
    "\n",
    "user_df = pd.read_csv(\"../data/user_feats.csv\")\n",
    "item_df = pd.read_csv(\"../data/item_feats.csv\")"
   ]
  },
  {
   "cell_type": "code",
   "execution_count": 18,
   "metadata": {},
   "outputs": [],
   "source": [
    "## mapping \n",
    "from sklearn import preprocessing\n",
    "## UserId\n",
    "le_user = preprocessing.LabelEncoder()\n",
    "le_user.fit(np.concatenate((dtrain['UserId'], dtest[\"UserId\"], user_df[\"UserId\"])))\n",
    "dtrain['UserId'] = le_user.transform(dtrain[\"UserId\"])\n",
    "dtest[\"UserId\"] = le_user.transform(dtest[\"UserId\"])\n",
    "user_df[\"UserId\"] = le_user.transform(user_df[\"UserId\"])\n",
    "\n",
    "## ItemId\n",
    "le_item = preprocessing.LabelEncoder()\n",
    "le_item.fit(np.concatenate((dtrain[\"ItemId\"], dtest[\"ItemId\"], item_df[\"ItemId\"])))\n",
    "dtrain[\"ItemId\"] = le_item.transform(dtrain[\"ItemId\"])\n",
    "dtest[\"ItemId\"] = le_item.transform(dtest[\"ItemId\"])\n",
    "item_df[\"ItemId\"] = le_item.transform(item_df[\"ItemId\"])"
   ]
  },
  {
   "cell_type": "code",
   "execution_count": 25,
   "metadata": {},
   "outputs": [],
   "source": [
    "# train_pair, train_rating\n",
    "train_pair = dtrain[['UserId', 'ItemId']].values\n",
    "train_rating = dtrain['rating'].values\n",
    "\n",
    "# test_pair\n",
    "test_pair = dtest[['UserId', 'ItemId']].values\n",
    "\n",
    "# number of users and items\n",
    "n_user, n_item = len(le_item.classes_), len(le_item.classes_)"
   ]
  },
  {
   "cell_type": "markdown",
   "metadata": {},
   "source": [
    "## Check if some users rated same movie more than once"
   ]
  },
  {
   "cell_type": "code",
   "execution_count": 27,
   "metadata": {},
   "outputs": [
    {
     "name": "stdout",
     "output_type": "stream",
     "text": [
      "n_user in dtrain = 5766\n",
      "Number of matched ratins = 5766\n",
      "There is no movies rated more than once by single user.\n"
     ]
    }
   ],
   "source": [
    "tmp = dtrain.sort_values([\"UserId\", \"ItemId\"])\n",
    "\n",
    "# number of unique item ratings of each user\n",
    "tmp_unique = tmp.groupby([\"UserId\"])[\"ItemId\"].agg(\"unique\").map(lambda x: len(x))\n",
    "# number of ratings of each user\n",
    "tmp_len = tmp.groupby([\"UserId\"])[\"ItemId\"].agg(\"count\")\n",
    "\n",
    "n_user_train = len(set(dtrain[\"UserId\"]))\n",
    "print(\"n_user in dtrain =\", n_user_train)\n",
    "n_user_matched = sum(tmp_unique == tmp_len)\n",
    "print(\"Number of matched ratins =\", n_user_matched)\n",
    "\n",
    "if(n_user_train == n_user_matched):\n",
    "    print(\"There is no movies rated more than once by single user.\")\n",
    "else:\n",
    "    print(\"There is {} users rated same movie again.\".format(n_user_train - n_user_matched))"
   ]
  }
 ],
 "metadata": {
  "interpreter": {
   "hash": "5129930097a52138fdc5ab816b09a2f27e944ad02f83c97d5e0e22f93f3b8c3c"
  },
  "kernelspec": {
   "display_name": "Python 3.9.8 64-bit (windows store)",
   "language": "python",
   "name": "python3"
  },
  "language_info": {
   "codemirror_mode": {
    "name": "ipython",
    "version": 3
   },
   "file_extension": ".py",
   "mimetype": "text/x-python",
   "name": "python",
   "nbconvert_exporter": "python",
   "pygments_lexer": "ipython3",
   "version": "3.9.9"
  },
  "orig_nbformat": 4
 },
 "nbformat": 4,
 "nbformat_minor": 2
}
