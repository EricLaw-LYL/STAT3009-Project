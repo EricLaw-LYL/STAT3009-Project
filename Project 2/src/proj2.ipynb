{
 "cells": [
  {
   "cell_type": "markdown",
   "metadata": {},
   "source": [
    "# STAT3009 Project 2\n",
    "| Name               | Student ID |\n",
    "|--------------------|------------|\n",
    "| LAW Yiu Leung Eric | 1155149315 |\n",
    "| LAM Wai Chiu       | 1155152095 |\n",
    "| TSOI Tung Sing     | 1155127274 |"
   ]
  },
  {
   "cell_type": "markdown",
   "metadata": {},
   "source": [
    "# Import packages and load the developed methods\n",
    "## Packages"
   ]
  },
  {
   "cell_type": "code",
   "execution_count": 2,
   "metadata": {},
   "outputs": [],
   "source": [
    "from datetime import datetime\n",
    "import pandas as pd\n",
    "import numpy as np\n",
    "from numpy.linalg import norm\n",
    "from datetime import datetime\n",
    "\n",
    "from scipy.sparse import lil_matrix\n",
    "\n",
    "from sklearn import preprocessing\n",
    "from sklearn.preprocessing import StandardScaler\n",
    "from sklearn.impute import SimpleImputer\n",
    "from sklearn.linear_model import LinearRegression\n",
    "from sklearn.ensemble import RandomForestRegressor\n",
    "\n",
    "from sklearn.metrics.pairwise import cosine_similarity\n",
    "from sklearn.ensemble import RandomForestClassifier\n",
    "from sklearn.datasets import make_classification"
   ]
  },
  {
   "cell_type": "markdown",
   "metadata": {},
   "source": [
    "## Load the existing methods"
   ]
  },
  {
   "cell_type": "code",
   "execution_count": 3,
   "metadata": {},
   "outputs": [],
   "source": [
    "from developed_methods import *"
   ]
  },
  {
   "cell_type": "code",
   "execution_count": 4,
   "metadata": {},
   "outputs": [],
   "source": [
    "import scipy as sp\n",
    "from scipy.stats import chi2\n",
    "\n",
    "def mahalanobis_method(df):\n",
    "    #M-Distance\n",
    "    x_minus_mu = df - np.mean(df)\n",
    "    cov = np.cov(df.values.T)                           #Covariance\n",
    "    inv_covmat = sp.linalg.inv(cov)                     #Inverse covariance\n",
    "    left_term = np.dot(x_minus_mu, inv_covmat) \n",
    "    mahal = np.dot(left_term, x_minus_mu.T)\n",
    "    md = np.sqrt(mahal.diagonal())\n",
    "    \n",
    "    #Flag as outlier\n",
    "    outlier = []\n",
    "    #Cut-off point\n",
    "    C = np.sqrt(chi2.ppf((1-0.001), df=df.shape[1]))    #degrees of freedom = number of variables\n",
    "    for index, value in enumerate(md):\n",
    "        if value > C:\n",
    "            outlier.append(index)\n",
    "        else:\n",
    "            continue\n",
    "    return outlier, md\n",
    "\n",
    "# save the predicted ratings to csv file\n",
    "def save_csv(df, folder_path, method):\n",
    "    nowTime = datetime.now().strftime(\"%Y-%m-%d_%H-%M\")\n",
    "    fileName = \"{folder_path}/{method}_{nowTime}.csv\".format(folder_path = folder_path, method = method, nowTime = nowTime)\n",
    "    df.to_csv(fileName, index = False)\n"
   ]
  },
  {
   "cell_type": "markdown",
   "metadata": {},
   "source": [
    "# Load Datasets"
   ]
  },
  {
   "cell_type": "code",
   "execution_count": 5,
   "metadata": {},
   "outputs": [],
   "source": [
    "# Load dataset\n",
    "train_rating = pd.read_csv(\"../data/train_rating.csv\")\n",
    "test_pair = pd.read_csv(\"../data/test_pair.csv\")\n",
    "\n",
    "item_feat = pd.read_csv(\"../data/item_feats.csv\")\n",
    "user_feat = pd.read_csv(\"../data/user_feats.csv\")\n",
    "\n",
    "sub = pd.read_csv('../predict/sample_submission.csv')"
   ]
  },
  {
   "cell_type": "markdown",
   "metadata": {},
   "source": [
    "# EDA\n",
    "This part is contributed by `Tsoi Tung Sing 1155149315` \n",
    "## Data Types\n",
    "* UserId, ItemId : str\n",
    "* rating : float \n",
    "* side information V1, V3 in item_feat are int -> Discrete Type RV\n",
    "* side information V2 in item_feat is float -> Continuous Type RV\n",
    "* side information V1 in user_feat is float -> Continuous Type RV\n",
    "* side information V2, V3, V4 in user_feat are int -> Discrete Type RV\n",
    "\n",
    "### test_pair"
   ]
  },
  {
   "cell_type": "code",
   "execution_count": 6,
   "metadata": {},
   "outputs": [
    {
     "name": "stdout",
     "output_type": "stream",
     "text": [
      "UserId data type:  <class 'str'>\n",
      "ItemId data type:  <class 'str'>\n"
     ]
    },
    {
     "data": {
      "text/html": [
       "<div>\n",
       "<style scoped>\n",
       "    .dataframe tbody tr th:only-of-type {\n",
       "        vertical-align: middle;\n",
       "    }\n",
       "\n",
       "    .dataframe tbody tr th {\n",
       "        vertical-align: top;\n",
       "    }\n",
       "\n",
       "    .dataframe thead th {\n",
       "        text-align: right;\n",
       "    }\n",
       "</style>\n",
       "<table border=\"1\" class=\"dataframe\">\n",
       "  <thead>\n",
       "    <tr style=\"text-align: right;\">\n",
       "      <th></th>\n",
       "      <th>UserId</th>\n",
       "      <th>ItemId</th>\n",
       "    </tr>\n",
       "  </thead>\n",
       "  <tbody>\n",
       "    <tr>\n",
       "      <th>0</th>\n",
       "      <td>DCC1A9</td>\n",
       "      <td>282298</td>\n",
       "    </tr>\n",
       "    <tr>\n",
       "      <th>1</th>\n",
       "      <td>895206</td>\n",
       "      <td>A9D3D8</td>\n",
       "    </tr>\n",
       "    <tr>\n",
       "      <th>2</th>\n",
       "      <td>C38E32</td>\n",
       "      <td>38D5EE</td>\n",
       "    </tr>\n",
       "  </tbody>\n",
       "</table>\n",
       "</div>"
      ],
      "text/plain": [
       "   UserId  ItemId\n",
       "0  DCC1A9  282298\n",
       "1  895206  A9D3D8\n",
       "2  C38E32  38D5EE"
      ]
     },
     "execution_count": 6,
     "metadata": {},
     "output_type": "execute_result"
    }
   ],
   "source": [
    "print('UserId data type: ' , type(test_pair['UserId'][0]) ) \n",
    "print('ItemId data type: ' , type(item_feat['ItemId'][0]) )\n",
    "test_pair.head(3)"
   ]
  },
  {
   "cell_type": "markdown",
   "metadata": {},
   "source": [
    "### item_feat"
   ]
  },
  {
   "cell_type": "code",
   "execution_count": 7,
   "metadata": {},
   "outputs": [
    {
     "name": "stdout",
     "output_type": "stream",
     "text": [
      "ItemId data type:  <class 'str'>\n",
      "V1 data type:  <class 'numpy.int64'>\n",
      "V2 data type:  <class 'numpy.float64'>\n",
      "V3 data type:  <class 'numpy.int64'>\n"
     ]
    },
    {
     "data": {
      "text/html": [
       "<div>\n",
       "<style scoped>\n",
       "    .dataframe tbody tr th:only-of-type {\n",
       "        vertical-align: middle;\n",
       "    }\n",
       "\n",
       "    .dataframe tbody tr th {\n",
       "        vertical-align: top;\n",
       "    }\n",
       "\n",
       "    .dataframe thead th {\n",
       "        text-align: right;\n",
       "    }\n",
       "</style>\n",
       "<table border=\"1\" class=\"dataframe\">\n",
       "  <thead>\n",
       "    <tr style=\"text-align: right;\">\n",
       "      <th></th>\n",
       "      <th>ItemId</th>\n",
       "      <th>V1</th>\n",
       "      <th>V2</th>\n",
       "      <th>V3</th>\n",
       "    </tr>\n",
       "  </thead>\n",
       "  <tbody>\n",
       "    <tr>\n",
       "      <th>0</th>\n",
       "      <td>9AF5AA</td>\n",
       "      <td>8366</td>\n",
       "      <td>7.496452</td>\n",
       "      <td>2041</td>\n",
       "    </tr>\n",
       "    <tr>\n",
       "      <th>1</th>\n",
       "      <td>960857</td>\n",
       "      <td>10416</td>\n",
       "      <td>7.686800</td>\n",
       "      <td>1247</td>\n",
       "    </tr>\n",
       "    <tr>\n",
       "      <th>2</th>\n",
       "      <td>3FC7E9</td>\n",
       "      <td>1670</td>\n",
       "      <td>7.635397</td>\n",
       "      <td>1248</td>\n",
       "    </tr>\n",
       "  </tbody>\n",
       "</table>\n",
       "</div>"
      ],
      "text/plain": [
       "   ItemId     V1        V2    V3\n",
       "0  9AF5AA   8366  7.496452  2041\n",
       "1  960857  10416  7.686800  1247\n",
       "2  3FC7E9   1670  7.635397  1248"
      ]
     },
     "execution_count": 7,
     "metadata": {},
     "output_type": "execute_result"
    }
   ],
   "source": [
    "print('ItemId data type: ' , type(item_feat['ItemId'][0]) ) \n",
    "print('V1 data type: ' , type(item_feat['V1'][0]) )\n",
    "print('V2 data type: ' , type(item_feat['V2'][0]) )\n",
    "print('V3 data type: ' , type(item_feat['V3'][0]) )\n",
    "item_feat.head(3)"
   ]
  },
  {
   "cell_type": "markdown",
   "metadata": {},
   "source": [
    "### train_rating"
   ]
  },
  {
   "cell_type": "code",
   "execution_count": 8,
   "metadata": {},
   "outputs": [
    {
     "name": "stdout",
     "output_type": "stream",
     "text": [
      "UserId data type:  <class 'str'>\n",
      "ItemId data type:  <class 'str'>\n",
      "rating data type:  <class 'numpy.float64'>\n"
     ]
    },
    {
     "data": {
      "text/html": [
       "<div>\n",
       "<style scoped>\n",
       "    .dataframe tbody tr th:only-of-type {\n",
       "        vertical-align: middle;\n",
       "    }\n",
       "\n",
       "    .dataframe tbody tr th {\n",
       "        vertical-align: top;\n",
       "    }\n",
       "\n",
       "    .dataframe thead th {\n",
       "        text-align: right;\n",
       "    }\n",
       "</style>\n",
       "<table border=\"1\" class=\"dataframe\">\n",
       "  <thead>\n",
       "    <tr style=\"text-align: right;\">\n",
       "      <th></th>\n",
       "      <th>UserId</th>\n",
       "      <th>ItemId</th>\n",
       "      <th>rating</th>\n",
       "    </tr>\n",
       "  </thead>\n",
       "  <tbody>\n",
       "    <tr>\n",
       "      <th>0</th>\n",
       "      <td>A22818</td>\n",
       "      <td>70621F</td>\n",
       "      <td>0.0</td>\n",
       "    </tr>\n",
       "    <tr>\n",
       "      <th>1</th>\n",
       "      <td>36B488</td>\n",
       "      <td>16553B</td>\n",
       "      <td>0.0</td>\n",
       "    </tr>\n",
       "    <tr>\n",
       "      <th>2</th>\n",
       "      <td>AB1C55</td>\n",
       "      <td>035CDE</td>\n",
       "      <td>0.0</td>\n",
       "    </tr>\n",
       "  </tbody>\n",
       "</table>\n",
       "</div>"
      ],
      "text/plain": [
       "   UserId  ItemId  rating\n",
       "0  A22818  70621F     0.0\n",
       "1  36B488  16553B     0.0\n",
       "2  AB1C55  035CDE     0.0"
      ]
     },
     "execution_count": 8,
     "metadata": {},
     "output_type": "execute_result"
    }
   ],
   "source": [
    "print('UserId data type: ' , type(train_rating['UserId'][0]) ) \n",
    "print('ItemId data type: ' , type(train_rating['ItemId'][0]) )\n",
    "print('rating data type: ' , type(train_rating['rating'][0]) )\n",
    "train_rating.head(3)"
   ]
  },
  {
   "cell_type": "markdown",
   "metadata": {},
   "source": [
    "### user_feat"
   ]
  },
  {
   "cell_type": "code",
   "execution_count": 9,
   "metadata": {},
   "outputs": [
    {
     "name": "stdout",
     "output_type": "stream",
     "text": [
      "UserId data type:  <class 'str'>\n",
      "V1 data type:  <class 'numpy.float64'>\n",
      "V2 data type:  <class 'numpy.int64'>\n",
      "V3 data type:  <class 'numpy.int64'>\n",
      "V4 data type:  <class 'numpy.int64'>\n"
     ]
    },
    {
     "data": {
      "text/html": [
       "<div>\n",
       "<style scoped>\n",
       "    .dataframe tbody tr th:only-of-type {\n",
       "        vertical-align: middle;\n",
       "    }\n",
       "\n",
       "    .dataframe tbody tr th {\n",
       "        vertical-align: top;\n",
       "    }\n",
       "\n",
       "    .dataframe thead th {\n",
       "        text-align: right;\n",
       "    }\n",
       "</style>\n",
       "<table border=\"1\" class=\"dataframe\">\n",
       "  <thead>\n",
       "    <tr style=\"text-align: right;\">\n",
       "      <th></th>\n",
       "      <th>UserId</th>\n",
       "      <th>V1</th>\n",
       "      <th>V2</th>\n",
       "      <th>V3</th>\n",
       "      <th>V4</th>\n",
       "    </tr>\n",
       "  </thead>\n",
       "  <tbody>\n",
       "    <tr>\n",
       "      <th>0</th>\n",
       "      <td>1CDE4D</td>\n",
       "      <td>NaN</td>\n",
       "      <td>5233</td>\n",
       "      <td>982</td>\n",
       "      <td>330</td>\n",
       "    </tr>\n",
       "    <tr>\n",
       "      <th>1</th>\n",
       "      <td>1FEE19</td>\n",
       "      <td>2.896804</td>\n",
       "      <td>6968</td>\n",
       "      <td>262</td>\n",
       "      <td>330</td>\n",
       "    </tr>\n",
       "    <tr>\n",
       "      <th>2</th>\n",
       "      <td>B14416</td>\n",
       "      <td>NaN</td>\n",
       "      <td>4787</td>\n",
       "      <td>1608</td>\n",
       "      <td>267</td>\n",
       "    </tr>\n",
       "  </tbody>\n",
       "</table>\n",
       "</div>"
      ],
      "text/plain": [
       "   UserId        V1    V2    V3   V4\n",
       "0  1CDE4D       NaN  5233   982  330\n",
       "1  1FEE19  2.896804  6968   262  330\n",
       "2  B14416       NaN  4787  1608  267"
      ]
     },
     "execution_count": 9,
     "metadata": {},
     "output_type": "execute_result"
    }
   ],
   "source": [
    "print('UserId data type: ' , type(user_feat['UserId'][0]) ) \n",
    "print('V1 data type: ' , type(user_feat['V1'][0]) )\n",
    "print('V2 data type: ' , type(user_feat['V2'][0]) )\n",
    "print('V3 data type: ' , type(user_feat['V3'][0]) )\n",
    "print('V4 data type: ' , type(user_feat['V4'][0]) )\n",
    "user_feat.head(3)"
   ]
  },
  {
   "cell_type": "markdown",
   "metadata": {},
   "source": [
    "## No. of Users and Items"
   ]
  },
  {
   "cell_type": "code",
   "execution_count": 10,
   "metadata": {},
   "outputs": [
    {
     "name": "stdout",
     "output_type": "stream",
     "text": [
      "n_user in training = 27000\n",
      "n_item in training = 26000\n"
     ]
    }
   ],
   "source": [
    "n_user = len(set(user_feat[\"UserId\"]))\n",
    "print(\"n_user in training =\", n_user)\n",
    "n_item = len(set(item_feat[\"ItemId\"]))\n",
    "print(\"n_item in training =\", n_item)"
   ]
  },
  {
   "cell_type": "markdown",
   "metadata": {},
   "source": [
    "## Check no. of users who didn't rate any item"
   ]
  },
  {
   "cell_type": "code",
   "execution_count": 11,
   "metadata": {},
   "outputs": [
    {
     "name": "stdout",
     "output_type": "stream",
     "text": [
      "No. of no rating items: 5749\n"
     ]
    }
   ],
   "source": [
    "no_rating_items = item_feat.set_index('ItemId').index.difference(train_rating.set_index('ItemId').index)\n",
    "print(\"No. of no rating items:\", len(no_rating_items) )"
   ]
  },
  {
   "cell_type": "markdown",
   "metadata": {},
   "source": [
    "## Correlation between variables and rating\n",
    "### Correlation between user features variables and rating \n",
    "* User_mean_ratings are not linear correlated with uesr features \n",
    "* V1, V2, V3, V4 in user features are not really linear correlated\n",
    "* V1 and V4 has the highest correlation but still around 0.1 "
   ]
  },
  {
   "cell_type": "code",
   "execution_count": 12,
   "metadata": {},
   "outputs": [
    {
     "data": {
      "text/html": [
       "<div>\n",
       "<style scoped>\n",
       "    .dataframe tbody tr th:only-of-type {\n",
       "        vertical-align: middle;\n",
       "    }\n",
       "\n",
       "    .dataframe tbody tr th {\n",
       "        vertical-align: top;\n",
       "    }\n",
       "\n",
       "    .dataframe thead th {\n",
       "        text-align: right;\n",
       "    }\n",
       "</style>\n",
       "<table border=\"1\" class=\"dataframe\">\n",
       "  <thead>\n",
       "    <tr style=\"text-align: right;\">\n",
       "      <th></th>\n",
       "      <th>rating</th>\n",
       "      <th>V1</th>\n",
       "      <th>V2</th>\n",
       "      <th>V3</th>\n",
       "      <th>V4</th>\n",
       "    </tr>\n",
       "  </thead>\n",
       "  <tbody>\n",
       "    <tr>\n",
       "      <th>rating</th>\n",
       "      <td>1.000000</td>\n",
       "      <td>0.006956</td>\n",
       "      <td>-0.008383</td>\n",
       "      <td>-0.024794</td>\n",
       "      <td>0.073029</td>\n",
       "    </tr>\n",
       "    <tr>\n",
       "      <th>V1</th>\n",
       "      <td>0.006956</td>\n",
       "      <td>1.000000</td>\n",
       "      <td>-0.001254</td>\n",
       "      <td>-0.010570</td>\n",
       "      <td>0.101653</td>\n",
       "    </tr>\n",
       "    <tr>\n",
       "      <th>V2</th>\n",
       "      <td>-0.008383</td>\n",
       "      <td>-0.001254</td>\n",
       "      <td>1.000000</td>\n",
       "      <td>0.060035</td>\n",
       "      <td>-0.044762</td>\n",
       "    </tr>\n",
       "    <tr>\n",
       "      <th>V3</th>\n",
       "      <td>-0.024794</td>\n",
       "      <td>-0.010570</td>\n",
       "      <td>0.060035</td>\n",
       "      <td>1.000000</td>\n",
       "      <td>-0.004453</td>\n",
       "    </tr>\n",
       "    <tr>\n",
       "      <th>V4</th>\n",
       "      <td>0.073029</td>\n",
       "      <td>0.101653</td>\n",
       "      <td>-0.044762</td>\n",
       "      <td>-0.004453</td>\n",
       "      <td>1.000000</td>\n",
       "    </tr>\n",
       "  </tbody>\n",
       "</table>\n",
       "</div>"
      ],
      "text/plain": [
       "          rating        V1        V2        V3        V4\n",
       "rating  1.000000  0.006956 -0.008383 -0.024794  0.073029\n",
       "V1      0.006956  1.000000 -0.001254 -0.010570  0.101653\n",
       "V2     -0.008383 -0.001254  1.000000  0.060035 -0.044762\n",
       "V3     -0.024794 -0.010570  0.060035  1.000000 -0.004453\n",
       "V4      0.073029  0.101653 -0.044762 -0.004453  1.000000"
      ]
     },
     "execution_count": 12,
     "metadata": {},
     "output_type": "execute_result"
    }
   ],
   "source": [
    "# get user mean rating\n",
    "user_mean = train_rating[['UserId','rating']].groupby(['UserId']).mean()\n",
    "# concat features and rationg\n",
    "user_mean_rating = pd.concat([user_mean, user_feat.set_index('UserId')], axis =1)\n",
    "user_mean_rating.corr()"
   ]
  },
  {
   "cell_type": "code",
   "execution_count": 13,
   "metadata": {},
   "outputs": [
    {
     "data": {
      "image/png": "[encoded data removed]",
      "text/plain": [
       "<Figure size 432x288 with 2 Axes>"
      ]
     },
     "metadata": {
      "needs_background": "light"
     },
     "output_type": "display_data"
    }
   ],
   "source": [
    "import seaborn as sns\n",
    "ax = sns.heatmap(user_mean_rating.corr())"
   ]
  },
  {
   "cell_type": "markdown",
   "metadata": {},
   "source": [
    "### item_feat side info variables\n",
    "* Item_mean_ratings are not linear correlated with item features \n",
    "* V1, V2, V3 in item features are not linear correlated"
   ]
  },
  {
   "cell_type": "code",
   "execution_count": 14,
   "metadata": {},
   "outputs": [
    {
     "data": {
      "text/html": [
       "<div>\n",
       "<style scoped>\n",
       "    .dataframe tbody tr th:only-of-type {\n",
       "        vertical-align: middle;\n",
       "    }\n",
       "\n",
       "    .dataframe tbody tr th {\n",
       "        vertical-align: top;\n",
       "    }\n",
       "\n",
       "    .dataframe thead th {\n",
       "        text-align: right;\n",
       "    }\n",
       "</style>\n",
       "<table border=\"1\" class=\"dataframe\">\n",
       "  <thead>\n",
       "    <tr style=\"text-align: right;\">\n",
       "      <th></th>\n",
       "      <th>rating</th>\n",
       "      <th>V1</th>\n",
       "      <th>V2</th>\n",
       "      <th>V3</th>\n",
       "    </tr>\n",
       "  </thead>\n",
       "  <tbody>\n",
       "    <tr>\n",
       "      <th>rating</th>\n",
       "      <td>1.000000</td>\n",
       "      <td>0.001805</td>\n",
       "      <td>0.004561</td>\n",
       "      <td>0.001998</td>\n",
       "    </tr>\n",
       "    <tr>\n",
       "      <th>V1</th>\n",
       "      <td>0.001805</td>\n",
       "      <td>1.000000</td>\n",
       "      <td>-0.007890</td>\n",
       "      <td>0.040643</td>\n",
       "    </tr>\n",
       "    <tr>\n",
       "      <th>V2</th>\n",
       "      <td>0.004561</td>\n",
       "      <td>-0.007890</td>\n",
       "      <td>1.000000</td>\n",
       "      <td>0.007543</td>\n",
       "    </tr>\n",
       "    <tr>\n",
       "      <th>V3</th>\n",
       "      <td>0.001998</td>\n",
       "      <td>0.040643</td>\n",
       "      <td>0.007543</td>\n",
       "      <td>1.000000</td>\n",
       "    </tr>\n",
       "  </tbody>\n",
       "</table>\n",
       "</div>"
      ],
      "text/plain": [
       "          rating        V1        V2        V3\n",
       "rating  1.000000  0.001805  0.004561  0.001998\n",
       "V1      0.001805  1.000000 -0.007890  0.040643\n",
       "V2      0.004561 -0.007890  1.000000  0.007543\n",
       "V3      0.001998  0.040643  0.007543  1.000000"
      ]
     },
     "execution_count": 14,
     "metadata": {},
     "output_type": "execute_result"
    }
   ],
   "source": [
    "# get item mean rating\n",
    "item_mean = train_rating[['ItemId','rating']].groupby(['ItemId']).mean()\n",
    "# concat features and rationg\n",
    "item_mean_rating = pd.concat([item_mean, item_feat.set_index('ItemId')], axis =1)\n",
    "item_mean_rating.corr()"
   ]
  },
  {
   "cell_type": "code",
   "execution_count": 15,
   "metadata": {},
   "outputs": [
    {
     "data": {
      "image/png": "[encoded data removed]",
      "text/plain": [
       "<Figure size 432x288 with 2 Axes>"
      ]
     },
     "metadata": {
      "needs_background": "light"
     },
     "output_type": "display_data"
    }
   ],
   "source": [
    "import seaborn as sns\n",
    "ax = sns.heatmap(item_mean_rating.corr())"
   ]
  },
  {
   "cell_type": "markdown",
   "metadata": {},
   "source": [
    "## Check na"
   ]
  },
  {
   "cell_type": "code",
   "execution_count": 16,
   "metadata": {},
   "outputs": [
    {
     "data": {
      "text/plain": [
       "UserId    0\n",
       "ItemId    0\n",
       "rating    0\n",
       "dtype: int64"
      ]
     },
     "execution_count": 16,
     "metadata": {},
     "output_type": "execute_result"
    }
   ],
   "source": [
    "pd.isna(train_rating).sum()"
   ]
  },
  {
   "cell_type": "code",
   "execution_count": 17,
   "metadata": {},
   "outputs": [
    {
     "data": {
      "text/plain": [
       "UserId        0\n",
       "V1        10573\n",
       "V2            0\n",
       "V3            0\n",
       "V4            0\n",
       "dtype: int64"
      ]
     },
     "execution_count": 17,
     "metadata": {},
     "output_type": "execute_result"
    }
   ],
   "source": [
    "pd.isna(user_feat).sum()"
   ]
  },
  {
   "cell_type": "code",
   "execution_count": 18,
   "metadata": {},
   "outputs": [
    {
     "data": {
      "text/plain": [
       "ItemId    0\n",
       "V1        0\n",
       "V2        0\n",
       "V3        0\n",
       "dtype: int64"
      ]
     },
     "execution_count": 18,
     "metadata": {},
     "output_type": "execute_result"
    }
   ],
   "source": [
    "pd.isna(item_feat).sum()"
   ]
  },
  {
   "cell_type": "markdown",
   "metadata": {},
   "source": [
    "## Check infinity"
   ]
  },
  {
   "cell_type": "code",
   "execution_count": 19,
   "metadata": {},
   "outputs": [
    {
     "name": "stdout",
     "output_type": "stream",
     "text": [
      "No. of infinity in train_rating : 0\n"
     ]
    }
   ],
   "source": [
    "# for train_rating\n",
    "import math\n",
    "n_inf = 0\n",
    "for i in range(len(train_rating)):\n",
    "    if ( math.isinf(train_rating.iloc[i,2]) ):\n",
    "        n_inf = n_inf + 1\n",
    "print('No. of infinity in train_rating :', n_inf)"
   ]
  },
  {
   "cell_type": "code",
   "execution_count": 20,
   "metadata": {},
   "outputs": [
    {
     "name": "stdout",
     "output_type": "stream",
     "text": [
      "In V1 , no. of n_inf : 0\n",
      "In V2 , no. of n_inf : 417\n",
      "In V3 , no. of n_inf : 0\n"
     ]
    }
   ],
   "source": [
    "# for item_feat\n",
    "for j in range(len(item_feat.columns) -1 ):\n",
    "    n_inf = 0\n",
    "    for i in range(len(item_feat)):\n",
    "        if ( math.isinf(item_feat.iloc[i,j+1]) ):\n",
    "            n_inf = n_inf + 1\n",
    "    print('In V'+str(j+1), ', no. of n_inf :', n_inf)"
   ]
  },
  {
   "cell_type": "code",
   "execution_count": 21,
   "metadata": {},
   "outputs": [
    {
     "name": "stdout",
     "output_type": "stream",
     "text": [
      "In V1 , no. of n_inf : 47\n",
      "In V2 , no. of n_inf : 0\n",
      "In V3 , no. of n_inf : 0\n",
      "In V4 , no. of n_inf : 0\n"
     ]
    }
   ],
   "source": [
    "# for user_feat\n",
    "for j in range(len(user_feat.columns) -1 ):\n",
    "    n_inf = 0\n",
    "    for i in range(len(user_feat)):\n",
    "        if ( math.isinf(user_feat.iloc[i,j+1]) ):\n",
    "            n_inf = n_inf + 1\n",
    "    print('In V'+str(j+1), ', no. of n_inf :', n_inf)"
   ]
  },
  {
   "cell_type": "markdown",
   "metadata": {},
   "source": [
    "* No infinity in training rating\n",
    "* 417 infinity in V2 of item features (1.6%)\n",
    "* 47 infinity in V1 of user features (0.174%)"
   ]
  },
  {
   "cell_type": "markdown",
   "metadata": {},
   "source": [
    "## Analysis on Rating"
   ]
  },
  {
   "cell_type": "code",
   "execution_count": 22,
   "metadata": {},
   "outputs": [
    {
     "name": "stdout",
     "output_type": "stream",
     "text": [
      "Max: 5.0\n",
      "Min: 0.0\n"
     ]
    }
   ],
   "source": [
    "print('Max:', train_rating['rating'].max())\n",
    "print('Min:', train_rating['rating'].min())"
   ]
  },
  {
   "cell_type": "code",
   "execution_count": 23,
   "metadata": {},
   "outputs": [],
   "source": [
    "import warnings\n",
    "warnings.filterwarnings(\"ignore\")"
   ]
  },
  {
   "cell_type": "code",
   "execution_count": 24,
   "metadata": {},
   "outputs": [
    {
     "data": {
      "image/png": "[encoded data removed]",
      "text/plain": [
       "<Figure size 864x288 with 2 Axes>"
      ]
     },
     "metadata": {
      "needs_background": "light"
     },
     "output_type": "display_data"
    }
   ],
   "source": [
    "import matplotlib.pyplot as plt\n",
    "fig, axes = plt.subplots(1, 2, figsize=(12,4) )\n",
    "axes[0].set_title('Histogram and Density Plot of \"rating\"' )\n",
    "axes[1].set_title('Box Plot of \"rating\"' )\n",
    "sns.set_theme(style=\"whitegrid\")\n",
    "p = sns.distplot(train_rating['rating'],  hist=True, kde=True , ax=axes[0])\n",
    "#p.set( xticks = np.arange(6+1))\n",
    "box = sns.boxplot(x=train_rating['rating'] , ax=axes[1])"
   ]
  },
  {
   "cell_type": "markdown",
   "metadata": {},
   "source": [
    "### User mean rating (many users give only 0 rating)"
   ]
  },
  {
   "cell_type": "code",
   "execution_count": 25,
   "metadata": {},
   "outputs": [
    {
     "name": "stdout",
     "output_type": "stream",
     "text": [
      "1538 (27.0%) users only give 0 ratings\n"
     ]
    }
   ],
   "source": [
    "p = user_mean['rating'].value_counts()[0]\n",
    "print(p, '('+str(round(p /len(user_mean) * 100))+'%)', 'users only give 0 ratings')"
   ]
  },
  {
   "cell_type": "code",
   "execution_count": 26,
   "metadata": {},
   "outputs": [
    {
     "data": {
      "image/png": "[encoded data removed]",
      "text/plain": [
       "<Figure size 864x288 with 2 Axes>"
      ]
     },
     "metadata": {},
     "output_type": "display_data"
    }
   ],
   "source": [
    "fig, axes = plt.subplots(1, 2, figsize=(12,4) )\n",
    "axes[0].set_title('Histogram and Density Plot of user mean rating' )\n",
    "axes[1].set_title('Box Plot of user mean rating' )\n",
    "sns.set_theme(style=\"whitegrid\")\n",
    "p = sns.distplot(user_mean['rating'],  hist=True, kde=True , ax=axes[0])\n",
    "# p.set( xticks = np.arange(6+1))\n",
    "box = sns.boxplot(x=user_mean['rating'] , ax=axes[1])"
   ]
  },
  {
   "cell_type": "markdown",
   "metadata": {},
   "source": [
    "### Item mean rating (many items only recieve mean rating 0)"
   ]
  },
  {
   "cell_type": "code",
   "execution_count": 27,
   "metadata": {},
   "outputs": [
    {
     "name": "stdout",
     "output_type": "stream",
     "text": [
      "9286 (46.0%) items are only rated 0\n"
     ]
    }
   ],
   "source": [
    "p = item_mean['rating'].value_counts()[0]\n",
    "print( p, '('+str(  round(p /len(item_mean) * 100))+'%)', 'items are only rated 0')"
   ]
  },
  {
   "cell_type": "code",
   "execution_count": 28,
   "metadata": {},
   "outputs": [
    {
     "data": {
      "image/png": "[encoded data removed]",
      "text/plain": [
       "<Figure size 864x288 with 2 Axes>"
      ]
     },
     "metadata": {},
     "output_type": "display_data"
    }
   ],
   "source": [
    "fig, axes = plt.subplots(1, 2, figsize=(12,4) )\n",
    "axes[0].set_title('Histogram and Density Plot of item mean rating' )\n",
    "axes[1].set_title('Box Plot of item mean rating' )\n",
    "sns.set_theme(style=\"whitegrid\")\n",
    "p = sns.distplot(item_mean['rating'],  hist=True, kde=True , ax=axes[0])\n",
    "#p.set( xticks = np.arange(6+1))\n",
    "box = sns.boxplot(x=item_mean['rating'] , ax=axes[1])"
   ]
  },
  {
   "cell_type": "markdown",
   "metadata": {},
   "source": [
    "### No. of rating each item received (Many outliers, the no. of rating can be differ greatly from item to item)"
   ]
  },
  {
   "cell_type": "code",
   "execution_count": 29,
   "metadata": {},
   "outputs": [
    {
     "name": "stdout",
     "output_type": "stream",
     "text": [
      "Max no. of rating in each item: 138\n",
      "Mean no. of rating in each item: 1.9910621697693942\n",
      "Min no. of rating in each item: 1\n",
      "sd of no. of rating in each item: 2.7869305408712486\n"
     ]
    }
   ],
   "source": [
    "a = train_rating[['ItemId','rating']].copy()\n",
    "a['number'] = [1]*len(train_rating)\n",
    "print('Max no. of rating in each item:', a.groupby(['ItemId']).sum()['number'].max())\n",
    "print('Mean no. of rating in each item:', a.groupby(['ItemId']).sum()['number'].mean())\n",
    "print('Min no. of rating in each item:', a.groupby(['ItemId']).sum()['number'].min())\n",
    "print('sd of no. of rating in each item:', a.groupby(['ItemId']).sum()['number'].std())"
   ]
  },
  {
   "cell_type": "code",
   "execution_count": 30,
   "metadata": {},
   "outputs": [
    {
     "data": {
      "image/png": "[encoded data removed]",
      "text/plain": [
       "<Figure size 1440x360 with 2 Axes>"
      ]
     },
     "metadata": {},
     "output_type": "display_data"
    }
   ],
   "source": [
    "fig, axes = plt.subplots(2, 1, figsize=(20,5) )\n",
    "\n",
    "p = sns.distplot(a.groupby(['ItemId']).sum()['number'],  hist=True, kde=True, ax=axes[0])\n",
    "box = sns.boxplot(x = a.groupby(['ItemId']).sum()['number'] , ax=axes[1])"
   ]
  },
  {
   "cell_type": "markdown",
   "metadata": {},
   "source": [
    "### No. of rating each user gave (Even more outliers, the no. of rating can be differ greatly from user to user)"
   ]
  },
  {
   "cell_type": "code",
   "execution_count": 31,
   "metadata": {},
   "outputs": [
    {
     "name": "stdout",
     "output_type": "stream",
     "text": [
      "Max no. of rating each user gave: 2670\n",
      "Mean no. of rating each user gave: 6.992889351370101\n",
      "Min no. of rating each user gave: 1\n",
      "sd of no. of rating each user gave: 47.5937723382835\n"
     ]
    }
   ],
   "source": [
    "b = train_rating[['UserId','rating']].copy()\n",
    "b['number'] = [1]*len(train_rating)\n",
    "print('Max no. of rating each user gave:', b.groupby(['UserId']).sum()['number'].max())\n",
    "print('Mean no. of rating each user gave:', b.groupby(['UserId']).sum()['number'].mean())\n",
    "print('Min no. of rating each user gave:', b.groupby(['UserId']).sum()['number'].min())\n",
    "print('sd of no. of rating each user gave:', b.groupby(['UserId']).sum()['number'].std())"
   ]
  },
  {
   "cell_type": "code",
   "execution_count": 32,
   "metadata": {},
   "outputs": [
    {
     "data": {
      "image/png": "[encoded data removed]",
      "text/plain": [
       "<Figure size 1440x360 with 2 Axes>"
      ]
     },
     "metadata": {},
     "output_type": "display_data"
    }
   ],
   "source": [
    "fig, axes = plt.subplots(2, 1, figsize=(20,5) )\n",
    "\n",
    "p = sns.distplot(b.groupby(['UserId']).sum()['number'],  hist=True, kde=True, ax=axes[0])\n",
    "box = sns.boxplot(x = b.groupby(['UserId']).sum()['number'] , ax=axes[1])"
   ]
  },
  {
   "cell_type": "markdown",
   "metadata": {},
   "source": [
    "### no. of rating does not correlate with rating"
   ]
  },
  {
   "cell_type": "code",
   "execution_count": 33,
   "metadata": {},
   "outputs": [
    {
     "data": {
      "text/html": [
       "<div>\n",
       "<style scoped>\n",
       "    .dataframe tbody tr th:only-of-type {\n",
       "        vertical-align: middle;\n",
       "    }\n",
       "\n",
       "    .dataframe tbody tr th {\n",
       "        vertical-align: top;\n",
       "    }\n",
       "\n",
       "    .dataframe thead th {\n",
       "        text-align: right;\n",
       "    }\n",
       "</style>\n",
       "<table border=\"1\" class=\"dataframe\">\n",
       "  <thead>\n",
       "    <tr style=\"text-align: right;\">\n",
       "      <th></th>\n",
       "      <th>rating</th>\n",
       "      <th>number</th>\n",
       "    </tr>\n",
       "  </thead>\n",
       "  <tbody>\n",
       "    <tr>\n",
       "      <th>rating</th>\n",
       "      <td>1.000000</td>\n",
       "      <td>-0.048639</td>\n",
       "    </tr>\n",
       "    <tr>\n",
       "      <th>number</th>\n",
       "      <td>-0.048639</td>\n",
       "      <td>1.000000</td>\n",
       "    </tr>\n",
       "  </tbody>\n",
       "</table>\n",
       "</div>"
      ],
      "text/plain": [
       "          rating    number\n",
       "rating  1.000000 -0.048639\n",
       "number -0.048639  1.000000"
      ]
     },
     "execution_count": 33,
     "metadata": {},
     "output_type": "execute_result"
    }
   ],
   "source": [
    "pd.concat([user_mean,b.groupby(['UserId']).sum()['number']], axis =1) .corr()"
   ]
  },
  {
   "cell_type": "code",
   "execution_count": 34,
   "metadata": {},
   "outputs": [
    {
     "data": {
      "text/html": [
       "<div>\n",
       "<style scoped>\n",
       "    .dataframe tbody tr th:only-of-type {\n",
       "        vertical-align: middle;\n",
       "    }\n",
       "\n",
       "    .dataframe tbody tr th {\n",
       "        vertical-align: top;\n",
       "    }\n",
       "\n",
       "    .dataframe thead th {\n",
       "        text-align: right;\n",
       "    }\n",
       "</style>\n",
       "<table border=\"1\" class=\"dataframe\">\n",
       "  <thead>\n",
       "    <tr style=\"text-align: right;\">\n",
       "      <th></th>\n",
       "      <th>rating</th>\n",
       "      <th>number</th>\n",
       "    </tr>\n",
       "  </thead>\n",
       "  <tbody>\n",
       "    <tr>\n",
       "      <th>rating</th>\n",
       "      <td>1.000000</td>\n",
       "      <td>0.011179</td>\n",
       "    </tr>\n",
       "    <tr>\n",
       "      <th>number</th>\n",
       "      <td>0.011179</td>\n",
       "      <td>1.000000</td>\n",
       "    </tr>\n",
       "  </tbody>\n",
       "</table>\n",
       "</div>"
      ],
      "text/plain": [
       "          rating    number\n",
       "rating  1.000000  0.011179\n",
       "number  0.011179  1.000000"
      ]
     },
     "execution_count": 34,
     "metadata": {},
     "output_type": "execute_result"
    }
   ],
   "source": [
    "pd.concat([item_mean, a.groupby(['ItemId']).sum()['number']], axis =1).corr()"
   ]
  },
  {
   "cell_type": "markdown",
   "metadata": {},
   "source": [
    "# Pre-processing\n",
    "This part is contributed by `Lam Wai Chiu 1155152095` \n",
    "## Feature engineering\n",
    "- check the `UserId` and `ItemId`: mapping `ItemId` to a continuous sequence based on `sklean.preprocessing`\n",
    "- create `train_pair`,`train_rating`, `test_pair`\n",
    "- handling missing value by mean\n",
    "- handling -inf by min"
   ]
  },
  {
   "cell_type": "code",
   "execution_count": 35,
   "metadata": {},
   "outputs": [],
   "source": [
    "# UserID\n",
    "le_user = preprocessing.LabelEncoder()\n",
    "le_user.fit(np.append(np.append(train_rating['UserId'], test_pair[\"UserId\"]), user_feat[\"UserId\"]))\n",
    "\n",
    "user_feat['UserId'] = le_user.transform(user_feat[\"UserId\"])\n",
    "test_pair[\"UserId\"] = le_user.transform(test_pair[\"UserId\"])\n",
    "train_rating['UserId'] = le_user.transform(train_rating[\"UserId\"])\n",
    "\n",
    "# ItemID\n",
    "le_item = preprocessing.LabelEncoder()\n",
    "le_item.fit(np.append(np.append(train_rating['ItemId'], test_pair[\"ItemId\"]), item_feat[\"ItemId\"]))\n",
    "\n",
    "item_feat['ItemId'] = le_item.transform(item_feat[\"ItemId\"])\n",
    "test_pair[\"ItemId\"] = le_item.transform(test_pair[\"ItemId\"])\n",
    "train_rating['ItemId'] = le_item.transform(train_rating[\"ItemId\"])\n",
    "\n",
    "#Inf value\n",
    "user_feat.loc[np.isinf(user_feat['V1']),'V1']=-3\n",
    "item_feat.loc[np.isinf(item_feat['V2']),'V2']=2\n",
    "\n",
    "# Missing data\n",
    "imp_mean = SimpleImputer(missing_values=np.nan, strategy='mean')\n",
    "imp_mean.fit(user_feat['V1'].values.reshape(-1, 1))\n",
    "user_feat['V1'] = imp_mean.transform(user_feat['V1'].values.reshape(-1, 1))"
   ]
  },
  {
   "cell_type": "markdown",
   "metadata": {},
   "source": [
    "## Create train pairs and test pairs"
   ]
  },
  {
   "cell_type": "code",
   "execution_count": 36,
   "metadata": {},
   "outputs": [],
   "source": [
    "# tran_pair, train_rating\n",
    "train_pairs = train_rating[['UserId', 'ItemId']].values\n",
    "train_ratings = train_rating['rating'].values\n",
    "train_pair=train_rating.drop(columns='rating')\n",
    "\n",
    "# test_pair\n",
    "test_pairs = test_pair[['UserId', 'ItemId']].values\n",
    "\n",
    "# number of users and items\n",
    "# n_user, n_item = len(le_item.classes_), len(le_item.classes_)"
   ]
  },
  {
   "cell_type": "markdown",
   "metadata": {},
   "source": [
    "## Check if some users rated same movie more than once"
   ]
  },
  {
   "cell_type": "code",
   "execution_count": 37,
   "metadata": {},
   "outputs": [
    {
     "name": "stdout",
     "output_type": "stream",
     "text": [
      "n_user in dtrain = 5766\n",
      "Number of matched ratins = 5766\n",
      "There is no movies rated more than once by single user.\n"
     ]
    }
   ],
   "source": [
    "tmp = train_rating.sort_values([\"UserId\", \"ItemId\"])\n",
    "\n",
    "# number of unique item ratings of each user\n",
    "tmp_unique = tmp.groupby([\"UserId\"])[\"ItemId\"].agg(\"unique\").map(lambda x: len(x))\n",
    "# number of ratings of each user\n",
    "tmp_len = tmp.groupby([\"UserId\"])[\"ItemId\"].agg(\"count\")\n",
    "\n",
    "n_user_train = len(set(train_rating[\"UserId\"]))\n",
    "print(\"n_user in dtrain =\", n_user_train)\n",
    "n_user_matched = sum(tmp_unique == tmp_len)\n",
    "print(\"Number of matched ratins =\", n_user_matched)\n",
    "\n",
    "if(n_user_train == n_user_matched):\n",
    "    print(\"There is no movies rated more than once by single user.\")\n",
    "else:\n",
    "    print(\"There is {} users rated same movie again.\".format(n_user_train - n_user_matched))"
   ]
  },
  {
   "cell_type": "code",
   "execution_count": 38,
   "metadata": {},
   "outputs": [],
   "source": [
    "temp_train_user=np.zeros((len(train_pairs[:,0]), 4))\n",
    "temp_train_item=np.zeros((len(train_pairs[:,0]), 3))\n",
    "\n",
    "temp_test_user=np.zeros((len(test_pairs[:,0]), 4))\n",
    "temp_test_item=np.zeros((len(test_pairs[:,0]), 3))\n",
    "\n",
    "for i in range(0,len(train_pairs[:,0])):\n",
    "    temp_train_user[i,:]=user_feat.loc[np.where(train_pairs[i,0]==user_feat.values[:,0])[0][0]].values[1:5]\n",
    "    temp_train_item[i,:]=item_feat.loc[np.where(train_pairs[i,1]==item_feat.values[:,0])[0][0]].values[1:4]\n",
    "\n",
    "for i in range(0,len(test_pairs[:,0])):\n",
    "    temp_test_user[i,:]=user_feat.loc[np.where(test_pairs[i,0]==user_feat.values[:,0])[0][0]].values[1:5]\n",
    "    temp_test_item[i,:]=item_feat.loc[np.where(test_pairs[i,1]==item_feat.values[:,0])[0][0]].values[1:4]"
   ]
  },
  {
   "cell_type": "code",
   "execution_count": 39,
   "metadata": {},
   "outputs": [],
   "source": [
    "temp_train_user=pd.DataFrame(temp_train_user,columns=['V1','V2','V3','V4'])\n",
    "temp_train_item=pd.DataFrame(temp_train_item,columns=['V1','V2','V3'])\n",
    "temp_test_user=pd.DataFrame(temp_test_user,columns=['V1','V2','V3','V4'])\n",
    "temp_test_item=pd.DataFrame(temp_test_item,columns=['V1','V2','V3'])\n",
    "\n",
    "user_pd_train = temp_train_user\n",
    "item_pd_train = temp_train_item\n",
    "user_pd_test = temp_test_user\n",
    "item_pd_test = temp_test_item"
   ]
  },
  {
   "cell_type": "markdown",
   "metadata": {},
   "source": [
    "## Detect outliers by using mahalanobis distance"
   ]
  },
  {
   "cell_type": "code",
   "execution_count": 40,
   "metadata": {},
   "outputs": [],
   "source": [
    "df=pd.DataFrame(np.column_stack((user_pd_train,item_pd_train,train_ratings)))\n",
    "outlier, md=mahalanobis_method(df)"
   ]
  },
  {
   "cell_type": "code",
   "execution_count": 41,
   "metadata": {},
   "outputs": [],
   "source": [
    "# drop outliers\n",
    "train_ratings=np.delete(train_ratings,[outlier], axis=0)\n",
    "train_pairs=np.delete(train_pairs,[outlier], axis=0)\n",
    "temp_train_user.drop(temp_train_user.index[outlier], inplace=True)\n",
    "temp_train_item.drop(temp_train_item.index[outlier], inplace=True)\n",
    "train_rating.drop(train_rating.index[outlier], inplace=True)"
   ]
  },
  {
   "cell_type": "code",
   "execution_count": 42,
   "metadata": {},
   "outputs": [],
   "source": [
    "n_user, n_item = max(train_pairs[:,0].max(), test_pairs[:,0].max())+1, max(train_pairs[:,1].max(), test_pairs[:,1].max())+1"
   ]
  },
  {
   "cell_type": "markdown",
   "metadata": {},
   "source": [
    "## Find the minimum and maximum of train_rating"
   ]
  },
  {
   "cell_type": "code",
   "execution_count": 43,
   "metadata": {},
   "outputs": [
    {
     "name": "stdout",
     "output_type": "stream",
     "text": [
      "Minmium and maximum: [0.0, 5.0]\n"
     ]
    }
   ],
   "source": [
    "class min_max_adj:\n",
    "    def __init__(self, train_rating):\n",
    "        self.min = np.min(train_rating)\n",
    "        self.max = np.max(train_rating)\n",
    "        self.true_rating = train_rating\n",
    "    \n",
    "    def adjust(self, pred_rating):\n",
    "        pred_rating_adjusted = pred_rating.copy()\n",
    "        pred_rating_adjusted[pred_rating > self.max] = self.max\n",
    "        pred_rating_adjusted[pred_rating < self.min] = self.min\n",
    "        return pred_rating_adjusted\n",
    "\n",
    "    def rmse(self, pred_rating):\n",
    "        return np.sqrt(np.mean((pred_rating - self.true_rating)**2))\n",
    "\n",
    "adjustment = min_max_adj(train_rating[\"rating\"])\n",
    "print(\"Minmium and maximum:\", [adjustment.min, adjustment.max])"
   ]
  },
  {
   "cell_type": "markdown",
   "metadata": {},
   "source": [
    "## Pre-processing the dataset\n",
    "\n",
    "All continuous features should be standardized as mean 0, std 1"
   ]
  },
  {
   "cell_type": "code",
   "execution_count": 44,
   "metadata": {},
   "outputs": [
    {
     "name": "stdout",
     "output_type": "stream",
     "text": [
      "#######################################################\n",
      "########## 10 random samples for users feats ##########\n",
      "#######################################################\n",
      "             V1        V2        V3        V4\n",
      "21124 -0.338629 -0.190890  1.320635  0.516165\n",
      "16041 -0.125444  1.018156  1.627877  0.516165\n",
      "5981  -0.073919  0.490991  0.529600  0.516165\n",
      "6315  -0.125444 -1.661129  0.103129  0.516165\n",
      "18329 -0.125444 -1.720234  0.662586  0.516165\n",
      "25485  1.338448  0.512721  0.536479 -2.381626\n",
      "40046 -2.013151 -0.835397  0.424129  0.516165\n",
      "14714 -0.421885 -1.557261 -1.258827  0.093130\n",
      "31282 -2.013151 -0.835397  0.424129  0.516165\n",
      "17479 -0.224051  0.501856  0.265922  0.516165\n",
      "#######################################################\n",
      "########## 10 random samples for items feats ##########\n",
      "#######################################################\n",
      "             V1        V2        V3\n",
      "22644 -1.548693 -2.550602 -0.900575\n",
      "31674  1.274368  0.356348 -1.565015\n",
      "12281  0.286257  0.010930  0.067173\n",
      "29467 -0.878976  1.085024 -0.331490\n",
      "11882  1.076268  0.030212 -0.892460\n",
      "31155 -1.568875  0.063535  0.935510\n",
      "16280 -0.053382 -0.595340  1.085642\n",
      "23591 -1.604193 -0.516191  1.436629\n",
      "19572 -1.215162 -1.733997 -1.339815\n",
      "39387  1.107603  0.517578  0.769146\n"
     ]
    }
   ],
   "source": [
    "## training data\n",
    "## pre-processing for users\n",
    "user_cont = ['V1','V2','V3','V4']\n",
    "user_pd_train[user_cont] = preprocessing.StandardScaler().fit_transform(user_pd_train[user_cont])\n",
    "\n",
    "## pre-processing for items\n",
    "item_cont = ['V1','V2','V3']\n",
    "item_pd_train[item_cont] = preprocessing.StandardScaler().fit_transform(item_pd_train[item_cont])\n",
    "\n",
    "\n",
    "print('#######################################################')\n",
    "print('########## 10 random samples for users feats ##########')\n",
    "print('#######################################################')\n",
    "print(user_pd_train.sample(10))\n",
    "\n",
    "print('#######################################################')\n",
    "print('########## 10 random samples for items feats ##########')\n",
    "print('#######################################################')\n",
    "print(item_pd_train.sample(10))"
   ]
  },
  {
   "cell_type": "code",
   "execution_count": 45,
   "metadata": {},
   "outputs": [
    {
     "name": "stdout",
     "output_type": "stream",
     "text": [
      "#######################################################\n",
      "########## 10 random samples for users feats ##########\n",
      "#######################################################\n",
      "             V1        V2        V3        V4\n",
      "2328  -0.271714 -0.165903  1.306942  0.528364\n",
      "18125  0.636206  0.675491  0.650607  0.528364\n",
      "9095   1.925053  1.518193  0.126910  0.528364\n",
      "72     1.917727  0.675491  0.650607  0.528364\n",
      "12359  0.780540 -0.102187 -1.343556  0.528364\n",
      "8009  -0.107994 -1.272195 -1.812367 -2.343292\n",
      "12570 -1.526763 -1.291834  0.092607  0.528364\n",
      "16872 -0.107994  0.350367  0.202378 -0.708335\n",
      "9097  -0.107994  0.180605  1.535631 -2.699629\n",
      "3896   1.067234  0.404045 -0.120073  0.528364\n",
      "#######################################################\n",
      "########## 10 random samples for items feats ##########\n",
      "#######################################################\n",
      "             V1        V2        V3\n",
      "11114  0.650704  0.138372 -0.899516\n",
      "11853 -1.059953  0.035569  1.098647\n",
      "6943  -0.670855  0.008869  1.103716\n",
      "7856   0.800215  0.358297  0.709355\n",
      "11267  0.278776  0.256534  0.732672\n",
      "4560  -1.126784 -0.049460 -1.257381\n",
      "13358  0.587043  0.224905  0.355546\n",
      "1583  -0.650779  0.240243  1.093578\n",
      "2422  -0.630176 -0.268284  0.200437\n",
      "5686   1.139388  0.139986 -1.410462\n"
     ]
    }
   ],
   "source": [
    "## testing data\n",
    "## pre-processing for users\n",
    "user_cont = ['V1','V2','V3','V4']\n",
    "user_pd_test[user_cont] = preprocessing.StandardScaler().fit_transform(user_pd_test[user_cont])\n",
    "\n",
    "## pre-processing for items\n",
    "item_cont = ['V1','V2','V3']\n",
    "item_pd_test[item_cont] = preprocessing.StandardScaler().fit_transform(item_pd_test[item_cont])\n",
    "\n",
    "\n",
    "print('#######################################################')\n",
    "print('########## 10 random samples for users feats ##########')\n",
    "print('#######################################################')\n",
    "print(user_pd_test.sample(10))\n",
    "\n",
    "print('#######################################################')\n",
    "print('########## 10 random samples for items feats ##########')\n",
    "print('#######################################################')\n",
    "print(item_pd_test.sample(10))"
   ]
  },
  {
   "cell_type": "markdown",
   "metadata": {},
   "source": [
    "# Method 1: ``LFM without side information``\n",
    "This part is contributed by `Lam Wai Chiu 1155152095` \n",
    "\n",
    "## GLB+user mean+LFM \n",
    "* (i) Model: GLB+user mean+LFM\n",
    "* (ii) hyperparameters:lamdba and k, tune by finding lowest vaild rmse \n",
    "* (iii)performance in Public Leaderboard: around 2.3\n",
    "* (iv) how to make improvement: set more k and lambda\n"
   ]
  },
  {
   "cell_type": "code",
   "execution_count": 25,
   "metadata": {},
   "outputs": [
    {
     "name": "stdout",
     "output_type": "stream",
     "text": [
      "3-Fold CV for K: 3; lam: 0.00010: train_rmse: 2.317, valid_rmse: 2.329\n",
      "3-Fold CV for K: 3; lam: 0.00010: train_rmse: 2.390, valid_rmse: 2.402\n",
      "3-Fold CV for K: 3; lam: 0.00010: train_rmse: 2.310, valid_rmse: 2.328\n",
      "3-Fold CV for K: 3; lam: 0.00032: train_rmse: 2.361, valid_rmse: 2.342\n",
      "3-Fold CV for K: 3; lam: 0.00032: train_rmse: 2.332, valid_rmse: 2.365\n",
      "3-Fold CV for K: 3; lam: 0.00032: train_rmse: 2.263, valid_rmse: 2.271\n",
      "3-Fold CV for K: 3; lam: 0.00100: train_rmse: 2.305, valid_rmse: 2.285\n",
      "3-Fold CV for K: 3; lam: 0.00100: train_rmse: 2.299, valid_rmse: 2.342\n",
      "3-Fold CV for K: 3; lam: 0.00100: train_rmse: 2.368, valid_rmse: 2.392\n",
      "3-Fold CV for K: 3; lam: 0.00316: train_rmse: 2.356, valid_rmse: 2.398\n",
      "3-Fold CV for K: 3; lam: 0.00316: train_rmse: 2.325, valid_rmse: 2.348\n",
      "3-Fold CV for K: 3; lam: 0.00316: train_rmse: 2.311, valid_rmse: 2.341\n",
      "3-Fold CV for K: 3; lam: 0.01000: train_rmse: 2.361, valid_rmse: 2.364\n",
      "3-Fold CV for K: 3; lam: 0.01000: train_rmse: 2.338, valid_rmse: 2.344\n",
      "3-Fold CV for K: 3; lam: 0.01000: train_rmse: 2.370, valid_rmse: 2.385\n",
      "3-Fold CV for K: 3; lam: 0.03162: train_rmse: 2.318, valid_rmse: 2.354\n",
      "3-Fold CV for K: 3; lam: 0.03162: train_rmse: 2.313, valid_rmse: 2.353\n",
      "3-Fold CV for K: 3; lam: 0.03162: train_rmse: 2.355, valid_rmse: 2.376\n",
      "3-Fold CV for K: 3; lam: 0.10000: train_rmse: 2.335, valid_rmse: 2.369\n",
      "3-Fold CV for K: 3; lam: 0.10000: train_rmse: 2.266, valid_rmse: 2.327\n",
      "3-Fold CV for K: 3; lam: 0.10000: train_rmse: 2.332, valid_rmse: 2.344\n",
      "3-Fold CV for K: 3; lam: 0.31623: train_rmse: 2.220, valid_rmse: 2.247\n",
      "3-Fold CV for K: 3; lam: 0.31623: train_rmse: 2.203, valid_rmse: 2.219\n",
      "3-Fold CV for K: 3; lam: 0.31623: train_rmse: 2.284, valid_rmse: 2.281\n",
      "3-Fold CV for K: 3; lam: 1.00000: train_rmse: 2.156, valid_rmse: 2.158\n",
      "3-Fold CV for K: 3; lam: 1.00000: train_rmse: 2.152, valid_rmse: 2.143\n",
      "3-Fold CV for K: 3; lam: 1.00000: train_rmse: 2.124, valid_rmse: 2.156\n",
      "3-Fold CV for K: 3; lam: 3.16228: train_rmse: 2.022, valid_rmse: 2.048\n",
      "3-Fold CV for K: 3; lam: 3.16228: train_rmse: 2.036, valid_rmse: 2.027\n",
      "3-Fold CV for K: 3; lam: 3.16228: train_rmse: 2.023, valid_rmse: 2.020\n",
      "3-Fold CV for K: 5; lam: 0.00010: train_rmse: 2.732, valid_rmse: 2.756\n",
      "3-Fold CV for K: 5; lam: 0.00010: train_rmse: 2.809, valid_rmse: 2.852\n",
      "3-Fold CV for K: 5; lam: 0.00010: train_rmse: 2.657, valid_rmse: 2.682\n",
      "3-Fold CV for K: 5; lam: 0.00032: train_rmse: 2.735, valid_rmse: 2.797\n",
      "3-Fold CV for K: 5; lam: 0.00032: train_rmse: 2.738, valid_rmse: 2.729\n",
      "3-Fold CV for K: 5; lam: 0.00032: train_rmse: 2.752, valid_rmse: 2.747\n",
      "3-Fold CV for K: 5; lam: 0.00100: train_rmse: 2.802, valid_rmse: 2.869\n",
      "3-Fold CV for K: 5; lam: 0.00100: train_rmse: 2.685, valid_rmse: 2.719\n",
      "3-Fold CV for K: 5; lam: 0.00100: train_rmse: 2.736, valid_rmse: 2.822\n",
      "3-Fold CV for K: 5; lam: 0.00316: train_rmse: 2.739, valid_rmse: 2.761\n",
      "3-Fold CV for K: 5; lam: 0.00316: train_rmse: 2.754, valid_rmse: 2.798\n",
      "3-Fold CV for K: 5; lam: 0.00316: train_rmse: 2.759, valid_rmse: 2.769\n",
      "3-Fold CV for K: 5; lam: 0.01000: train_rmse: 2.689, valid_rmse: 2.735\n",
      "3-Fold CV for K: 5; lam: 0.01000: train_rmse: 2.738, valid_rmse: 2.806\n",
      "3-Fold CV for K: 5; lam: 0.01000: train_rmse: 2.708, valid_rmse: 2.738\n",
      "3-Fold CV for K: 5; lam: 0.03162: train_rmse: 2.657, valid_rmse: 2.698\n",
      "3-Fold CV for K: 5; lam: 0.03162: train_rmse: 2.700, valid_rmse: 2.762\n",
      "3-Fold CV for K: 5; lam: 0.03162: train_rmse: 2.786, valid_rmse: 2.784\n",
      "3-Fold CV for K: 5; lam: 0.10000: train_rmse: 2.699, valid_rmse: 2.711\n",
      "3-Fold CV for K: 5; lam: 0.10000: train_rmse: 2.655, valid_rmse: 2.689\n",
      "3-Fold CV for K: 5; lam: 0.10000: train_rmse: 2.652, valid_rmse: 2.675\n",
      "3-Fold CV for K: 5; lam: 0.31623: train_rmse: 2.575, valid_rmse: 2.596\n",
      "3-Fold CV for K: 5; lam: 0.31623: train_rmse: 2.579, valid_rmse: 2.630\n",
      "3-Fold CV for K: 5; lam: 0.31623: train_rmse: 2.571, valid_rmse: 2.599\n",
      "3-Fold CV for K: 5; lam: 1.00000: train_rmse: 2.436, valid_rmse: 2.468\n",
      "3-Fold CV for K: 5; lam: 1.00000: train_rmse: 2.435, valid_rmse: 2.483\n",
      "3-Fold CV for K: 5; lam: 1.00000: train_rmse: 2.444, valid_rmse: 2.446\n",
      "3-Fold CV for K: 5; lam: 3.16228: train_rmse: 2.250, valid_rmse: 2.263\n",
      "3-Fold CV for K: 5; lam: 3.16228: train_rmse: 2.262, valid_rmse: 2.266\n",
      "3-Fold CV for K: 5; lam: 3.16228: train_rmse: 2.260, valid_rmse: 2.281\n",
      "3-Fold CV for K: 10; lam: 0.00010: train_rmse: 3.491, valid_rmse: 3.533\n",
      "3-Fold CV for K: 10; lam: 0.00010: train_rmse: 3.515, valid_rmse: 3.592\n",
      "3-Fold CV for K: 10; lam: 0.00010: train_rmse: 3.475, valid_rmse: 3.557\n",
      "3-Fold CV for K: 10; lam: 0.00032: train_rmse: 3.418, valid_rmse: 3.440\n",
      "3-Fold CV for K: 10; lam: 0.00032: train_rmse: 3.513, valid_rmse: 3.604\n",
      "3-Fold CV for K: 10; lam: 0.00032: train_rmse: 3.438, valid_rmse: 3.484\n",
      "3-Fold CV for K: 10; lam: 0.00100: train_rmse: 3.394, valid_rmse: 3.494\n",
      "3-Fold CV for K: 10; lam: 0.00100: train_rmse: 3.448, valid_rmse: 3.512\n",
      "3-Fold CV for K: 10; lam: 0.00100: train_rmse: 3.515, valid_rmse: 3.548\n",
      "3-Fold CV for K: 10; lam: 0.00316: train_rmse: 3.503, valid_rmse: 3.578\n",
      "3-Fold CV for K: 10; lam: 0.00316: train_rmse: 3.410, valid_rmse: 3.523\n",
      "3-Fold CV for K: 10; lam: 0.00316: train_rmse: 3.386, valid_rmse: 3.447\n",
      "3-Fold CV for K: 10; lam: 0.01000: train_rmse: 3.468, valid_rmse: 3.556\n",
      "3-Fold CV for K: 10; lam: 0.01000: train_rmse: 3.474, valid_rmse: 3.536\n",
      "3-Fold CV for K: 10; lam: 0.01000: train_rmse: 3.446, valid_rmse: 3.564\n",
      "3-Fold CV for K: 10; lam: 0.03162: train_rmse: 3.386, valid_rmse: 3.417\n",
      "3-Fold CV for K: 10; lam: 0.03162: train_rmse: 3.379, valid_rmse: 3.478\n",
      "3-Fold CV for K: 10; lam: 0.03162: train_rmse: 3.401, valid_rmse: 3.496\n",
      "3-Fold CV for K: 10; lam: 0.10000: train_rmse: 3.310, valid_rmse: 3.383\n",
      "3-Fold CV for K: 10; lam: 0.10000: train_rmse: 3.345, valid_rmse: 3.438\n",
      "3-Fold CV for K: 10; lam: 0.10000: train_rmse: 3.285, valid_rmse: 3.340\n",
      "3-Fold CV for K: 10; lam: 0.31623: train_rmse: 3.253, valid_rmse: 3.291\n",
      "3-Fold CV for K: 10; lam: 0.31623: train_rmse: 3.160, valid_rmse: 3.215\n",
      "3-Fold CV for K: 10; lam: 0.31623: train_rmse: 3.218, valid_rmse: 3.340\n",
      "3-Fold CV for K: 10; lam: 1.00000: train_rmse: 3.036, valid_rmse: 3.065\n",
      "3-Fold CV for K: 10; lam: 1.00000: train_rmse: 3.048, valid_rmse: 3.127\n",
      "3-Fold CV for K: 10; lam: 1.00000: train_rmse: 3.001, valid_rmse: 3.058\n",
      "3-Fold CV for K: 10; lam: 3.16228: train_rmse: 2.738, valid_rmse: 2.776\n",
      "3-Fold CV for K: 10; lam: 3.16228: train_rmse: 2.729, valid_rmse: 2.792\n",
      "3-Fold CV for K: 10; lam: 3.16228: train_rmse: 2.720, valid_rmse: 2.787\n"
     ]
    },
    {
     "data": {
      "image/png": "[encoded data removed]",
      "text/plain": [
       "<Figure size 432x288 with 2 Axes>"
      ]
     },
     "metadata": {},
     "output_type": "display_data"
    },
    {
     "data": {
      "image/png": "[encoded data removed]",
      "text/plain": [
       "<Figure size 432x288 with 2 Axes>"
      ]
     },
     "metadata": {},
     "output_type": "display_data"
    },
    {
     "name": "stdout",
     "output_type": "stream",
     "text": [
      "Fitting Reg-LFM: K: 3, lam: 3.16228\n",
      "Reg-LFM: ite: 0; diff: 0.130 RMSE: 2.252\n",
      "Reg-LFM: ite: 1; diff: 0.069 RMSE: 2.182\n",
      "Reg-LFM: ite: 2; diff: 0.047 RMSE: 2.135\n",
      "Reg-LFM: ite: 3; diff: 0.036 RMSE: 2.099\n",
      "Reg-LFM: ite: 4; diff: 0.029 RMSE: 2.070\n",
      "Reg-LFM: ite: 5; diff: 0.024 RMSE: 2.046\n",
      "Reg-LFM: ite: 6; diff: 0.021 RMSE: 2.025\n",
      "Reg-LFM: ite: 7; diff: 0.018 RMSE: 2.007\n",
      "Reg-LFM: ite: 8; diff: 0.016 RMSE: 1.991\n",
      "Reg-LFM: ite: 9; diff: 0.015 RMSE: 1.976\n"
     ]
    }
   ],
   "source": [
    "## GLB_mean\n",
    "glb_ave = glb_mean()\n",
    "glb_ave.fit(train_ratings)\n",
    "pred_glb = glb_ave.predict(test_pairs)\n",
    "train_rating_cm = train_ratings - glb_ave.predict(train_pairs)\n",
    "\n",
    "# user_mean\n",
    "user_ave = user_mean(n_user=n_user)\n",
    "user_ave.fit(train_pair=train_pairs, train_ratings=train_rating_cm)\n",
    "pred_user_mean = pred_glb + user_ave.predict(test_pairs)\n",
    "\n",
    "# fit GLB + user_mean + LFM_CV by residual ratings \n",
    "train_rating_res = train_rating_cm - user_ave.predict(train_pairs)\n",
    "Ks, lams = [3, 5, 10], 10**np.arange(-4, 1, .5)\n",
    "shiing_cv = LFM_CV(n_user, n_item, cv=3, Ks=Ks, lams=lams)\n",
    "shiing_cv.grid_search(train_pairs, train_rating_res)\n",
    "shiing_cv.plot_grid('valid')\n",
    "shiing_cv.plot_grid('train')\n",
    "\n",
    "## refit the best model, and make prediction\n",
    "best_K, best_lam = int(shiing_cv.best_model['K']), shiing_cv.best_model['lam']\n",
    "shiing=LFM(n_user, n_item, K=best_K, lam=best_lam)\n",
    "shiing.fit(train_pairs, train_rating_res)\n",
    "pred = pred_user_mean + shiing.predict(test_pairs)\n",
    "pred_rating = pred"
   ]
  },
  {
   "cell_type": "code",
   "execution_count": 20,
   "metadata": {},
   "outputs": [],
   "source": [
    "sub['rating'] = pred_rating\n",
    "save_csv(sub, \"../predict\", \"GLB_user_LFM\")"
   ]
  },
  {
   "cell_type": "markdown",
   "metadata": {},
   "source": [
    "## user mean+item mean+LFM\n",
    "* (i) Model: user mean+item mean+LFM\n",
    "* (ii) hyperparameters:lamdba and k, tune by finding lowest vaild rmse \n",
    "* (iii)performance in Public Leaderboard: around 2.1\n",
    "* (iv) how to make improvement: set more k and lambda"
   ]
  },
  {
   "cell_type": "code",
   "execution_count": 18,
   "metadata": {},
   "outputs": [
    {
     "name": "stdout",
     "output_type": "stream",
     "text": [
      "3-Fold CV for K: 3; lam: 0.00010: train_rmse: 2.055, valid_rmse: 2.064\n",
      "3-Fold CV for K: 3; lam: 0.00010: train_rmse: 2.008, valid_rmse: 2.030\n",
      "3-Fold CV for K: 3; lam: 0.00010: train_rmse: 2.079, valid_rmse: 2.120\n",
      "3-Fold CV for K: 3; lam: 0.00032: train_rmse: 2.242, valid_rmse: 2.245\n",
      "3-Fold CV for K: 3; lam: 0.00032: train_rmse: 2.104, valid_rmse: 2.100\n",
      "3-Fold CV for K: 3; lam: 0.00032: train_rmse: 2.088, valid_rmse: 2.032\n",
      "3-Fold CV for K: 3; lam: 0.00100: train_rmse: 2.031, valid_rmse: 2.015\n",
      "3-Fold CV for K: 3; lam: 0.00100: train_rmse: 1.984, valid_rmse: 2.043\n",
      "3-Fold CV for K: 3; lam: 0.00100: train_rmse: 2.301, valid_rmse: 2.328\n",
      "3-Fold CV for K: 3; lam: 0.00316: train_rmse: 2.127, valid_rmse: 2.169\n",
      "3-Fold CV for K: 3; lam: 0.00316: train_rmse: 2.029, valid_rmse: 2.033\n",
      "3-Fold CV for K: 3; lam: 0.00316: train_rmse: 2.102, valid_rmse: 2.093\n",
      "3-Fold CV for K: 3; lam: 0.01000: train_rmse: 2.024, valid_rmse: 2.067\n",
      "3-Fold CV for K: 3; lam: 0.01000: train_rmse: 2.060, valid_rmse: 2.061\n",
      "3-Fold CV for K: 3; lam: 0.01000: train_rmse: 2.080, valid_rmse: 2.102\n",
      "3-Fold CV for K: 3; lam: 0.03162: train_rmse: 1.986, valid_rmse: 2.003\n",
      "3-Fold CV for K: 3; lam: 0.03162: train_rmse: 2.045, valid_rmse: 2.071\n",
      "3-Fold CV for K: 3; lam: 0.03162: train_rmse: 2.027, valid_rmse: 2.038\n",
      "3-Fold CV for K: 3; lam: 0.10000: train_rmse: 2.043, valid_rmse: 2.070\n",
      "3-Fold CV for K: 3; lam: 0.10000: train_rmse: 2.050, valid_rmse: 2.053\n",
      "3-Fold CV for K: 3; lam: 0.10000: train_rmse: 1.994, valid_rmse: 2.017\n",
      "3-Fold CV for K: 3; lam: 0.31623: train_rmse: 1.903, valid_rmse: 1.901\n",
      "3-Fold CV for K: 3; lam: 0.31623: train_rmse: 1.940, valid_rmse: 1.966\n",
      "3-Fold CV for K: 3; lam: 0.31623: train_rmse: 1.884, valid_rmse: 1.934\n",
      "3-Fold CV for K: 3; lam: 1.00000: train_rmse: 1.807, valid_rmse: 1.807\n",
      "3-Fold CV for K: 3; lam: 1.00000: train_rmse: 1.772, valid_rmse: 1.825\n",
      "3-Fold CV for K: 3; lam: 1.00000: train_rmse: 1.833, valid_rmse: 1.827\n",
      "3-Fold CV for K: 3; lam: 3.16228: train_rmse: 1.664, valid_rmse: 1.667\n",
      "3-Fold CV for K: 3; lam: 3.16228: train_rmse: 1.636, valid_rmse: 1.661\n",
      "3-Fold CV for K: 3; lam: 3.16228: train_rmse: 1.669, valid_rmse: 1.672\n",
      "3-Fold CV for K: 5; lam: 0.00010: train_rmse: 2.491, valid_rmse: 2.509\n",
      "3-Fold CV for K: 5; lam: 0.00010: train_rmse: 2.451, valid_rmse: 2.478\n",
      "3-Fold CV for K: 5; lam: 0.00010: train_rmse: 2.417, valid_rmse: 2.436\n",
      "3-Fold CV for K: 5; lam: 0.00032: train_rmse: 2.408, valid_rmse: 2.446\n",
      "3-Fold CV for K: 5; lam: 0.00032: train_rmse: 2.440, valid_rmse: 2.485\n",
      "3-Fold CV for K: 5; lam: 0.00032: train_rmse: 2.422, valid_rmse: 2.469\n",
      "3-Fold CV for K: 5; lam: 0.00100: train_rmse: 2.460, valid_rmse: 2.485\n",
      "3-Fold CV for K: 5; lam: 0.00100: train_rmse: 2.418, valid_rmse: 2.439\n",
      "3-Fold CV for K: 5; lam: 0.00100: train_rmse: 2.451, valid_rmse: 2.488\n",
      "3-Fold CV for K: 5; lam: 0.00316: train_rmse: 2.446, valid_rmse: 2.508\n",
      "3-Fold CV for K: 5; lam: 0.00316: train_rmse: 2.437, valid_rmse: 2.458\n",
      "3-Fold CV for K: 5; lam: 0.00316: train_rmse: 2.500, valid_rmse: 2.548\n",
      "3-Fold CV for K: 5; lam: 0.01000: train_rmse: 2.445, valid_rmse: 2.467\n",
      "3-Fold CV for K: 5; lam: 0.01000: train_rmse: 2.517, valid_rmse: 2.557\n",
      "3-Fold CV for K: 5; lam: 0.01000: train_rmse: 2.473, valid_rmse: 2.489\n",
      "3-Fold CV for K: 5; lam: 0.03162: train_rmse: 2.510, valid_rmse: 2.501\n",
      "3-Fold CV for K: 5; lam: 0.03162: train_rmse: 2.473, valid_rmse: 2.495\n",
      "3-Fold CV for K: 5; lam: 0.03162: train_rmse: 2.436, valid_rmse: 2.467\n",
      "3-Fold CV for K: 5; lam: 0.10000: train_rmse: 2.451, valid_rmse: 2.466\n",
      "3-Fold CV for K: 5; lam: 0.10000: train_rmse: 2.450, valid_rmse: 2.471\n",
      "3-Fold CV for K: 5; lam: 0.10000: train_rmse: 2.334, valid_rmse: 2.343\n",
      "3-Fold CV for K: 5; lam: 0.31623: train_rmse: 2.294, valid_rmse: 2.349\n",
      "3-Fold CV for K: 5; lam: 0.31623: train_rmse: 2.363, valid_rmse: 2.359\n",
      "3-Fold CV for K: 5; lam: 0.31623: train_rmse: 2.242, valid_rmse: 2.314\n",
      "3-Fold CV for K: 5; lam: 1.00000: train_rmse: 2.152, valid_rmse: 2.206\n",
      "3-Fold CV for K: 5; lam: 1.00000: train_rmse: 2.136, valid_rmse: 2.150\n",
      "3-Fold CV for K: 5; lam: 1.00000: train_rmse: 2.149, valid_rmse: 2.203\n",
      "3-Fold CV for K: 5; lam: 3.16228: train_rmse: 1.942, valid_rmse: 1.988\n",
      "3-Fold CV for K: 5; lam: 3.16228: train_rmse: 1.928, valid_rmse: 1.936\n",
      "3-Fold CV for K: 5; lam: 3.16228: train_rmse: 1.931, valid_rmse: 1.964\n",
      "3-Fold CV for K: 10; lam: 0.00010: train_rmse: 3.288, valid_rmse: 3.336\n",
      "3-Fold CV for K: 10; lam: 0.00010: train_rmse: 3.206, valid_rmse: 3.333\n",
      "3-Fold CV for K: 10; lam: 0.00010: train_rmse: 3.261, valid_rmse: 3.340\n",
      "3-Fold CV for K: 10; lam: 0.00032: train_rmse: 3.210, valid_rmse: 3.223\n",
      "3-Fold CV for K: 10; lam: 0.00032: train_rmse: 3.294, valid_rmse: 3.386\n",
      "3-Fold CV for K: 10; lam: 0.00032: train_rmse: 3.223, valid_rmse: 3.285\n",
      "3-Fold CV for K: 10; lam: 0.00100: train_rmse: 3.252, valid_rmse: 3.325\n",
      "3-Fold CV for K: 10; lam: 0.00100: train_rmse: 3.201, valid_rmse: 3.304\n",
      "3-Fold CV for K: 10; lam: 0.00100: train_rmse: 3.227, valid_rmse: 3.340\n",
      "3-Fold CV for K: 10; lam: 0.00316: train_rmse: 3.219, valid_rmse: 3.313\n",
      "3-Fold CV for K: 10; lam: 0.00316: train_rmse: 3.291, valid_rmse: 3.381\n",
      "3-Fold CV for K: 10; lam: 0.00316: train_rmse: 3.146, valid_rmse: 3.188\n",
      "3-Fold CV for K: 10; lam: 0.01000: train_rmse: 3.292, valid_rmse: 3.410\n",
      "3-Fold CV for K: 10; lam: 0.01000: train_rmse: 3.324, valid_rmse: 3.412\n",
      "3-Fold CV for K: 10; lam: 0.01000: train_rmse: 3.157, valid_rmse: 3.217\n",
      "3-Fold CV for K: 10; lam: 0.03162: train_rmse: 3.307, valid_rmse: 3.432\n",
      "3-Fold CV for K: 10; lam: 0.03162: train_rmse: 3.270, valid_rmse: 3.339\n",
      "3-Fold CV for K: 10; lam: 0.03162: train_rmse: 3.181, valid_rmse: 3.251\n",
      "3-Fold CV for K: 10; lam: 0.10000: train_rmse: 3.214, valid_rmse: 3.295\n",
      "3-Fold CV for K: 10; lam: 0.10000: train_rmse: 3.221, valid_rmse: 3.314\n",
      "3-Fold CV for K: 10; lam: 0.10000: train_rmse: 3.154, valid_rmse: 3.205\n",
      "3-Fold CV for K: 10; lam: 0.31623: train_rmse: 3.044, valid_rmse: 3.073\n",
      "3-Fold CV for K: 10; lam: 0.31623: train_rmse: 2.936, valid_rmse: 3.017\n",
      "3-Fold CV for K: 10; lam: 0.31623: train_rmse: 3.044, valid_rmse: 3.128\n",
      "3-Fold CV for K: 10; lam: 1.00000: train_rmse: 2.773, valid_rmse: 2.848\n",
      "3-Fold CV for K: 10; lam: 1.00000: train_rmse: 2.795, valid_rmse: 2.878\n",
      "3-Fold CV for K: 10; lam: 1.00000: train_rmse: 2.777, valid_rmse: 2.846\n",
      "3-Fold CV for K: 10; lam: 3.16228: train_rmse: 2.461, valid_rmse: 2.533\n",
      "3-Fold CV for K: 10; lam: 3.16228: train_rmse: 2.452, valid_rmse: 2.531\n",
      "3-Fold CV for K: 10; lam: 3.16228: train_rmse: 2.475, valid_rmse: 2.521\n"
     ]
    },
    {
     "data": {
      "image/png": "[encoded data removed]",
      "text/plain": [
       "<Figure size 432x288 with 2 Axes>"
      ]
     },
     "metadata": {},
     "output_type": "display_data"
    },
    {
     "data": {
      "image/png": "[encoded data removed]",
      "text/plain": [
       "<Figure size 432x288 with 2 Axes>"
      ]
     },
     "metadata": {},
     "output_type": "display_data"
    },
    {
     "name": "stdout",
     "output_type": "stream",
     "text": [
      "Fitting Reg-LFM: K: 3, lam: 3.16228\n",
      "Reg-LFM: ite: 0; diff: 0.135 RMSE: 1.925\n",
      "Reg-LFM: ite: 1; diff: 0.079 RMSE: 1.846\n",
      "Reg-LFM: ite: 2; diff: 0.055 RMSE: 1.791\n",
      "Reg-LFM: ite: 3; diff: 0.042 RMSE: 1.749\n",
      "Reg-LFM: ite: 4; diff: 0.034 RMSE: 1.716\n",
      "Reg-LFM: ite: 5; diff: 0.028 RMSE: 1.687\n",
      "Reg-LFM: ite: 6; diff: 0.024 RMSE: 1.663\n",
      "Reg-LFM: ite: 7; diff: 0.021 RMSE: 1.642\n",
      "Reg-LFM: ite: 8; diff: 0.019 RMSE: 1.623\n",
      "Reg-LFM: ite: 9; diff: 0.017 RMSE: 1.606\n"
     ]
    }
   ],
   "source": [
    "## user_mean + item mean + LFM\n",
    "## user_mean \n",
    "user_ave = user_mean(n_user=n_user)\n",
    "user_ave.fit(train_pair=train_pairs, train_ratings=train_ratings)\n",
    "pred = user_ave.predict(test_pairs)\n",
    "\n",
    "## item_mean\n",
    "train_rating_cm = train_ratings - user_ave.predict(train_pairs)\n",
    "item_ave = item_mean(n_item=n_item)\n",
    "item_ave.fit(train_pair=train_pairs, train_ratings=train_rating_cm)\n",
    "train_rating_res = train_rating_cm - item_ave.predict(train_pairs)\n",
    "pred = pred + item_ave.predict(test_pairs)\n",
    "\n",
    "\n",
    "## fit user_mean + item_mean + LFM_CV by residual ratings \n",
    "Ks, lams = [3, 5, 10], 10**np.arange(-4, 1, .5)\n",
    "shiing_cv = LFM_CV(n_user, n_item, cv=3, Ks=Ks, lams=lams)\n",
    "shiing_cv.grid_search(train_pairs, train_rating_res)\n",
    "shiing_cv.plot_grid('valid')\n",
    "shiing_cv.plot_grid('train')\n",
    "\n",
    "## refit the best model, and make prediction\n",
    "best_K, best_lam = int(shiing_cv.best_model['K']), shiing_cv.best_model['lam']\n",
    "shiing=LFM(n_user, n_item, K=best_K, lam=best_lam)\n",
    "shiing.fit(train_pairs, train_rating_res)\n",
    "pred = pred + shiing.predict(test_pairs)\n",
    "pred_rating = pred"
   ]
  },
  {
   "cell_type": "code",
   "execution_count": 22,
   "metadata": {},
   "outputs": [],
   "source": [
    "sub['rating'] = pred_rating\n",
    "save_csv(sub, \"../predict\", \"user_item_LFM\")"
   ]
  },
  {
   "cell_type": "markdown",
   "metadata": {},
   "source": [
    "## GLB+user mean+item mean+LFM\n",
    "* (i) Model: GLB+user mean+LFM\n",
    "* (ii) hyperparameters:lamdba and k, tune by finding lowest vaild rmse \n",
    "* (iii)performance in Public Leaderboard: around 2.3\n",
    "* (iv) how to make improvement: set more k and lambda"
   ]
  },
  {
   "cell_type": "code",
   "execution_count": 24,
   "metadata": {},
   "outputs": [
    {
     "name": "stdout",
     "output_type": "stream",
     "text": [
      "3-Fold CV for K: 3; lam: 0.00010: train_rmse: 2.012, valid_rmse: 2.002\n",
      "3-Fold CV for K: 3; lam: 0.00010: train_rmse: 2.022, valid_rmse: 2.028\n",
      "3-Fold CV for K: 3; lam: 0.00010: train_rmse: 2.072, valid_rmse: 2.083\n",
      "3-Fold CV for K: 3; lam: 0.00032: train_rmse: 1.980, valid_rmse: 2.028\n",
      "3-Fold CV for K: 3; lam: 0.00032: train_rmse: 2.068, valid_rmse: 2.098\n",
      "3-Fold CV for K: 3; lam: 0.00032: train_rmse: 2.045, valid_rmse: 2.079\n",
      "3-Fold CV for K: 3; lam: 0.00100: train_rmse: 2.070, valid_rmse: 2.095\n",
      "3-Fold CV for K: 3; lam: 0.00100: train_rmse: 2.036, valid_rmse: 2.062\n",
      "3-Fold CV for K: 3; lam: 0.00100: train_rmse: 2.104, valid_rmse: 2.104\n",
      "3-Fold CV for K: 3; lam: 0.00316: train_rmse: 2.014, valid_rmse: 2.032\n",
      "3-Fold CV for K: 3; lam: 0.00316: train_rmse: 2.108, valid_rmse: 2.112\n",
      "3-Fold CV for K: 3; lam: 0.00316: train_rmse: 2.028, valid_rmse: 2.067\n",
      "3-Fold CV for K: 3; lam: 0.01000: train_rmse: 2.095, valid_rmse: 2.118\n",
      "3-Fold CV for K: 3; lam: 0.01000: train_rmse: 2.048, valid_rmse: 2.063\n",
      "3-Fold CV for K: 3; lam: 0.01000: train_rmse: 2.087, valid_rmse: 2.109\n",
      "3-Fold CV for K: 3; lam: 0.03162: train_rmse: 1.986, valid_rmse: 2.008\n",
      "3-Fold CV for K: 3; lam: 0.03162: train_rmse: 2.012, valid_rmse: 2.016\n",
      "3-Fold CV for K: 3; lam: 0.03162: train_rmse: 1.992, valid_rmse: 1.983\n",
      "3-Fold CV for K: 3; lam: 0.10000: train_rmse: 1.973, valid_rmse: 1.945\n",
      "3-Fold CV for K: 3; lam: 0.10000: train_rmse: 2.029, valid_rmse: 2.061\n",
      "3-Fold CV for K: 3; lam: 0.10000: train_rmse: 2.013, valid_rmse: 2.047\n",
      "3-Fold CV for K: 3; lam: 0.31623: train_rmse: 1.928, valid_rmse: 1.918\n",
      "3-Fold CV for K: 3; lam: 0.31623: train_rmse: 1.914, valid_rmse: 1.909\n",
      "3-Fold CV for K: 3; lam: 0.31623: train_rmse: 1.870, valid_rmse: 1.889\n",
      "3-Fold CV for K: 3; lam: 1.00000: train_rmse: 1.853, valid_rmse: 1.840\n",
      "3-Fold CV for K: 3; lam: 1.00000: train_rmse: 1.797, valid_rmse: 1.812\n",
      "3-Fold CV for K: 3; lam: 1.00000: train_rmse: 1.821, valid_rmse: 1.869\n",
      "3-Fold CV for K: 3; lam: 3.16228: train_rmse: 1.642, valid_rmse: 1.677\n",
      "3-Fold CV for K: 3; lam: 3.16228: train_rmse: 1.646, valid_rmse: 1.660\n",
      "3-Fold CV for K: 3; lam: 3.16228: train_rmse: 1.661, valid_rmse: 1.660\n",
      "3-Fold CV for K: 5; lam: 0.00010: train_rmse: 2.528, valid_rmse: 2.557\n",
      "3-Fold CV for K: 5; lam: 0.00010: train_rmse: 2.374, valid_rmse: 2.412\n",
      "3-Fold CV for K: 5; lam: 0.00010: train_rmse: 2.483, valid_rmse: 2.556\n",
      "3-Fold CV for K: 5; lam: 0.00032: train_rmse: 2.481, valid_rmse: 2.502\n",
      "3-Fold CV for K: 5; lam: 0.00032: train_rmse: 2.468, valid_rmse: 2.515\n",
      "3-Fold CV for K: 5; lam: 0.00032: train_rmse: 2.535, valid_rmse: 2.570\n",
      "3-Fold CV for K: 5; lam: 0.00100: train_rmse: 2.417, valid_rmse: 2.428\n",
      "3-Fold CV for K: 5; lam: 0.00100: train_rmse: 2.422, valid_rmse: 2.449\n",
      "3-Fold CV for K: 5; lam: 0.00100: train_rmse: 2.413, valid_rmse: 2.408\n",
      "3-Fold CV for K: 5; lam: 0.00316: train_rmse: 2.535, valid_rmse: 2.565\n",
      "3-Fold CV for K: 5; lam: 0.00316: train_rmse: 2.466, valid_rmse: 2.490\n",
      "3-Fold CV for K: 5; lam: 0.00316: train_rmse: 2.431, valid_rmse: 2.480\n",
      "3-Fold CV for K: 5; lam: 0.01000: train_rmse: 2.441, valid_rmse: 2.470\n",
      "3-Fold CV for K: 5; lam: 0.01000: train_rmse: 2.409, valid_rmse: 2.441\n",
      "3-Fold CV for K: 5; lam: 0.01000: train_rmse: 2.505, valid_rmse: 2.552\n",
      "3-Fold CV for K: 5; lam: 0.03162: train_rmse: 2.475, valid_rmse: 2.486\n",
      "3-Fold CV for K: 5; lam: 0.03162: train_rmse: 2.433, valid_rmse: 2.455\n",
      "3-Fold CV for K: 5; lam: 0.03162: train_rmse: 2.390, valid_rmse: 2.383\n",
      "3-Fold CV for K: 5; lam: 0.10000: train_rmse: 2.418, valid_rmse: 2.482\n",
      "3-Fold CV for K: 5; lam: 0.10000: train_rmse: 2.379, valid_rmse: 2.402\n",
      "3-Fold CV for K: 5; lam: 0.10000: train_rmse: 2.402, valid_rmse: 2.417\n",
      "3-Fold CV for K: 5; lam: 0.31623: train_rmse: 2.304, valid_rmse: 2.320\n",
      "3-Fold CV for K: 5; lam: 0.31623: train_rmse: 2.259, valid_rmse: 2.326\n",
      "3-Fold CV for K: 5; lam: 0.31623: train_rmse: 2.309, valid_rmse: 2.371\n",
      "3-Fold CV for K: 5; lam: 1.00000: train_rmse: 2.126, valid_rmse: 2.153\n",
      "3-Fold CV for K: 5; lam: 1.00000: train_rmse: 2.157, valid_rmse: 2.205\n",
      "3-Fold CV for K: 5; lam: 1.00000: train_rmse: 2.204, valid_rmse: 2.176\n",
      "3-Fold CV for K: 5; lam: 3.16228: train_rmse: 1.938, valid_rmse: 1.942\n",
      "3-Fold CV for K: 5; lam: 3.16228: train_rmse: 1.950, valid_rmse: 1.977\n",
      "3-Fold CV for K: 5; lam: 3.16228: train_rmse: 1.940, valid_rmse: 1.997\n",
      "3-Fold CV for K: 10; lam: 0.00010: train_rmse: 3.293, valid_rmse: 3.382\n",
      "3-Fold CV for K: 10; lam: 0.00010: train_rmse: 3.190, valid_rmse: 3.250\n",
      "3-Fold CV for K: 10; lam: 0.00010: train_rmse: 3.274, valid_rmse: 3.377\n",
      "3-Fold CV for K: 10; lam: 0.00032: train_rmse: 3.280, valid_rmse: 3.372\n",
      "3-Fold CV for K: 10; lam: 0.00032: train_rmse: 3.251, valid_rmse: 3.339\n",
      "3-Fold CV for K: 10; lam: 0.00032: train_rmse: 3.232, valid_rmse: 3.345\n",
      "3-Fold CV for K: 10; lam: 0.00100: train_rmse: 3.300, valid_rmse: 3.314\n",
      "3-Fold CV for K: 10; lam: 0.00100: train_rmse: 3.214, valid_rmse: 3.372\n",
      "3-Fold CV for K: 10; lam: 0.00100: train_rmse: 3.377, valid_rmse: 3.492\n",
      "3-Fold CV for K: 10; lam: 0.00316: train_rmse: 3.288, valid_rmse: 3.387\n",
      "3-Fold CV for K: 10; lam: 0.00316: train_rmse: 3.246, valid_rmse: 3.308\n",
      "3-Fold CV for K: 10; lam: 0.00316: train_rmse: 3.339, valid_rmse: 3.444\n",
      "3-Fold CV for K: 10; lam: 0.01000: train_rmse: 3.201, valid_rmse: 3.264\n",
      "3-Fold CV for K: 10; lam: 0.01000: train_rmse: 3.235, valid_rmse: 3.315\n",
      "3-Fold CV for K: 10; lam: 0.01000: train_rmse: 3.266, valid_rmse: 3.363\n",
      "3-Fold CV for K: 10; lam: 0.03162: train_rmse: 3.211, valid_rmse: 3.297\n",
      "3-Fold CV for K: 10; lam: 0.03162: train_rmse: 3.192, valid_rmse: 3.266\n",
      "3-Fold CV for K: 10; lam: 0.03162: train_rmse: 3.209, valid_rmse: 3.305\n",
      "3-Fold CV for K: 10; lam: 0.10000: train_rmse: 3.215, valid_rmse: 3.283\n",
      "3-Fold CV for K: 10; lam: 0.10000: train_rmse: 3.251, valid_rmse: 3.326\n",
      "3-Fold CV for K: 10; lam: 0.10000: train_rmse: 3.130, valid_rmse: 3.194\n",
      "3-Fold CV for K: 10; lam: 0.31623: train_rmse: 2.992, valid_rmse: 3.069\n",
      "3-Fold CV for K: 10; lam: 0.31623: train_rmse: 3.046, valid_rmse: 3.109\n",
      "3-Fold CV for K: 10; lam: 0.31623: train_rmse: 3.002, valid_rmse: 3.067\n",
      "3-Fold CV for K: 10; lam: 1.00000: train_rmse: 2.809, valid_rmse: 2.849\n",
      "3-Fold CV for K: 10; lam: 1.00000: train_rmse: 2.815, valid_rmse: 2.874\n",
      "3-Fold CV for K: 10; lam: 1.00000: train_rmse: 2.784, valid_rmse: 2.814\n",
      "3-Fold CV for K: 10; lam: 3.16228: train_rmse: 2.470, valid_rmse: 2.563\n",
      "3-Fold CV for K: 10; lam: 3.16228: train_rmse: 2.442, valid_rmse: 2.512\n",
      "3-Fold CV for K: 10; lam: 3.16228: train_rmse: 2.462, valid_rmse: 2.504\n"
     ]
    },
    {
     "data": {
      "image/png": "[encoded data removed]",
      "text/plain": [
       "<Figure size 432x288 with 2 Axes>"
      ]
     },
     "metadata": {},
     "output_type": "display_data"
    },
    {
     "data": {
      "image/png": "[encoded data removed]",
      "text/plain": [
       "<Figure size 432x288 with 2 Axes>"
      ]
     },
     "metadata": {},
     "output_type": "display_data"
    },
    {
     "name": "stdout",
     "output_type": "stream",
     "text": [
      "Fitting Reg-LFM: K: 3, lam: 3.16228\n",
      "Reg-LFM: ite: 0; diff: 0.189 RMSE: 1.930\n",
      "Reg-LFM: ite: 1; diff: 0.080 RMSE: 1.851\n",
      "Reg-LFM: ite: 2; diff: 0.053 RMSE: 1.797\n",
      "Reg-LFM: ite: 3; diff: 0.040 RMSE: 1.757\n",
      "Reg-LFM: ite: 4; diff: 0.033 RMSE: 1.724\n",
      "Reg-LFM: ite: 5; diff: 0.028 RMSE: 1.696\n",
      "Reg-LFM: ite: 6; diff: 0.024 RMSE: 1.672\n",
      "Reg-LFM: ite: 7; diff: 0.021 RMSE: 1.651\n",
      "Reg-LFM: ite: 8; diff: 0.019 RMSE: 1.631\n",
      "Reg-LFM: ite: 9; diff: 0.017 RMSE: 1.614\n"
     ]
    }
   ],
   "source": [
    "# glb mean\n",
    "glb_ave = glb_mean()\n",
    "glb_ave.fit(train_ratings)\n",
    "pred = glb_ave.predict(test_pairs)\n",
    "\n",
    "# user_mean\n",
    "train_rating_res = train_ratings - glb_ave.predict(train_pairs)\n",
    "user_ave = user_mean(n_user=n_user)\n",
    "user_ave.fit(train_pair=train_pairs, train_ratings=train_rating_res)\n",
    "pred = pred + user_ave.predict(test_pairs)\n",
    "\n",
    "# item_mean\n",
    "train_rating_res -=  user_ave.predict(train_pairs)\n",
    "item_ave = item_mean(n_item=n_item)\n",
    "item_ave.fit(train_pair=train_pairs, train_ratings=train_rating_res)\n",
    "pred = pred + item_ave.predict(test_pairs)\n",
    "train_rating_res -= item_ave.predict(train_pairs)\n",
    "\n",
    "# fit GLB + user_mean + item_mean + LFM_CV by residual ratings \n",
    "Ks, lams = [3, 5, 10], 10**np.arange(-4, 1, .5)\n",
    "shiing_cv = LFM_CV(n_user, n_item, cv=3, Ks=Ks, lams=lams)\n",
    "shiing_cv.grid_search(train_pairs, train_rating_res)\n",
    "shiing_cv.plot_grid('valid')\n",
    "shiing_cv.plot_grid('train')\n",
    "\n",
    "## refit the best model, and make prediction\n",
    "best_K, best_lam = int(shiing_cv.best_model['K']), shiing_cv.best_model['lam']\n",
    "shiing=LFM(n_user, n_item, K=best_K, lam=best_lam)\n",
    "shiing.fit(train_pairs, train_rating_res)\n",
    "pred = pred + shiing.predict(test_pairs)\n",
    "pred_rating = pred"
   ]
  },
  {
   "cell_type": "code",
   "execution_count": 25,
   "metadata": {},
   "outputs": [],
   "source": [
    "sub['rating'] = pred_rating\n",
    "save_csv(sub, \"../predict\", \"GLB_user_item_LFM\")"
   ]
  },
  {
   "cell_type": "markdown",
   "metadata": {},
   "source": [
    "# Method 2: ``Regression``: rating ~ user_features + item_features\n",
    "This part is contributed by `Lam Wai Chiu 1155152095` \n",
    "\n",
    "* (i) Model: Regression+LFM\n",
    "* (ii) hyperparameters:lamdba and k, tune by finding lowest vaild rmse \n",
    "* (iii)performance in Public Leaderboard: around 1.9\n",
    "* (iv) how to make improvement: set more k and lambda, generate more addictional information\n",
    "## Step 1: generate `joint_feats` by emerge all user and item features"
   ]
  },
  {
   "cell_type": "code",
   "execution_count": 46,
   "metadata": {},
   "outputs": [],
   "source": [
    "train_joint_feats=np.concatenate((user_pd_train.values, item_pd_train), axis=1)\n",
    "test_joint_feats=np.concatenate((user_pd_test.values, item_pd_test.values), axis=1)"
   ]
  },
  {
   "cell_type": "markdown",
   "metadata": {},
   "source": [
    "## Step 2: fit `regression`: rating ~ joint features  + `LFM`\n"
   ]
  },
  {
   "cell_type": "code",
   "execution_count": 27,
   "metadata": {},
   "outputs": [],
   "source": [
    "reg = LinearRegression().fit(train_joint_feats, train_ratings)\n",
    "reg_rating = reg.predict(test_joint_feats)\n",
    "train_rating_res = train_ratings - reg.predict(train_joint_feats)"
   ]
  },
  {
   "cell_type": "markdown",
   "metadata": {},
   "source": [
    "## Step 3: fit ``LFM`` after the regression"
   ]
  },
  {
   "cell_type": "code",
   "execution_count": 28,
   "metadata": {
    "scrolled": false
   },
   "outputs": [
    {
     "name": "stdout",
     "output_type": "stream",
     "text": [
      "3-Fold CV for K: 3; lam: 0.00010: train_rmse: 2.648, valid_rmse: 2.652\n",
      "3-Fold CV for K: 3; lam: 0.00010: train_rmse: 2.604, valid_rmse: 2.642\n",
      "3-Fold CV for K: 3; lam: 0.00010: train_rmse: 2.619, valid_rmse: 2.698\n",
      "3-Fold CV for K: 3; lam: 0.00032: train_rmse: 2.609, valid_rmse: 2.604\n",
      "3-Fold CV for K: 3; lam: 0.00032: train_rmse: 2.659, valid_rmse: 2.700\n",
      "3-Fold CV for K: 3; lam: 0.00032: train_rmse: 2.575, valid_rmse: 2.607\n",
      "3-Fold CV for K: 3; lam: 0.00100: train_rmse: 2.599, valid_rmse: 2.630\n",
      "3-Fold CV for K: 3; lam: 0.00100: train_rmse: 2.663, valid_rmse: 2.703\n",
      "3-Fold CV for K: 3; lam: 0.00100: train_rmse: 2.650, valid_rmse: 2.659\n",
      "3-Fold CV for K: 3; lam: 0.00316: train_rmse: 2.569, valid_rmse: 2.589\n",
      "3-Fold CV for K: 3; lam: 0.00316: train_rmse: 2.603, valid_rmse: 2.619\n",
      "3-Fold CV for K: 3; lam: 0.00316: train_rmse: 2.598, valid_rmse: 2.580\n",
      "3-Fold CV for K: 3; lam: 0.01000: train_rmse: 2.620, valid_rmse: 2.626\n",
      "3-Fold CV for K: 3; lam: 0.01000: train_rmse: 2.623, valid_rmse: 2.630\n",
      "3-Fold CV for K: 3; lam: 0.01000: train_rmse: 2.557, valid_rmse: 2.572\n",
      "3-Fold CV for K: 3; lam: 0.03162: train_rmse: 2.546, valid_rmse: 2.598\n",
      "3-Fold CV for K: 3; lam: 0.03162: train_rmse: 2.617, valid_rmse: 2.631\n",
      "3-Fold CV for K: 3; lam: 0.03162: train_rmse: 2.638, valid_rmse: 2.652\n",
      "3-Fold CV for K: 3; lam: 0.10000: train_rmse: 2.586, valid_rmse: 2.619\n",
      "3-Fold CV for K: 3; lam: 0.10000: train_rmse: 2.604, valid_rmse: 2.579\n",
      "3-Fold CV for K: 3; lam: 0.10000: train_rmse: 2.558, valid_rmse: 2.573\n",
      "3-Fold CV for K: 3; lam: 0.31623: train_rmse: 2.480, valid_rmse: 2.514\n",
      "3-Fold CV for K: 3; lam: 0.31623: train_rmse: 2.498, valid_rmse: 2.538\n",
      "3-Fold CV for K: 3; lam: 0.31623: train_rmse: 2.506, valid_rmse: 2.539\n",
      "3-Fold CV for K: 3; lam: 1.00000: train_rmse: 2.407, valid_rmse: 2.431\n",
      "3-Fold CV for K: 3; lam: 1.00000: train_rmse: 2.419, valid_rmse: 2.432\n",
      "3-Fold CV for K: 3; lam: 1.00000: train_rmse: 2.430, valid_rmse: 2.458\n",
      "3-Fold CV for K: 3; lam: 3.16228: train_rmse: 2.320, valid_rmse: 2.327\n",
      "3-Fold CV for K: 3; lam: 3.16228: train_rmse: 2.337, valid_rmse: 2.340\n",
      "3-Fold CV for K: 3; lam: 3.16228: train_rmse: 2.316, valid_rmse: 2.360\n",
      "3-Fold CV for K: 5; lam: 0.00010: train_rmse: 2.895, valid_rmse: 2.939\n",
      "3-Fold CV for K: 5; lam: 0.00010: train_rmse: 2.962, valid_rmse: 2.995\n",
      "3-Fold CV for K: 5; lam: 0.00010: train_rmse: 2.946, valid_rmse: 2.995\n",
      "3-Fold CV for K: 5; lam: 0.00032: train_rmse: 2.965, valid_rmse: 2.998\n",
      "3-Fold CV for K: 5; lam: 0.00032: train_rmse: 2.915, valid_rmse: 2.919\n",
      "3-Fold CV for K: 5; lam: 0.00032: train_rmse: 2.950, valid_rmse: 3.014\n",
      "3-Fold CV for K: 5; lam: 0.00100: train_rmse: 3.023, valid_rmse: 3.080\n",
      "3-Fold CV for K: 5; lam: 0.00100: train_rmse: 3.001, valid_rmse: 3.058\n",
      "3-Fold CV for K: 5; lam: 0.00100: train_rmse: 2.996, valid_rmse: 3.006\n",
      "3-Fold CV for K: 5; lam: 0.00316: train_rmse: 2.966, valid_rmse: 3.016\n",
      "3-Fold CV for K: 5; lam: 0.00316: train_rmse: 2.934, valid_rmse: 2.955\n",
      "3-Fold CV for K: 5; lam: 0.00316: train_rmse: 2.979, valid_rmse: 2.987\n",
      "3-Fold CV for K: 5; lam: 0.01000: train_rmse: 2.942, valid_rmse: 2.960\n",
      "3-Fold CV for K: 5; lam: 0.01000: train_rmse: 2.916, valid_rmse: 2.987\n",
      "3-Fold CV for K: 5; lam: 0.01000: train_rmse: 3.052, valid_rmse: 3.051\n",
      "3-Fold CV for K: 5; lam: 0.03162: train_rmse: 2.936, valid_rmse: 2.990\n",
      "3-Fold CV for K: 5; lam: 0.03162: train_rmse: 2.930, valid_rmse: 2.948\n",
      "3-Fold CV for K: 5; lam: 0.03162: train_rmse: 2.861, valid_rmse: 2.911\n",
      "3-Fold CV for K: 5; lam: 0.10000: train_rmse: 2.867, valid_rmse: 2.938\n",
      "3-Fold CV for K: 5; lam: 0.10000: train_rmse: 2.873, valid_rmse: 2.927\n",
      "3-Fold CV for K: 5; lam: 0.10000: train_rmse: 2.900, valid_rmse: 2.876\n",
      "3-Fold CV for K: 5; lam: 0.31623: train_rmse: 2.783, valid_rmse: 2.858\n",
      "3-Fold CV for K: 5; lam: 0.31623: train_rmse: 2.793, valid_rmse: 2.803\n",
      "3-Fold CV for K: 5; lam: 0.31623: train_rmse: 2.781, valid_rmse: 2.796\n",
      "3-Fold CV for K: 5; lam: 1.00000: train_rmse: 2.670, valid_rmse: 2.715\n",
      "3-Fold CV for K: 5; lam: 1.00000: train_rmse: 2.690, valid_rmse: 2.736\n",
      "3-Fold CV for K: 5; lam: 1.00000: train_rmse: 2.681, valid_rmse: 2.731\n",
      "3-Fold CV for K: 5; lam: 3.16228: train_rmse: 2.504, valid_rmse: 2.556\n",
      "3-Fold CV for K: 5; lam: 3.16228: train_rmse: 2.526, valid_rmse: 2.563\n",
      "3-Fold CV for K: 5; lam: 3.16228: train_rmse: 2.521, valid_rmse: 2.558\n",
      "3-Fold CV for K: 10; lam: 0.00010: train_rmse: 3.648, valid_rmse: 3.757\n",
      "3-Fold CV for K: 10; lam: 0.00010: train_rmse: 3.668, valid_rmse: 3.777\n",
      "3-Fold CV for K: 10; lam: 0.00010: train_rmse: 3.687, valid_rmse: 3.773\n",
      "3-Fold CV for K: 10; lam: 0.00032: train_rmse: 3.645, valid_rmse: 3.683\n",
      "3-Fold CV for K: 10; lam: 0.00032: train_rmse: 3.696, valid_rmse: 3.763\n",
      "3-Fold CV for K: 10; lam: 0.00032: train_rmse: 3.634, valid_rmse: 3.694\n",
      "3-Fold CV for K: 10; lam: 0.00100: train_rmse: 3.662, valid_rmse: 3.750\n",
      "3-Fold CV for K: 10; lam: 0.00100: train_rmse: 3.614, valid_rmse: 3.737\n",
      "3-Fold CV for K: 10; lam: 0.00100: train_rmse: 3.654, valid_rmse: 3.751\n",
      "3-Fold CV for K: 10; lam: 0.00316: train_rmse: 3.647, valid_rmse: 3.738\n",
      "3-Fold CV for K: 10; lam: 0.00316: train_rmse: 3.612, valid_rmse: 3.627\n",
      "3-Fold CV for K: 10; lam: 0.00316: train_rmse: 3.674, valid_rmse: 3.751\n",
      "3-Fold CV for K: 10; lam: 0.01000: train_rmse: 3.656, valid_rmse: 3.706\n",
      "3-Fold CV for K: 10; lam: 0.01000: train_rmse: 3.640, valid_rmse: 3.740\n",
      "3-Fold CV for K: 10; lam: 0.01000: train_rmse: 3.601, valid_rmse: 3.670\n",
      "3-Fold CV for K: 10; lam: 0.03162: train_rmse: 3.515, valid_rmse: 3.611\n",
      "3-Fold CV for K: 10; lam: 0.03162: train_rmse: 3.597, valid_rmse: 3.692\n",
      "3-Fold CV for K: 10; lam: 0.03162: train_rmse: 3.627, valid_rmse: 3.646\n",
      "3-Fold CV for K: 10; lam: 0.10000: train_rmse: 3.540, valid_rmse: 3.603\n",
      "3-Fold CV for K: 10; lam: 0.10000: train_rmse: 3.507, valid_rmse: 3.584\n",
      "3-Fold CV for K: 10; lam: 0.10000: train_rmse: 3.487, valid_rmse: 3.559\n",
      "3-Fold CV for K: 10; lam: 0.31623: train_rmse: 3.362, valid_rmse: 3.461\n",
      "3-Fold CV for K: 10; lam: 0.31623: train_rmse: 3.419, valid_rmse: 3.460\n",
      "3-Fold CV for K: 10; lam: 0.31623: train_rmse: 3.385, valid_rmse: 3.493\n",
      "3-Fold CV for K: 10; lam: 1.00000: train_rmse: 3.211, valid_rmse: 3.316\n",
      "3-Fold CV for K: 10; lam: 1.00000: train_rmse: 3.176, valid_rmse: 3.214\n",
      "3-Fold CV for K: 10; lam: 1.00000: train_rmse: 3.195, valid_rmse: 3.241\n",
      "3-Fold CV for K: 10; lam: 3.16228: train_rmse: 2.951, valid_rmse: 3.031\n",
      "3-Fold CV for K: 10; lam: 3.16228: train_rmse: 2.939, valid_rmse: 2.996\n",
      "3-Fold CV for K: 10; lam: 3.16228: train_rmse: 2.938, valid_rmse: 3.015\n"
     ]
    },
    {
     "data": {
      "image/png": "[encoded data removed]",
      "text/plain": [
       "<Figure size 432x288 with 2 Axes>"
      ]
     },
     "metadata": {},
     "output_type": "display_data"
    },
    {
     "data": {
      "image/png": "[encoded data removed]",
      "text/plain": [
       "<Figure size 432x288 with 2 Axes>"
      ]
     },
     "metadata": {},
     "output_type": "display_data"
    },
    {
     "name": "stdout",
     "output_type": "stream",
     "text": [
      "K             3.000000\n",
      "lam           3.162278\n",
      "train_rmse    2.324366\n",
      "valid_rmse    2.342302\n",
      "Name: 9, dtype: float64\n",
      "Fitting Reg-LFM: K: 3, lam: 3.16228\n",
      "Reg-LFM: ite: 0; diff: 0.112 RMSE: 2.485\n",
      "Reg-LFM: ite: 1; diff: 0.049 RMSE: 2.436\n",
      "Reg-LFM: ite: 2; diff: 0.034 RMSE: 2.402\n",
      "Reg-LFM: ite: 3; diff: 0.027 RMSE: 2.376\n",
      "Reg-LFM: ite: 4; diff: 0.022 RMSE: 2.354\n",
      "Reg-LFM: ite: 5; diff: 0.018 RMSE: 2.335\n",
      "Reg-LFM: ite: 6; diff: 0.016 RMSE: 2.319\n",
      "Reg-LFM: ite: 7; diff: 0.014 RMSE: 2.305\n",
      "Reg-LFM: ite: 8; diff: 0.013 RMSE: 2.292\n",
      "Reg-LFM: ite: 9; diff: 0.012 RMSE: 2.281\n"
     ]
    }
   ],
   "source": [
    "Ks, lams = [3, 5, 10], 10**np.arange(-4, 1, .5)\n",
    "shiing_cv = LFM_CV(n_user, n_item, cv=3, Ks=Ks, lams=lams)\n",
    "shiing_cv.grid_search(train_pairs, train_rating_res)\n",
    "shiing_cv.plot_grid('valid')\n",
    "shiing_cv.plot_grid('train')\n",
    "\n",
    "## refit the best model with the full dataset\n",
    "print(shiing_cv.best_model)\n",
    "best_K, best_lam = int(shiing_cv.best_model['K']), shiing_cv.best_model['lam']\n",
    "shiing_best = LFM(n_user, n_item, K=best_K, lam=best_lam)\n",
    "shiing_best.fit(train_pairs, train_rating_res)\n",
    "pred_rating = reg_rating + shiing_best.predict(test_pairs)"
   ]
  },
  {
   "cell_type": "code",
   "execution_count": 30,
   "metadata": {},
   "outputs": [],
   "source": [
    "sub['rating'] = pred_rating\n",
    "save_csv(sub, \"../predict\", \"reg_LFM\")"
   ]
  },
  {
   "cell_type": "markdown",
   "metadata": {},
   "source": [
    "# Method 3: ``RandomForest Regressor``: rating ~ user_features + item_features + `LFM`\n",
    "This part is contributed by `Lam Wai Chiu 1155152095` \n",
    "\n",
    "* (i) Model: RandomForest Regressor+LFM\n",
    "* (ii) hyperparameters:lamdba and k, tune by finding lowest vaild rmse \n",
    "* (iii)performance in Public Leaderboard: around 1.9\n",
    "* (iv) how to make improvement: set more k and lambda, generate more addictional information\n",
    "## Step 1: fit `regression`: rating ~ joint features"
   ]
  },
  {
   "cell_type": "code",
   "execution_count": 31,
   "metadata": {},
   "outputs": [],
   "source": [
    "regressor = RandomForestRegressor(n_estimators = 500, random_state = 3009)\n",
    "regressor.fit(train_joint_feats, train_ratings)\n",
    "pred_reg=regressor.predict(test_joint_feats)\n",
    "train_rating_res = train_ratings - reg.predict(train_joint_feats)"
   ]
  },
  {
   "cell_type": "markdown",
   "metadata": {},
   "source": [
    "## Step 2: fit ``LFM`` after the RandomForest Regressor"
   ]
  },
  {
   "cell_type": "code",
   "execution_count": 32,
   "metadata": {},
   "outputs": [
    {
     "name": "stdout",
     "output_type": "stream",
     "text": [
      "3-Fold CV for K: 3; lam: 0.00010: train_rmse: 2.564, valid_rmse: 2.579\n",
      "3-Fold CV for K: 3; lam: 0.00010: train_rmse: 2.566, valid_rmse: 2.588\n",
      "3-Fold CV for K: 3; lam: 0.00010: train_rmse: 2.587, valid_rmse: 2.644\n",
      "3-Fold CV for K: 3; lam: 0.00032: train_rmse: 2.539, valid_rmse: 2.581\n",
      "3-Fold CV for K: 3; lam: 0.00032: train_rmse: 2.607, valid_rmse: 2.595\n",
      "3-Fold CV for K: 3; lam: 0.00032: train_rmse: 2.600, valid_rmse: 2.623\n",
      "3-Fold CV for K: 3; lam: 0.00100: train_rmse: 2.540, valid_rmse: 2.558\n",
      "3-Fold CV for K: 3; lam: 0.00100: train_rmse: 2.653, valid_rmse: 2.656\n",
      "3-Fold CV for K: 3; lam: 0.00100: train_rmse: 2.641, valid_rmse: 2.679\n",
      "3-Fold CV for K: 3; lam: 0.00316: train_rmse: 2.605, valid_rmse: 2.634\n",
      "3-Fold CV for K: 3; lam: 0.00316: train_rmse: 2.566, valid_rmse: 2.602\n",
      "3-Fold CV for K: 3; lam: 0.00316: train_rmse: 2.623, valid_rmse: 2.644\n",
      "3-Fold CV for K: 3; lam: 0.01000: train_rmse: 2.593, valid_rmse: 2.598\n",
      "3-Fold CV for K: 3; lam: 0.01000: train_rmse: 2.616, valid_rmse: 2.628\n",
      "3-Fold CV for K: 3; lam: 0.01000: train_rmse: 2.614, valid_rmse: 2.627\n",
      "3-Fold CV for K: 3; lam: 0.03162: train_rmse: 2.629, valid_rmse: 2.627\n",
      "3-Fold CV for K: 3; lam: 0.03162: train_rmse: 2.594, valid_rmse: 2.597\n",
      "3-Fold CV for K: 3; lam: 0.03162: train_rmse: 2.542, valid_rmse: 2.566\n",
      "3-Fold CV for K: 3; lam: 0.10000: train_rmse: 2.556, valid_rmse: 2.573\n",
      "3-Fold CV for K: 3; lam: 0.10000: train_rmse: 2.621, valid_rmse: 2.639\n",
      "3-Fold CV for K: 3; lam: 0.10000: train_rmse: 2.565, valid_rmse: 2.611\n",
      "3-Fold CV for K: 3; lam: 0.31623: train_rmse: 2.504, valid_rmse: 2.527\n",
      "3-Fold CV for K: 3; lam: 0.31623: train_rmse: 2.501, valid_rmse: 2.518\n",
      "3-Fold CV for K: 3; lam: 0.31623: train_rmse: 2.523, valid_rmse: 2.569\n",
      "3-Fold CV for K: 3; lam: 1.00000: train_rmse: 2.418, valid_rmse: 2.449\n",
      "3-Fold CV for K: 3; lam: 1.00000: train_rmse: 2.405, valid_rmse: 2.461\n",
      "3-Fold CV for K: 3; lam: 1.00000: train_rmse: 2.448, valid_rmse: 2.456\n",
      "3-Fold CV for K: 3; lam: 3.16228: train_rmse: 2.338, valid_rmse: 2.356\n",
      "3-Fold CV for K: 3; lam: 3.16228: train_rmse: 2.313, valid_rmse: 2.359\n",
      "3-Fold CV for K: 3; lam: 3.16228: train_rmse: 2.339, valid_rmse: 2.335\n",
      "3-Fold CV for K: 5; lam: 0.00010: train_rmse: 2.927, valid_rmse: 2.971\n",
      "3-Fold CV for K: 5; lam: 0.00010: train_rmse: 3.059, valid_rmse: 3.090\n",
      "3-Fold CV for K: 5; lam: 0.00010: train_rmse: 2.897, valid_rmse: 2.945\n",
      "3-Fold CV for K: 5; lam: 0.00032: train_rmse: 2.907, valid_rmse: 2.926\n",
      "3-Fold CV for K: 5; lam: 0.00032: train_rmse: 2.906, valid_rmse: 2.962\n",
      "3-Fold CV for K: 5; lam: 0.00032: train_rmse: 3.017, valid_rmse: 3.092\n",
      "3-Fold CV for K: 5; lam: 0.00100: train_rmse: 2.969, valid_rmse: 3.012\n",
      "3-Fold CV for K: 5; lam: 0.00100: train_rmse: 2.992, valid_rmse: 3.012\n",
      "3-Fold CV for K: 5; lam: 0.00100: train_rmse: 2.877, valid_rmse: 2.923\n",
      "3-Fold CV for K: 5; lam: 0.00316: train_rmse: 2.916, valid_rmse: 2.957\n",
      "3-Fold CV for K: 5; lam: 0.00316: train_rmse: 3.062, valid_rmse: 3.032\n",
      "3-Fold CV for K: 5; lam: 0.00316: train_rmse: 2.936, valid_rmse: 2.990\n",
      "3-Fold CV for K: 5; lam: 0.01000: train_rmse: 3.009, valid_rmse: 3.054\n",
      "3-Fold CV for K: 5; lam: 0.01000: train_rmse: 2.914, valid_rmse: 2.943\n",
      "3-Fold CV for K: 5; lam: 0.01000: train_rmse: 2.984, valid_rmse: 2.980\n",
      "3-Fold CV for K: 5; lam: 0.03162: train_rmse: 2.941, valid_rmse: 2.987\n",
      "3-Fold CV for K: 5; lam: 0.03162: train_rmse: 2.966, valid_rmse: 2.971\n",
      "3-Fold CV for K: 5; lam: 0.03162: train_rmse: 2.902, valid_rmse: 2.939\n",
      "3-Fold CV for K: 5; lam: 0.10000: train_rmse: 2.910, valid_rmse: 2.961\n",
      "3-Fold CV for K: 5; lam: 0.10000: train_rmse: 2.893, valid_rmse: 2.936\n",
      "3-Fold CV for K: 5; lam: 0.10000: train_rmse: 2.866, valid_rmse: 2.910\n",
      "3-Fold CV for K: 5; lam: 0.31623: train_rmse: 2.837, valid_rmse: 2.872\n",
      "3-Fold CV for K: 5; lam: 0.31623: train_rmse: 2.827, valid_rmse: 2.866\n",
      "3-Fold CV for K: 5; lam: 0.31623: train_rmse: 2.808, valid_rmse: 2.859\n",
      "3-Fold CV for K: 5; lam: 1.00000: train_rmse: 2.685, valid_rmse: 2.737\n",
      "3-Fold CV for K: 5; lam: 1.00000: train_rmse: 2.663, valid_rmse: 2.707\n",
      "3-Fold CV for K: 5; lam: 1.00000: train_rmse: 2.707, valid_rmse: 2.688\n",
      "3-Fold CV for K: 5; lam: 3.16228: train_rmse: 2.523, valid_rmse: 2.549\n",
      "3-Fold CV for K: 5; lam: 3.16228: train_rmse: 2.541, valid_rmse: 2.568\n",
      "3-Fold CV for K: 5; lam: 3.16228: train_rmse: 2.507, valid_rmse: 2.564\n",
      "3-Fold CV for K: 10; lam: 0.00010: train_rmse: 3.632, valid_rmse: 3.668\n",
      "3-Fold CV for K: 10; lam: 0.00010: train_rmse: 3.561, valid_rmse: 3.690\n",
      "3-Fold CV for K: 10; lam: 0.00010: train_rmse: 3.614, valid_rmse: 3.685\n",
      "3-Fold CV for K: 10; lam: 0.00032: train_rmse: 3.630, valid_rmse: 3.700\n",
      "3-Fold CV for K: 10; lam: 0.00032: train_rmse: 3.519, valid_rmse: 3.576\n",
      "3-Fold CV for K: 10; lam: 0.00032: train_rmse: 3.608, valid_rmse: 3.727\n",
      "3-Fold CV for K: 10; lam: 0.00100: train_rmse: 3.654, valid_rmse: 3.739\n",
      "3-Fold CV for K: 10; lam: 0.00100: train_rmse: 3.600, valid_rmse: 3.706\n",
      "3-Fold CV for K: 10; lam: 0.00100: train_rmse: 3.632, valid_rmse: 3.690\n",
      "3-Fold CV for K: 10; lam: 0.00316: train_rmse: 3.675, valid_rmse: 3.734\n",
      "3-Fold CV for K: 10; lam: 0.00316: train_rmse: 3.678, valid_rmse: 3.827\n",
      "3-Fold CV for K: 10; lam: 0.00316: train_rmse: 3.604, valid_rmse: 3.691\n",
      "3-Fold CV for K: 10; lam: 0.01000: train_rmse: 3.535, valid_rmse: 3.608\n",
      "3-Fold CV for K: 10; lam: 0.01000: train_rmse: 3.561, valid_rmse: 3.624\n",
      "3-Fold CV for K: 10; lam: 0.01000: train_rmse: 3.568, valid_rmse: 3.632\n",
      "3-Fold CV for K: 10; lam: 0.03162: train_rmse: 3.591, valid_rmse: 3.690\n",
      "3-Fold CV for K: 10; lam: 0.03162: train_rmse: 3.590, valid_rmse: 3.682\n",
      "3-Fold CV for K: 10; lam: 0.03162: train_rmse: 3.581, valid_rmse: 3.658\n",
      "3-Fold CV for K: 10; lam: 0.10000: train_rmse: 3.527, valid_rmse: 3.607\n",
      "3-Fold CV for K: 10; lam: 0.10000: train_rmse: 3.521, valid_rmse: 3.596\n",
      "3-Fold CV for K: 10; lam: 0.10000: train_rmse: 3.481, valid_rmse: 3.605\n",
      "3-Fold CV for K: 10; lam: 0.31623: train_rmse: 3.449, valid_rmse: 3.505\n",
      "3-Fold CV for K: 10; lam: 0.31623: train_rmse: 3.479, valid_rmse: 3.551\n",
      "3-Fold CV for K: 10; lam: 0.31623: train_rmse: 3.410, valid_rmse: 3.483\n",
      "3-Fold CV for K: 10; lam: 1.00000: train_rmse: 3.212, valid_rmse: 3.296\n",
      "3-Fold CV for K: 10; lam: 1.00000: train_rmse: 3.185, valid_rmse: 3.270\n",
      "3-Fold CV for K: 10; lam: 1.00000: train_rmse: 3.212, valid_rmse: 3.252\n",
      "3-Fold CV for K: 10; lam: 3.16228: train_rmse: 2.919, valid_rmse: 2.974\n",
      "3-Fold CV for K: 10; lam: 3.16228: train_rmse: 2.942, valid_rmse: 3.005\n",
      "3-Fold CV for K: 10; lam: 3.16228: train_rmse: 2.952, valid_rmse: 3.023\n"
     ]
    },
    {
     "data": {
      "image/png": "[encoded data removed]",
      "text/plain": [
       "<Figure size 432x288 with 2 Axes>"
      ]
     },
     "metadata": {},
     "output_type": "display_data"
    },
    {
     "data": {
      "image/png": "[encoded data removed]",
      "text/plain": [
       "<Figure size 432x288 with 2 Axes>"
      ]
     },
     "metadata": {},
     "output_type": "display_data"
    },
    {
     "name": "stdout",
     "output_type": "stream",
     "text": [
      "K             3.000000\n",
      "lam           3.162278\n",
      "train_rmse    2.330152\n",
      "valid_rmse    2.349927\n",
      "Name: 9, dtype: float64\n",
      "Fitting Reg-LFM: K: 3, lam: 3.16228\n",
      "Reg-LFM: ite: 0; diff: 0.244 RMSE: 2.510\n",
      "Reg-LFM: ite: 1; diff: 0.063 RMSE: 2.447\n",
      "Reg-LFM: ite: 2; diff: 0.040 RMSE: 2.406\n",
      "Reg-LFM: ite: 3; diff: 0.030 RMSE: 2.376\n",
      "Reg-LFM: ite: 4; diff: 0.024 RMSE: 2.352\n",
      "Reg-LFM: ite: 5; diff: 0.020 RMSE: 2.332\n",
      "Reg-LFM: ite: 6; diff: 0.017 RMSE: 2.315\n",
      "Reg-LFM: ite: 7; diff: 0.015 RMSE: 2.300\n",
      "Reg-LFM: ite: 8; diff: 0.013 RMSE: 2.286\n",
      "Reg-LFM: ite: 9; diff: 0.012 RMSE: 2.274\n"
     ]
    }
   ],
   "source": [
    "Ks, lams = [3, 5, 10], 10**np.arange(-4, 1, .5)\n",
    "shiing_cv = LFM_CV(n_user, n_item, cv=3, Ks=Ks, lams=lams)\n",
    "shiing_cv.grid_search(train_pairs, train_rating_res)\n",
    "shiing_cv.plot_grid('valid')\n",
    "shiing_cv.plot_grid('train')\n",
    "\n",
    "## refit the best model with the full dataset\n",
    "print(shiing_cv.best_model)\n",
    "best_K, best_lam = int(shiing_cv.best_model['K']), shiing_cv.best_model['lam']\n",
    "shiing_best = LFM(n_user, n_item, K=best_K, lam=best_lam)\n",
    "shiing_best.fit(train_pairs, train_rating_res)\n",
    "pred_rating = reg_rating + shiing_best.predict(test_pairs)"
   ]
  },
  {
   "cell_type": "code",
   "execution_count": 35,
   "metadata": {},
   "outputs": [],
   "source": [
    "sub['rating'] = pred_rating\n",
    "save_csv(sub, \"../predict\", \"rf_reg_LFM\")"
   ]
  },
  {
   "cell_type": "markdown",
   "metadata": {},
   "source": [
    "# Method 4: ``RandomForest Regressor``\n",
    "This part is contributed by `Lam Wai Chiu 1155152095` \n",
    "\n",
    "* (i) Model: RandomForest Regressor\n",
    "* (ii) hyperparameters:n_estimators,max_features, max_depth etc. But we only make a try on this model and therefore does not performance cross validation to tune the hyperparameters.\n",
    "* (iii)performance in Public Leaderboard: around 1.9\n",
    "* (iv) how to make improvement: cross validation, generate more addictional information"
   ]
  },
  {
   "cell_type": "code",
   "execution_count": null,
   "metadata": {},
   "outputs": [],
   "source": [
    "# fit the regressor using RandomForestRegressor\n",
    "regressor = RandomForestRegressor(n_estimators = 500, random_state = 3009)\n",
    "regressor.fit(train_joint_feats, train_ratings)\n",
    "pred_rating=regressor.predict(test_joint_feats)"
   ]
  },
  {
   "cell_type": "code",
   "execution_count": 37,
   "metadata": {},
   "outputs": [],
   "source": [
    "sub['rating'] = pred_rating\n",
    "save_csv(sub, \"../predict\", \"rf_reg\")"
   ]
  },
  {
   "cell_type": "markdown",
   "metadata": {},
   "source": [
    "# Method 5: ``GLB + user mean + item mean with sLFM`` without additional information\n",
    "This part is contributed by `Lam Wai Chiu 1155152095` \n",
    "\n",
    "* (i) Model: GLB + user mean + item mean with sLFM\n",
    "* (ii) hyperparameters:lamdba and k, tune by finding lowest vaild rmse \n",
    "* (iii)performance in Public Leaderboard: around 1.9\n",
    "* (iv) how to make improvement: set more k and lambda, generate more addictional information\n",
    "* **WARNING: This method requires 2-3 days computation time on normal computer**, these code is not deployed, but only showing in notebook."
   ]
  },
  {
   "cell_type": "code",
   "execution_count": 38,
   "metadata": {},
   "outputs": [],
   "source": [
    "pd.DataFrame(temp_train_user)['UserId']= train_pairs[:,0]\n",
    "pd.DataFrame(temp_train_item)['ItemId']= train_pairs[:,1]\n",
    "\n",
    "user_info = pd.DataFrame({'UserId': list(range(n_user))})\n",
    "user_info = user_info.set_index('UserId')\n",
    "user_info['V1'] = temp_train_user.groupby('UserId')['V1'].mean()\n",
    "user_info['V2'] = temp_train_user.groupby('UserId')['V2'].mean()\n",
    "user_info['V3'] = temp_train_user.groupby('UserId')['V3'].mean()\n",
    "user_info['V4'] = temp_train_user.groupby('UserId')['V4'].mean()\n",
    "\n",
    "## fill NAN as the column mean\n",
    "user_info = user_info.fillna(user_info.mean())\n",
    "user_scaler = StandardScaler()\n",
    "user_info = user_scaler.fit_transform(user_info)\n",
    "\n",
    "item_info = pd.DataFrame({'ItemId': list(range(n_item))})\n",
    "item_info = item_info.set_index('ItemId')\n",
    "item_info['V1'] = temp_train_item.groupby('ItemId')['V1'].mean()\n",
    "item_info['V2'] = temp_train_item.groupby('ItemId')['V2'].mean()\n",
    "item_info['V3'] = temp_train_item.groupby('ItemId')['V3'].mean()\n",
    "\n",
    "## fill NAN as the column mean\n",
    "item_info = item_info.fillna(item_info.mean())\n",
    "item_scaler = StandardScaler()\n",
    "item_info = item_scaler.fit_transform(item_info)"
   ]
  },
  {
   "cell_type": "code",
   "execution_count": 40,
   "metadata": {},
   "outputs": [],
   "source": [
    "# glb mean\n",
    "glb_ave = glb_mean()\n",
    "glb_ave.fit(train_ratings)\n",
    "pred = glb_ave.predict(test_pairs)\n",
    "\n",
    "# user_mean\n",
    "train_rating_res = train_ratings - glb_ave.predict(train_pairs)\n",
    "user_ave = user_mean(n_user=n_user)\n",
    "user_ave.fit(train_pair=train_pairs, train_ratings=train_rating_res)\n",
    "pred = pred + user_ave.predict(test_pairs)\n",
    "\n",
    "# item_mean\n",
    "train_rating_res -=  user_ave.predict(train_pairs)\n",
    "item_ave = item_mean(n_item=n_item)\n",
    "item_ave.fit(train_pair=train_pairs, train_ratings=train_rating_res)\n",
    "pred = pred + item_ave.predict(test_pairs)\n",
    "\n",
    "train_rating['res_rating'] = train_rating_res"
   ]
  },
  {
   "cell_type": "markdown",
   "metadata": {},
   "source": [
    "## Cosine similarity"
   ]
  },
  {
   "cell_type": "code",
   "execution_count": 41,
   "metadata": {},
   "outputs": [],
   "source": [
    "user_sim = cosine_similarity(user_info)\n",
    "item_sim = cosine_similarity(item_info)"
   ]
  },
  {
   "cell_type": "code",
   "execution_count": 42,
   "metadata": {},
   "outputs": [
    {
     "name": "stdout",
     "output_type": "stream",
     "text": [
      "UserId: 0\n",
      "UserId: 1\n",
      "UserId: 2\n"
     ]
    },
    {
     "ename": "KeyboardInterrupt",
     "evalue": "",
     "output_type": "error",
     "traceback": [
      "\u001b[1;31m---------------------------------------------------------------------------\u001b[0m",
      "\u001b[1;31mKeyboardInterrupt\u001b[0m                         Traceback (most recent call last)",
      "\u001b[1;32m<ipython-input-42-e0fa23e27eaf>\u001b[0m in \u001b[0;36m<module>\u001b[1;34m\u001b[0m\n\u001b[0;32m     12\u001b[0m         \u001b[0mobs_item_tmp\u001b[0m \u001b[1;33m=\u001b[0m \u001b[0mtrain_pairs\u001b[0m\u001b[1;33m[\u001b[0m\u001b[0mvalid_user_ind\u001b[0m\u001b[1;33m,\u001b[0m\u001b[1;36m1\u001b[0m\u001b[1;33m]\u001b[0m\u001b[1;33m\u001b[0m\u001b[1;33m\u001b[0m\u001b[0m\n\u001b[0;32m     13\u001b[0m         \u001b[1;32mfor\u001b[0m \u001b[0mi\u001b[0m \u001b[1;32min\u001b[0m \u001b[0mrange\u001b[0m\u001b[1;33m(\u001b[0m\u001b[0mn_item\u001b[0m\u001b[1;33m)\u001b[0m\u001b[1;33m:\u001b[0m\u001b[1;33m\u001b[0m\u001b[1;33m\u001b[0m\u001b[0m\n\u001b[1;32m---> 14\u001b[1;33m                 \u001b[0mtop_item_tmp\u001b[0m \u001b[1;33m=\u001b[0m \u001b[0mitem_sim\u001b[0m\u001b[1;33m[\u001b[0m\u001b[0mi\u001b[0m\u001b[1;33m]\u001b[0m\u001b[1;33m.\u001b[0m\u001b[0margsort\u001b[0m\u001b[1;33m(\u001b[0m\u001b[1;33m)\u001b[0m\u001b[1;33m[\u001b[0m\u001b[1;33m-\u001b[0m\u001b[0mtop\u001b[0m\u001b[1;33m:\u001b[0m\u001b[1;33m]\u001b[0m\u001b[1;33m[\u001b[0m\u001b[1;33m:\u001b[0m\u001b[1;33m:\u001b[0m\u001b[1;33m-\u001b[0m\u001b[1;36m1\u001b[0m\u001b[1;33m]\u001b[0m\u001b[1;33m\u001b[0m\u001b[1;33m\u001b[0m\u001b[0m\n\u001b[0m\u001b[0;32m     15\u001b[0m                 \u001b[0mvalid_item_tmp\u001b[0m \u001b[1;33m=\u001b[0m \u001b[0mnp\u001b[0m\u001b[1;33m.\u001b[0m\u001b[0mintersect1d\u001b[0m\u001b[1;33m(\u001b[0m\u001b[0mtop_item_tmp\u001b[0m\u001b[1;33m,\u001b[0m \u001b[0mobs_item_tmp\u001b[0m\u001b[1;33m)\u001b[0m\u001b[1;33m\u001b[0m\u001b[1;33m\u001b[0m\u001b[0m\n\u001b[0;32m     16\u001b[0m                 \u001b[1;32mif\u001b[0m \u001b[0mlen\u001b[0m\u001b[1;33m(\u001b[0m\u001b[0mvalid_item_tmp\u001b[0m\u001b[1;33m)\u001b[0m \u001b[1;33m==\u001b[0m \u001b[1;36m0\u001b[0m\u001b[1;33m:\u001b[0m\u001b[1;33m\u001b[0m\u001b[1;33m\u001b[0m\u001b[0m\n",
      "\u001b[1;31mKeyboardInterrupt\u001b[0m: "
     ]
    }
   ],
   "source": [
    "top = 5\n",
    "index_item = [np.where(train_pairs[:,1] == i)[0] for i in range(n_item)]\n",
    "index_user = [np.where(train_pairs[:,0] == u)[0] for u in range(n_user)]\n",
    "## augmented data\n",
    "fake_pair, fake_rating = [], []\n",
    "for u in range(n_user):\n",
    "\tprint('UserId: %d' %u)\n",
    "\ttop_user_tmp = user_sim[u].argsort()[-top:][::-1]\n",
    "\tvalid_user_ind = []\n",
    "\tfor u_tmp in top_user_tmp:\n",
    "\t\tvalid_user_ind.extend(index_user[u_tmp])\n",
    "\tobs_item_tmp = train_pairs[valid_user_ind,1]\n",
    "\tfor i in range(n_item):\n",
    "\t\ttop_item_tmp = item_sim[i].argsort()[-top:][::-1]\n",
    "\t\tvalid_item_tmp = np.intersect1d(top_item_tmp, obs_item_tmp)\n",
    "\t\tif len(valid_item_tmp) == 0:\n",
    "\t\t\tcontinue\n",
    "\t\tvalid_item_ind = []\n",
    "\t\tfor i_tmp in valid_item_tmp:\n",
    "\t\t\tvalid_item_ind.extend(index_item[i_tmp])\n",
    "\t\tvalid_ind = np.intersect1d(valid_user_ind, valid_item_ind)\n",
    "\t\tif len(valid_ind) > 0:\n",
    "\t\t\tfake_pair.append([u,i])\n",
    "\t\t\tfake_rating.append(train_rating_res[valid_ind].mean())\n",
    "fake_pair, fake_rating = np.array(fake_pair), np.array(fake_rating)"
   ]
  },
  {
   "cell_type": "code",
   "execution_count": null,
   "metadata": {},
   "outputs": [],
   "source": [
    "aug_pair, aug_rating_res = np.vstack((train_pairs, fake_pair)), np.hstack((train_rating_res, fake_rating))\n",
    "\n",
    "Ks, lams = [3,5,10,15,20],[0.0001,0.0005,0.001,0.01]\n",
    "shiing_cv = LFM_CV(n_user, n_item, cv=5, Ks=Ks, lams=lams)\n",
    "shiing_cv.grid_search(aug_pair, aug_rating_res)\n",
    "shiing_cv.plot_grid('valid')\n",
    "shiing_cv.plot_grid('train')\n",
    "\n",
    "## refit the best model, and make prediction\n",
    "best_K, best_lam = int(shiing_cv.best_model['K']), shiing_cv.best_model['lam']\n",
    "\n",
    "sSVD=LFM(n_user, n_item, K=best_K, lam=best_lam)\n",
    "sSVD.fit(aug_pair, aug_rating_res)\n",
    "pred = pred + sSVD.predict(test_pairs)\n",
    "pred_rating = pred"
   ]
  },
  {
   "cell_type": "code",
   "execution_count": null,
   "metadata": {},
   "outputs": [],
   "source": [
    "sub['rating'] = pred_rating\n",
    "save_csv(sub, \"../predict\", \"GLB_user_item_sLFM\")"
   ]
  },
  {
   "cell_type": "markdown",
   "metadata": {},
   "source": [
    "# Generate some additional side information for users and items\n",
    "- Number of ratings\n",
    "- Averaged ratings\n",
    "- quantiles of the ratings\n",
    "\n",
    "## Pre-processing the dataset\n",
    "- combine with the given feature\n",
    "- standardized as mean 0, std 1"
   ]
  },
  {
   "cell_type": "code",
   "execution_count": 26,
   "metadata": {},
   "outputs": [
    {
     "ename": "KeyError",
     "evalue": "'Column not found: res_rating'",
     "output_type": "error",
     "traceback": [
      "\u001b[1;31m---------------------------------------------------------------------------\u001b[0m",
      "\u001b[1;31mKeyError\u001b[0m                                  Traceback (most recent call last)",
      "\u001b[1;32m<ipython-input-26-e22eb754e6ce>\u001b[0m in \u001b[0;36m<module>\u001b[1;34m\u001b[0m\n\u001b[0;32m      4\u001b[0m \u001b[0muser_info\u001b[0m \u001b[1;33m=\u001b[0m \u001b[0mpd\u001b[0m\u001b[1;33m.\u001b[0m\u001b[0mDataFrame\u001b[0m\u001b[1;33m(\u001b[0m\u001b[1;33m{\u001b[0m\u001b[1;34m'UserId'\u001b[0m\u001b[1;33m:\u001b[0m \u001b[0mlist\u001b[0m\u001b[1;33m(\u001b[0m\u001b[0mrange\u001b[0m\u001b[1;33m(\u001b[0m\u001b[0mn_user\u001b[0m\u001b[1;33m)\u001b[0m\u001b[1;33m)\u001b[0m\u001b[1;33m}\u001b[0m\u001b[1;33m)\u001b[0m\u001b[1;33m\u001b[0m\u001b[1;33m\u001b[0m\u001b[0m\n\u001b[0;32m      5\u001b[0m \u001b[0muser_info\u001b[0m \u001b[1;33m=\u001b[0m \u001b[0muser_info\u001b[0m\u001b[1;33m.\u001b[0m\u001b[0mset_index\u001b[0m\u001b[1;33m(\u001b[0m\u001b[1;34m'UserId'\u001b[0m\u001b[1;33m)\u001b[0m\u001b[1;33m\u001b[0m\u001b[1;33m\u001b[0m\u001b[0m\n\u001b[1;32m----> 6\u001b[1;33m \u001b[0muser_info\u001b[0m\u001b[1;33m[\u001b[0m\u001b[1;34m'mean'\u001b[0m\u001b[1;33m]\u001b[0m \u001b[1;33m=\u001b[0m \u001b[0mtrain_rating\u001b[0m\u001b[1;33m.\u001b[0m\u001b[0mgroupby\u001b[0m\u001b[1;33m(\u001b[0m\u001b[1;34m'UserId'\u001b[0m\u001b[1;33m)\u001b[0m\u001b[1;33m[\u001b[0m\u001b[1;34m'res_rating'\u001b[0m\u001b[1;33m]\u001b[0m\u001b[1;33m.\u001b[0m\u001b[0mmean\u001b[0m\u001b[1;33m(\u001b[0m\u001b[1;33m)\u001b[0m\u001b[1;33m\u001b[0m\u001b[1;33m\u001b[0m\u001b[0m\n\u001b[0m\u001b[0;32m      7\u001b[0m \u001b[0muser_info\u001b[0m\u001b[1;33m[\u001b[0m\u001b[1;34m'q1'\u001b[0m\u001b[1;33m]\u001b[0m \u001b[1;33m=\u001b[0m \u001b[0mtrain_rating\u001b[0m\u001b[1;33m.\u001b[0m\u001b[0mgroupby\u001b[0m\u001b[1;33m(\u001b[0m\u001b[1;34m'UserId'\u001b[0m\u001b[1;33m)\u001b[0m\u001b[1;33m[\u001b[0m\u001b[1;34m'res_rating'\u001b[0m\u001b[1;33m]\u001b[0m\u001b[1;33m.\u001b[0m\u001b[0mquantile\u001b[0m\u001b[1;33m(\u001b[0m\u001b[1;36m.1\u001b[0m\u001b[1;33m)\u001b[0m\u001b[1;33m\u001b[0m\u001b[1;33m\u001b[0m\u001b[0m\n\u001b[0;32m      8\u001b[0m \u001b[0muser_info\u001b[0m\u001b[1;33m[\u001b[0m\u001b[1;34m'q3'\u001b[0m\u001b[1;33m]\u001b[0m \u001b[1;33m=\u001b[0m \u001b[0mtrain_rating\u001b[0m\u001b[1;33m.\u001b[0m\u001b[0mgroupby\u001b[0m\u001b[1;33m(\u001b[0m\u001b[1;34m'UserId'\u001b[0m\u001b[1;33m)\u001b[0m\u001b[1;33m[\u001b[0m\u001b[1;34m'res_rating'\u001b[0m\u001b[1;33m]\u001b[0m\u001b[1;33m.\u001b[0m\u001b[0mquantile\u001b[0m\u001b[1;33m(\u001b[0m\u001b[1;36m.3\u001b[0m\u001b[1;33m)\u001b[0m\u001b[1;33m\u001b[0m\u001b[1;33m\u001b[0m\u001b[0m\n",
      "\u001b[1;32m~\\AppData\\Local\\Packages\\PythonSoftwareFoundation.Python.3.9_qbz5n2kfra8p0\\LocalCache\\local-packages\\Python39\\site-packages\\pandas\\core\\groupby\\generic.py\u001b[0m in \u001b[0;36m__getitem__\u001b[1;34m(self, key)\u001b[0m\n\u001b[0;32m   1540\u001b[0m                 \u001b[0mstacklevel\u001b[0m\u001b[1;33m=\u001b[0m\u001b[1;36m2\u001b[0m\u001b[1;33m,\u001b[0m\u001b[1;33m\u001b[0m\u001b[1;33m\u001b[0m\u001b[0m\n\u001b[0;32m   1541\u001b[0m             )\n\u001b[1;32m-> 1542\u001b[1;33m         \u001b[1;32mreturn\u001b[0m \u001b[0msuper\u001b[0m\u001b[1;33m(\u001b[0m\u001b[1;33m)\u001b[0m\u001b[1;33m.\u001b[0m\u001b[0m__getitem__\u001b[0m\u001b[1;33m(\u001b[0m\u001b[0mkey\u001b[0m\u001b[1;33m)\u001b[0m\u001b[1;33m\u001b[0m\u001b[1;33m\u001b[0m\u001b[0m\n\u001b[0m\u001b[0;32m   1543\u001b[0m \u001b[1;33m\u001b[0m\u001b[0m\n\u001b[0;32m   1544\u001b[0m     \u001b[1;32mdef\u001b[0m \u001b[0m_gotitem\u001b[0m\u001b[1;33m(\u001b[0m\u001b[0mself\u001b[0m\u001b[1;33m,\u001b[0m \u001b[0mkey\u001b[0m\u001b[1;33m,\u001b[0m \u001b[0mndim\u001b[0m\u001b[1;33m:\u001b[0m \u001b[0mint\u001b[0m\u001b[1;33m,\u001b[0m \u001b[0msubset\u001b[0m\u001b[1;33m=\u001b[0m\u001b[1;32mNone\u001b[0m\u001b[1;33m)\u001b[0m\u001b[1;33m:\u001b[0m\u001b[1;33m\u001b[0m\u001b[1;33m\u001b[0m\u001b[0m\n",
      "\u001b[1;32m~\\AppData\\Local\\Packages\\PythonSoftwareFoundation.Python.3.9_qbz5n2kfra8p0\\LocalCache\\local-packages\\Python39\\site-packages\\pandas\\core\\base.py\u001b[0m in \u001b[0;36m__getitem__\u001b[1;34m(self, key)\u001b[0m\n\u001b[0;32m    278\u001b[0m             \u001b[1;31m# error: \"SelectionMixin\" has no attribute \"obj\"  [attr-defined]\u001b[0m\u001b[1;33m\u001b[0m\u001b[1;33m\u001b[0m\u001b[0m\n\u001b[0;32m    279\u001b[0m             \u001b[1;32mif\u001b[0m \u001b[0mkey\u001b[0m \u001b[1;32mnot\u001b[0m \u001b[1;32min\u001b[0m \u001b[0mself\u001b[0m\u001b[1;33m.\u001b[0m\u001b[0mobj\u001b[0m\u001b[1;33m:\u001b[0m  \u001b[1;31m# type: ignore[attr-defined]\u001b[0m\u001b[1;33m\u001b[0m\u001b[1;33m\u001b[0m\u001b[0m\n\u001b[1;32m--> 280\u001b[1;33m                 \u001b[1;32mraise\u001b[0m \u001b[0mKeyError\u001b[0m\u001b[1;33m(\u001b[0m\u001b[1;34mf\"Column not found: {key}\"\u001b[0m\u001b[1;33m)\u001b[0m\u001b[1;33m\u001b[0m\u001b[1;33m\u001b[0m\u001b[0m\n\u001b[0m\u001b[0;32m    281\u001b[0m             \u001b[1;32mreturn\u001b[0m \u001b[0mself\u001b[0m\u001b[1;33m.\u001b[0m\u001b[0m_gotitem\u001b[0m\u001b[1;33m(\u001b[0m\u001b[0mkey\u001b[0m\u001b[1;33m,\u001b[0m \u001b[0mndim\u001b[0m\u001b[1;33m=\u001b[0m\u001b[1;36m1\u001b[0m\u001b[1;33m)\u001b[0m\u001b[1;33m\u001b[0m\u001b[1;33m\u001b[0m\u001b[0m\n\u001b[0;32m    282\u001b[0m \u001b[1;33m\u001b[0m\u001b[0m\n",
      "\u001b[1;31mKeyError\u001b[0m: 'Column not found: res_rating'"
     ]
    }
   ],
   "source": [
    "pd.DataFrame(temp_train_user)['UserId']= train_pairs[:,0]\n",
    "pd.DataFrame(temp_train_item)['ItemId']= train_pairs[:,1]\n",
    "\n",
    "user_info = pd.DataFrame({'UserId': list(range(n_user))})\n",
    "user_info = user_info.set_index('UserId')\n",
    "user_info['mean'] = train_rating.groupby('UserId')['res_rating'].mean()\n",
    "user_info['q1'] = train_rating.groupby('UserId')['res_rating'].quantile(.1)\n",
    "user_info['q3'] = train_rating.groupby('UserId')['res_rating'].quantile(.3)\n",
    "user_info['q5'] = train_rating.groupby('UserId')['res_rating'].quantile(.5)\n",
    "user_info['q7'] = train_rating.groupby('UserId')['res_rating'].quantile(.7)\n",
    "user_info['q9'] = train_rating.groupby('UserId')['res_rating'].quantile(.9)\n",
    "user_info['V1'] = temp_train_user.groupby('UserId')['V1'].mean()\n",
    "user_info['V2'] = temp_train_user.groupby('UserId')['V2'].mean()\n",
    "user_info['V3'] = temp_train_user.groupby('UserId')['V3'].mean()\n",
    "user_info['V4'] = temp_train_user.groupby('UserId')['V4'].mean()\n",
    "user_info['Frequency'] = temp_train_user.groupby('UserId').size()\n",
    "## fill NAN as the column mean\n",
    "user_info = user_info.fillna(user_info.mean())\n",
    "user_scaler = StandardScaler()\n",
    "user_info = user_scaler.fit_transform(user_info)\n",
    "\n",
    "\n",
    "item_info = pd.DataFrame({'ItemId': list(range(n_item))})\n",
    "item_info = item_info.set_index('ItemId')\n",
    "item_info['mean'] = train_rating.groupby('ItemId')['res_rating'].mean()\n",
    "item_info['q1'] = train_rating.groupby('ItemId')['res_rating'].quantile(.1)\n",
    "item_info['q3'] = train_rating.groupby('ItemId')['res_rating'].quantile(.3)\n",
    "item_info['q5'] = train_rating.groupby('ItemId')['res_rating'].quantile(.5)\n",
    "item_info['q7'] = train_rating.groupby('ItemId')['res_rating'].quantile(.7)\n",
    "item_info['q9'] = train_rating.groupby('ItemId')['res_rating'].quantile(.9)\n",
    "item_info['V1'] = temp_train_item.groupby('ItemId')['V1'].mean()\n",
    "item_info['V2'] = temp_train_item.groupby('ItemId')['V2'].mean()\n",
    "item_info['V3'] = temp_train_item.groupby('ItemId')['V3'].mean()\n",
    "item_info['Frequency'] = temp_train_item.groupby('ItemId').size()\n",
    "## fill NAN as the column mean\n",
    "item_info = item_info.fillna(item_info.mean())\n",
    "item_scaler = StandardScaler()\n",
    "item_info = item_scaler.fit_transform(item_info)"
   ]
  },
  {
   "cell_type": "markdown",
   "metadata": {},
   "source": [
    "# Method 6: ``GLB + user mean + item with SLFM`` with additional side information\n",
    "This part is contributed by `Lam Wai Chiu 1155152095` \n",
    "\n",
    "* (i) Model: GLB + user mean + item mean with sLFM\n",
    "* (ii) hyperparameters:lamdba and k, tune by finding lowest vaild rmse \n",
    "* (iii)performance in Public Leaderboard: around 1.9\n",
    "* (iv) how to make improvement: set more k and lambda\n",
    "* **WARNING: This method requires 2-3 days computation time on normal computer**, these code is not deployed, but only showing in notebook.\n",
    "**WARNING: This method requires 2-3 hours computation time on normal computer**, these code is not deployed, but only showing in notebook."
   ]
  },
  {
   "cell_type": "code",
   "execution_count": 45,
   "metadata": {},
   "outputs": [],
   "source": [
    "# glb mean\n",
    "glb_ave = glb_mean()\n",
    "glb_ave.fit(train_ratings)\n",
    "pred = glb_ave.predict(test_pairs)\n",
    "\n",
    "# user_mean\n",
    "train_rating_res = train_ratings - glb_ave.predict(train_pairs)\n",
    "user_ave = user_mean(n_user=n_user)\n",
    "user_ave.fit(train_pair=train_pairs, train_ratings=train_rating_res)\n",
    "pred = pred + user_ave.predict(test_pairs)\n",
    "\n",
    "# item_mean\n",
    "train_rating_res -=  user_ave.predict(train_pairs)\n",
    "item_ave = item_mean(n_item=n_item)\n",
    "item_ave.fit(train_pair=train_pairs, train_ratings=train_rating_res)\n",
    "pred = pred + item_ave.predict(test_pairs)\n",
    "\n",
    "train_rating['res_rating'] = train_rating_res"
   ]
  },
  {
   "cell_type": "markdown",
   "metadata": {},
   "source": [
    "## Cosine similarity"
   ]
  },
  {
   "cell_type": "code",
   "execution_count": 157,
   "metadata": {},
   "outputs": [],
   "source": [
    "user_sim = cosine_similarity(user_info)\n",
    "item_sim = cosine_similarity(item_info)"
   ]
  },
  {
   "cell_type": "code",
   "execution_count": 158,
   "metadata": {},
   "outputs": [
    {
     "name": "stdout",
     "output_type": "stream",
     "text": [
      "UserId: 0\n"
     ]
    },
    {
     "ename": "KeyboardInterrupt",
     "evalue": "",
     "output_type": "error",
     "traceback": [
      "\u001b[1;31m---------------------------------------------------------------------------\u001b[0m",
      "\u001b[1;31mKeyboardInterrupt\u001b[0m                         Traceback (most recent call last)",
      "\u001b[1;32m<ipython-input-158-e0fa23e27eaf>\u001b[0m in \u001b[0;36m<module>\u001b[1;34m\u001b[0m\n\u001b[0;32m     12\u001b[0m         \u001b[0mobs_item_tmp\u001b[0m \u001b[1;33m=\u001b[0m \u001b[0mtrain_pairs\u001b[0m\u001b[1;33m[\u001b[0m\u001b[0mvalid_user_ind\u001b[0m\u001b[1;33m,\u001b[0m\u001b[1;36m1\u001b[0m\u001b[1;33m]\u001b[0m\u001b[1;33m\u001b[0m\u001b[1;33m\u001b[0m\u001b[0m\n\u001b[0;32m     13\u001b[0m         \u001b[1;32mfor\u001b[0m \u001b[0mi\u001b[0m \u001b[1;32min\u001b[0m \u001b[0mrange\u001b[0m\u001b[1;33m(\u001b[0m\u001b[0mn_item\u001b[0m\u001b[1;33m)\u001b[0m\u001b[1;33m:\u001b[0m\u001b[1;33m\u001b[0m\u001b[1;33m\u001b[0m\u001b[0m\n\u001b[1;32m---> 14\u001b[1;33m                 \u001b[0mtop_item_tmp\u001b[0m \u001b[1;33m=\u001b[0m \u001b[0mitem_sim\u001b[0m\u001b[1;33m[\u001b[0m\u001b[0mi\u001b[0m\u001b[1;33m]\u001b[0m\u001b[1;33m.\u001b[0m\u001b[0margsort\u001b[0m\u001b[1;33m(\u001b[0m\u001b[1;33m)\u001b[0m\u001b[1;33m[\u001b[0m\u001b[1;33m-\u001b[0m\u001b[0mtop\u001b[0m\u001b[1;33m:\u001b[0m\u001b[1;33m]\u001b[0m\u001b[1;33m[\u001b[0m\u001b[1;33m:\u001b[0m\u001b[1;33m:\u001b[0m\u001b[1;33m-\u001b[0m\u001b[1;36m1\u001b[0m\u001b[1;33m]\u001b[0m\u001b[1;33m\u001b[0m\u001b[1;33m\u001b[0m\u001b[0m\n\u001b[0m\u001b[0;32m     15\u001b[0m                 \u001b[0mvalid_item_tmp\u001b[0m \u001b[1;33m=\u001b[0m \u001b[0mnp\u001b[0m\u001b[1;33m.\u001b[0m\u001b[0mintersect1d\u001b[0m\u001b[1;33m(\u001b[0m\u001b[0mtop_item_tmp\u001b[0m\u001b[1;33m,\u001b[0m \u001b[0mobs_item_tmp\u001b[0m\u001b[1;33m)\u001b[0m\u001b[1;33m\u001b[0m\u001b[1;33m\u001b[0m\u001b[0m\n\u001b[0;32m     16\u001b[0m                 \u001b[1;32mif\u001b[0m \u001b[0mlen\u001b[0m\u001b[1;33m(\u001b[0m\u001b[0mvalid_item_tmp\u001b[0m\u001b[1;33m)\u001b[0m \u001b[1;33m==\u001b[0m \u001b[1;36m0\u001b[0m\u001b[1;33m:\u001b[0m\u001b[1;33m\u001b[0m\u001b[1;33m\u001b[0m\u001b[0m\n",
      "\u001b[1;31mKeyboardInterrupt\u001b[0m: "
     ]
    }
   ],
   "source": [
    "top = 5\n",
    "index_item = [np.where(train_pairs[:,1] == i)[0] for i in range(n_item)]\n",
    "index_user = [np.where(train_pairs[:,0] == u)[0] for u in range(n_user)]\n",
    "## augmented data\n",
    "fake_pair, fake_rating = [], []\n",
    "for u in range(n_user):\n",
    "\tprint('UserId: %d' %u)\n",
    "\ttop_user_tmp = user_sim[u].argsort()[-top:][::-1]\n",
    "\tvalid_user_ind = []\n",
    "\tfor u_tmp in top_user_tmp:\n",
    "\t\tvalid_user_ind.extend(index_user[u_tmp])\n",
    "\tobs_item_tmp = train_pairs[valid_user_ind,1]\n",
    "\tfor i in range(n_item):\n",
    "\t\ttop_item_tmp = item_sim[i].argsort()[-top:][::-1]\n",
    "\t\tvalid_item_tmp = np.intersect1d(top_item_tmp, obs_item_tmp)\n",
    "\t\tif len(valid_item_tmp) == 0:\n",
    "\t\t\tcontinue\n",
    "\t\tvalid_item_ind = []\n",
    "\t\tfor i_tmp in valid_item_tmp:\n",
    "\t\t\tvalid_item_ind.extend(index_item[i_tmp])\n",
    "\t\tvalid_ind = np.intersect1d(valid_user_ind, valid_item_ind)\n",
    "\t\tif len(valid_ind) > 0:\n",
    "\t\t\tfake_pair.append([u,i])\n",
    "\t\t\tfake_rating.append(train_rating_res[valid_ind].mean())\n",
    "fake_pair, fake_rating = np.array(fake_pair), np.array(fake_rating)"
   ]
  },
  {
   "cell_type": "code",
   "execution_count": null,
   "metadata": {},
   "outputs": [],
   "source": [
    "aug_pair, aug_rating_res = np.vstack((train_pairs, fake_pair)), np.hstack((train_rating_res, fake_rating))\n",
    "\n",
    "Ks, lams = [3,5,10,15,20],[0.0001,0.0005,0.001,0.01]\n",
    "shiing_cv = LFM_CV(n_user, n_item, cv=5, Ks=Ks, lams=lams)\n",
    "shiing_cv.grid_search(aug_pair, aug_rating_res)\n",
    "shiing_cv.plot_grid('valid')\n",
    "shiing_cv.plot_grid('train')\n",
    "\n",
    "## refit the best model, and make prediction\n",
    "best_K, best_lam = int(shiing_cv.best_model['K']), shiing_cv.best_model['lam']\n",
    "\n",
    "sSVD=LFM(n_user, n_item, K=best_K, lam=best_lam)\n",
    "sSVD.fit(aug_pair, aug_rating_res)\n",
    "pred = pred + sSVD.predict(test_pairs)\n",
    "pred_rating = pred"
   ]
  },
  {
   "cell_type": "code",
   "execution_count": null,
   "metadata": {},
   "outputs": [],
   "source": [
    "sub['rating'] = pred_rating\n",
    "sub.to_csv('predict/GLB_user_item_sLFM_add.csv', index=False)"
   ]
  },
  {
   "cell_type": "markdown",
   "metadata": {},
   "source": [
    "# Method 7: ``NCF`` Model based on side information\n",
    "This part is contributed by `LAW Yiu Leung Eric 1155149315`"
   ]
  },
  {
   "cell_type": "code",
   "execution_count": 37,
   "metadata": {},
   "outputs": [],
   "source": [
    "# Import tensorflow library\n",
    "import tensorflow as tf\n",
    "from tensorflow import keras\n",
    "from tensorflow.keras import layers"
   ]
  },
  {
   "cell_type": "code",
   "execution_count": 54,
   "metadata": {},
   "outputs": [],
   "source": [
    "train_rating = pd.read_csv(\"../data/train_rating.csv\")\n",
    "test_pair = pd.read_csv(\"../data/test_pair.csv\")\n",
    "\n",
    "item_feat = pd.read_csv(\"../data/item_feats.csv\")\n",
    "user_feat = pd.read_csv(\"../data/user_feats.csv\")\n",
    "\n",
    "sub = pd.read_csv('../predict/sample_submission.csv')"
   ]
  },
  {
   "cell_type": "code",
   "execution_count": 55,
   "metadata": {},
   "outputs": [],
   "source": [
    "# UserID\n",
    "le_user = preprocessing.LabelEncoder()\n",
    "le_user.fit(np.append(np.append(train_rating['UserId'], test_pair[\"UserId\"]), user_feat[\"UserId\"]))\n",
    "\n",
    "user_feat['UserId'] = le_user.transform(user_feat[\"UserId\"])\n",
    "test_pair[\"UserId\"] = le_user.transform(test_pair[\"UserId\"])\n",
    "train_rating['UserId'] = le_user.transform(train_rating[\"UserId\"])\n",
    "\n",
    "# ItemID\n",
    "le_item = preprocessing.LabelEncoder()\n",
    "le_item.fit(np.append(np.append(train_rating['ItemId'], test_pair[\"ItemId\"]), item_feat[\"ItemId\"]))\n",
    "\n",
    "item_feat['ItemId'] = le_item.transform(item_feat[\"ItemId\"])\n",
    "test_pair[\"ItemId\"] = le_item.transform(test_pair[\"ItemId\"])\n",
    "train_rating['ItemId'] = le_item.transform(train_rating[\"ItemId\"])\n",
    "\n",
    "#Inf value\n",
    "user_feat.loc[np.isinf(user_feat['V1']),'V1']=-3\n",
    "item_feat.loc[np.isinf(item_feat['V2']),'V2']=2\n",
    "\n",
    "# Missing data\n",
    "imp_mean = SimpleImputer(missing_values=np.nan, strategy='mean')\n",
    "imp_mean.fit(user_feat['V1'].values.reshape(-1, 1))\n",
    "user_feat['V1'] = imp_mean.transform(user_feat['V1'].values.reshape(-1, 1))"
   ]
  },
  {
   "cell_type": "code",
   "execution_count": 56,
   "metadata": {},
   "outputs": [],
   "source": [
    "# tran_pair, train_rating\n",
    "train_pairs = train_rating[['UserId', 'ItemId']].values\n",
    "train_ratings = train_rating['rating'].values\n",
    "train_pair=train_rating.drop(columns='rating')\n",
    "\n",
    "# test_pair\n",
    "test_pairs = test_pair[['UserId', 'ItemId']].values\n",
    "\n",
    "# number of users and items\n",
    "# n_user, n_item = len(le_item.classes_), len(le_item.classes_)\n",
    "n_user, n_item = max(train_pairs[:,0].max(), test_pairs[:,0].max())+1, max(train_pairs[:,1].max(), test_pairs[:,1].max())+1"
   ]
  },
  {
   "cell_type": "code",
   "execution_count": 57,
   "metadata": {},
   "outputs": [
    {
     "name": "stdout",
     "output_type": "stream",
     "text": [
      "Minmium and maximum: [0.0, 5.0]\n"
     ]
    }
   ],
   "source": [
    "class min_max_adj:\n",
    "    def __init__(self, train_rating):\n",
    "        self.min = np.min(train_rating)\n",
    "        self.max = np.max(train_rating)\n",
    "        self.true_rating = train_rating\n",
    "    \n",
    "    def adjust(self, pred_rating):\n",
    "        pred_rating_adjusted = pred_rating.copy()\n",
    "        pred_rating_adjusted[pred_rating > self.max] = self.max\n",
    "        pred_rating_adjusted[pred_rating < self.min] = self.min\n",
    "        return pred_rating_adjusted\n",
    "\n",
    "    def rmse(self, pred_rating):\n",
    "        return np.sqrt(np.mean((pred_rating - self.true_rating)**2))\n",
    "\n",
    "adjustment = min_max_adj(train_rating[\"rating\"])\n",
    "print(\"Minmium and maximum:\", [adjustment.min, adjustment.max])"
   ]
  },
  {
   "cell_type": "markdown",
   "metadata": {},
   "source": [
    "### Additonal features\n",
    "additional features and {rating_mean, rating_count}  \n",
    "\n",
    "### user_pd and item_pd\n",
    "using outer join and fill missing data  \n",
    "if no rating records, rating_count = 0 and rating_mean = glb_avg"
   ]
  },
  {
   "cell_type": "code",
   "execution_count": 58,
   "metadata": {},
   "outputs": [
    {
     "name": "stdout",
     "output_type": "stream",
     "text": [
      "#######################################################\n",
      "########## 10 random samples for users feats ##########\n",
      "#######################################################\n",
      "        UserId        V1      V2      V3     V4  rating_mean  rating_count\n",
      "4728   20037.0  3.423729  6115.0   755.0  154.0     2.211891           0.0\n",
      "5510   12439.0  3.690928  5095.0  1147.0  154.0     2.211891           0.0\n",
      "21483   4266.0  3.034468  4296.0  1591.0  330.0     1.500000          37.0\n",
      "12855  19488.0  3.438890  6563.0    77.0  290.0     2.211891           0.0\n",
      "25699  10710.0  3.423729  2914.0  1072.0  330.0     3.600000           5.0\n",
      "10984   9933.0  3.624002  6776.0   439.0  325.0     1.750000           8.0\n",
      "5354   24519.0  3.423729   397.0   439.0  325.0     2.211891           0.0\n",
      "16623    594.0  3.047028  4118.0     1.0    0.0     2.211891           0.0\n",
      "17751  19556.0  3.423729  5779.0  1087.0  330.0     2.211891           0.0\n",
      "15263  26746.0  3.873911  7383.0   233.0   56.0     2.211891           0.0\n",
      "#######################################################\n",
      "########## 10 random samples for items feats ##########\n",
      "#######################################################\n",
      "        ItemId       V1        V2      V3  rating_mean  rating_count\n",
      "21390   1256.0   5751.0  7.599935   974.0       1.1875           8.0\n",
      "6818   10814.0  12002.0  7.542955   260.0       1.0000           3.0\n",
      "17576   3836.0   9458.0  7.665534  2207.0       1.7500           2.0\n",
      "22572  10014.0   2341.0  7.495081   254.0       0.0000           1.0\n",
      "16592   6374.0  10929.0  7.663127  1918.0       2.5000           1.0\n",
      "15264  22173.0     54.0  7.676396   122.0       4.5000           1.0\n",
      "25687  20451.0   8271.0  7.561020  2063.0       0.0000           1.0\n",
      "19423   2209.0   5400.0  7.692162  3019.0       0.0000           2.0\n",
      "12482   1492.0    139.0  2.000000  2130.0       2.0000           2.0\n",
      "12372  19882.0  10553.0  7.489670   426.0       0.0000           1.0\n"
     ]
    }
   ],
   "source": [
    "## generate cont feats for users\n",
    "user_pd = pd.merge(left=train_rating.groupby('UserId')['rating'].mean(), \n",
    "\t\t\t\t   right=train_rating.groupby('UserId')['rating'].count(), on='UserId')\n",
    "user_pd.columns = ['rating_mean', 'rating_count']\n",
    "user_pd = pd.merge(left = user_feat, right = user_pd, on = \"UserId\", how = \"outer\") # using outer join\n",
    "\n",
    "## handle missing data\n",
    "# if the user has no rating record, set rating_count = 0\n",
    "user_pd.fillna(value = {\"rating_count\": 0}, inplace = True)\n",
    "# if the rating_mean is missing, then use global mean\n",
    "imp_mean.fit(user_pd)\n",
    "user_pd = pd.DataFrame(imp_mean.transform(user_pd), columns = user_pd.columns)\n",
    "\n",
    "## generate cont feats for items\n",
    "item_rating_pd = pd.merge(left=train_rating.groupby('ItemId')['rating'].mean(), \n",
    "\t\t\t\t\t\t  right=train_rating.groupby('ItemId')['rating'].count(), on='ItemId')\n",
    "item_rating_pd.columns\t= ['rating_mean', 'rating_count']\n",
    "item_pd = pd.merge(left=item_feat, right=item_rating_pd, on='ItemId', how = \"outer\") # using outer join\n",
    "\n",
    "## handle missing data\n",
    "# if the item has no rating record, set rating_count = 0\n",
    "item_pd.fillna(value = {\"rating_count\": 0}, inplace = True)\n",
    "# if the rating_mean is missing, then use global mean\n",
    "imp_mean.fit(item_pd)\n",
    "item_pd = pd.DataFrame(imp_mean.transform(item_pd), columns = item_pd.columns)\n",
    "\n",
    "\n",
    "print('#######################################################')\n",
    "print('########## 10 random samples for users feats ##########')\n",
    "print('#######################################################')\n",
    "\n",
    "print(user_pd.sample(10))\n",
    "print('#######################################################')\n",
    "print('########## 10 random samples for items feats ##########')\n",
    "print('#######################################################')\n",
    "\n",
    "print(item_pd.sample(10))"
   ]
  },
  {
   "cell_type": "markdown",
   "metadata": {},
   "source": [
    "### Standardize continous features"
   ]
  },
  {
   "cell_type": "code",
   "execution_count": 59,
   "metadata": {},
   "outputs": [
    {
     "name": "stdout",
     "output_type": "stream",
     "text": [
      "#######################################################\n",
      "########## 10 random samples for users feats ##########\n",
      "#######################################################\n",
      "               V1        V2        V3        V4   rating_mean  rating_count\n",
      "UserId                                                                     \n",
      "6365.0  -0.468895 -1.478170 -1.133611  0.412484 -5.564071e-16     -0.067335\n",
      "15666.0 -1.124293  0.904072 -1.216042  0.762978  9.874358e-01     -0.022246\n",
      "3343.0  -0.363988 -0.796624  1.060836  0.719167 -5.564071e-16     -0.067335\n",
      "24403.0 -0.362612  1.183367 -1.572501  0.762978 -5.564071e-16     -0.067335\n",
      "11983.0  0.000000  0.407596  0.388021  0.762978 -5.564071e-16     -0.067335\n",
      "9168.0   1.540847  1.621111 -0.745963  0.762978 -1.518399e+00      0.067933\n",
      "5013.0  -1.213029  0.049287 -1.216042  0.762978 -5.564071e-16     -0.067335\n",
      "13915.0 -0.086388  1.365479  0.755619 -0.779197 -5.564071e-16     -0.067335\n",
      "13843.0 -0.863029 -0.562118 -1.572501  0.762978 -5.564071e-16     -0.067335\n",
      "14247.0 -0.235967 -0.022966 -0.783836  0.412484 -5.564071e-16     -0.067335\n",
      "#######################################################\n",
      "########## 10 random samples for items feats ##########\n",
      "#######################################################\n",
      "               V1        V2        V3  rating_mean  rating_count\n",
      "ItemId                                                          \n",
      "3054.0   0.227673  0.333267  0.792728     0.249073      0.173125\n",
      "25631.0 -0.398909  0.258719  0.217901    -1.036886     -0.212289\n",
      "5892.0  -0.305041 -0.002194  1.010513     0.000000     -0.597702\n",
      "2202.0  -0.948063  0.143039  1.001089    -1.036886     -0.212289\n",
      "19286.0  1.405000  0.409337 -0.526547    -1.036886     -0.212289\n",
      "16615.0 -0.501793  0.320976  1.623033    -1.036886     -0.212289\n",
      "503.0   -1.202620  0.060215 -1.077291    -1.036886     -0.212289\n",
      "8849.0   0.763038  0.112856  1.001089    -0.522502      1.329365\n",
      "11531.0 -0.595661  0.273994 -1.262618     1.535033     -0.212289\n",
      "18909.0  1.672020  0.079749  0.864974    -1.036886     -0.212289\n"
     ]
    }
   ],
   "source": [
    "## pre-processing for users\n",
    "user_cont = [\"V1\", \"V2\", \"V3\", \"V4\", \"rating_mean\", \"rating_count\"]\n",
    "user_pd[user_cont] = StandardScaler().fit_transform(user_pd[user_cont])\n",
    "\n",
    "## pre-processing for item\n",
    "item_cont = [\"V1\", \"V2\", \"V3\", \"rating_mean\", \"rating_count\"]\n",
    "item_pd[item_cont] = StandardScaler().fit_transform(item_pd[item_cont])\n",
    "\n",
    "\n",
    "user_pd = user_pd.set_index('UserId', drop=True)\n",
    "item_pd = item_pd.set_index('ItemId', drop=True)\n",
    "\n",
    "print('#######################################################')\n",
    "print('########## 10 random samples for users feats ##########')\n",
    "print('#######################################################')\n",
    "print(user_pd.sample(10))\n",
    "\n",
    "print('#######################################################')\n",
    "print('########## 10 random samples for items feats ##########')\n",
    "print('#######################################################')\n",
    "print(item_pd.sample(10))"
   ]
  },
  {
   "cell_type": "markdown",
   "metadata": {},
   "source": [
    "## NCF model\n",
    "only two embeddings for categorical features, UserId and ItemId."
   ]
  },
  {
   "cell_type": "code",
   "execution_count": 44,
   "metadata": {},
   "outputs": [],
   "source": [
    "class SideNCF(keras.Model):\n",
    "    def __init__(self, num_users, num_items, embedding_size, **kwargs):\n",
    "        super(SideNCF, self).__init__(**kwargs)\n",
    "        self.num_users = num_users\n",
    "        self.num_items = num_items\n",
    "        self.embedding_size = embedding_size\n",
    "        self.user_embedding = layers.Embedding(\n",
    "            num_users,\n",
    "            embedding_size,\n",
    "            embeddings_initializer=\"he_normal\",\n",
    "            embeddings_regularizer=keras.regularizers.l2(1e-2),\n",
    "        )\n",
    "        self.itme_embedding = layers.Embedding(\n",
    "            num_items,\n",
    "            embedding_size,\n",
    "            embeddings_initializer=\"he_normal\",\n",
    "            embeddings_regularizer=keras.regularizers.l2(1e-2),\n",
    "        )\n",
    "\n",
    "        self.concatenate = layers.Concatenate()\n",
    "        self.dense1 = layers.Dense(100, name='fc-1', activation='relu')\n",
    "        self.dense2 = layers.Dense(50, name='fc-2', activation='relu')\n",
    "        self.dense3 = layers.Dense(1, name='fc-3', activation='relu')\n",
    "\n",
    "    def call(self, inputs):\n",
    "        cont_feats = inputs[0]\n",
    "        cate_feats = inputs[1]\n",
    "\n",
    "        user_vector = self.user_embedding(cate_feats[:,0])\n",
    "        itme_vector = self.itme_embedding(cate_feats[:,1])\n",
    "\n",
    "        concatted_vec = self.concatenate([cont_feats, user_vector, itme_vector])\n",
    "        fc_1 = self.dense1(concatted_vec)\n",
    "        fc_2 = self.dense2(fc_1)\n",
    "        fc_3 = self.dense3(fc_2)\n",
    "        return fc_3"
   ]
  },
  {
   "cell_type": "code",
   "execution_count": 45,
   "metadata": {},
   "outputs": [],
   "source": [
    "model = SideNCF(num_users=n_user, num_items=n_item, embedding_size=50)\n",
    "\n",
    "metrics = [\n",
    "    keras.metrics.MeanAbsoluteError(name='mae'),\n",
    "    keras.metrics.RootMeanSquaredError(name='rmse')\n",
    "]\n",
    "\n",
    "model.compile(\n",
    "    optimizer=keras.optimizers.Adam(1e-3), \n",
    "    loss=tf.keras.losses.MeanSquaredError(), \n",
    "    metrics=metrics\n",
    ")"
   ]
  },
  {
   "cell_type": "markdown",
   "metadata": {},
   "source": [
    "## Find the continuous features and categorical features for user and item, respectively\n",
    "cate_feats = [\"UserId\", \"ItemId\"]"
   ]
  },
  {
   "cell_type": "code",
   "execution_count": 46,
   "metadata": {},
   "outputs": [],
   "source": [
    "item_cont = [\"V1\", \"V2\", \"V3\", 'rating_mean', 'rating_count']\n",
    "user_cont = [\"V1\", \"V2\", \"V3\", \"V4\", 'rating_mean', 'rating_count']\n",
    "\n",
    "train_cont_feats = np.hstack((user_pd.loc[train_pairs[:,0]][user_cont], item_pd.loc[train_pairs[:,1]][item_cont]))\n",
    "train_cate_feats = train_pairs.copy()\n",
    "\n",
    "test_cont_feats = np.hstack((user_pd.loc[test_pairs[:,0]][user_cont], item_pd.loc[test_pairs[:,1]][item_cont]))\n",
    "test_cate_feats = test_pairs.copy()"
   ]
  },
  {
   "cell_type": "markdown",
   "metadata": {},
   "source": [
    "## Fit the model"
   ]
  },
  {
   "cell_type": "code",
   "execution_count": 47,
   "metadata": {},
   "outputs": [
    {
     "name": "stdout",
     "output_type": "stream",
     "text": [
      "Epoch 1/50\n",
      "504/504 [==============================] - 17s 30ms/step - loss: 1.9152 - mae: 0.8888 - rmse: 1.3624 - val_loss: 1.5440 - val_mae: 0.7653 - val_rmse: 1.2270\n",
      "Epoch 2/50\n",
      "504/504 [==============================] - 15s 30ms/step - loss: 1.5485 - mae: 0.7556 - rmse: 1.2265 - val_loss: 1.4762 - val_mae: 0.7262 - val_rmse: 1.1967\n",
      "Epoch 3/50\n",
      "504/504 [==============================] - 14s 28ms/step - loss: 1.5044 - mae: 0.7341 - rmse: 1.2071 - val_loss: 1.5658 - val_mae: 0.7387 - val_rmse: 1.2318\n",
      "Epoch 4/50\n",
      "504/504 [==============================] - 15s 29ms/step - loss: 1.4836 - mae: 0.7238 - rmse: 1.1956 - val_loss: 1.4422 - val_mae: 0.7258 - val_rmse: 1.1801\n",
      "Epoch 5/50\n",
      "504/504 [==============================] - 14s 29ms/step - loss: 1.4262 - mae: 0.7089 - rmse: 1.1711 - val_loss: 1.4334 - val_mae: 0.7123 - val_rmse: 1.1746\n",
      "Epoch 6/50\n",
      "504/504 [==============================] - 15s 30ms/step - loss: 1.4296 - mae: 0.7043 - rmse: 1.1686 - val_loss: 1.5095 - val_mae: 0.7154 - val_rmse: 1.2026\n",
      "Epoch 7/50\n",
      "504/504 [==============================] - 15s 29ms/step - loss: 1.4384 - mae: 0.7024 - rmse: 1.1660 - val_loss: 1.4698 - val_mae: 0.7187 - val_rmse: 1.1802\n",
      "Epoch 8/50\n",
      "504/504 [==============================] - 14s 28ms/step - loss: 1.4248 - mae: 0.6950 - rmse: 1.1559 - val_loss: 1.5348 - val_mae: 0.7306 - val_rmse: 1.2031\n",
      "Epoch 9/50\n",
      "504/504 [==============================] - 15s 29ms/step - loss: 1.4192 - mae: 0.6884 - rmse: 1.1472 - val_loss: 1.6303 - val_mae: 0.7596 - val_rmse: 1.2339\n",
      "Epoch 10/50\n",
      "504/504 [==============================] - 16s 31ms/step - loss: 1.4358 - mae: 0.6857 - rmse: 1.1448 - val_loss: 1.5209 - val_mae: 0.7094 - val_rmse: 1.1797\n",
      "Epoch 11/50\n",
      "504/504 [==============================] - 15s 30ms/step - loss: 1.4212 - mae: 0.6731 - rmse: 1.1282 - val_loss: 1.7183 - val_mae: 0.7256 - val_rmse: 1.2518\n",
      "Epoch 12/50\n",
      "504/504 [==============================] - 15s 29ms/step - loss: 1.4001 - mae: 0.6551 - rmse: 1.1110 - val_loss: 1.6301 - val_mae: 0.7254 - val_rmse: 1.2071\n",
      "Epoch 13/50\n",
      "504/504 [==============================] - 15s 29ms/step - loss: 1.3852 - mae: 0.6376 - rmse: 1.0942 - val_loss: 1.6972 - val_mae: 0.7351 - val_rmse: 1.2277\n",
      "Epoch 14/50\n",
      "504/504 [==============================] - 15s 30ms/step - loss: 1.3483 - mae: 0.6168 - rmse: 1.0699 - val_loss: 1.7874 - val_mae: 0.7382 - val_rmse: 1.2529\n",
      "Epoch 15/50\n",
      "504/504 [==============================] - 13s 26ms/step - loss: 1.3154 - mae: 0.5972 - rmse: 1.0475 - val_loss: 1.8036 - val_mae: 0.7368 - val_rmse: 1.2560\n",
      "Epoch 16/50\n",
      "504/504 [==============================] - 14s 28ms/step - loss: 1.2917 - mae: 0.5780 - rmse: 1.0276 - val_loss: 1.8866 - val_mae: 0.7521 - val_rmse: 1.2770\n",
      "Epoch 17/50\n",
      "504/504 [==============================] - 13s 26ms/step - loss: 1.2583 - mae: 0.5588 - rmse: 1.0028 - val_loss: 2.0103 - val_mae: 0.7621 - val_rmse: 1.3218\n",
      "Epoch 18/50\n",
      "504/504 [==============================] - 19s 37ms/step - loss: 1.2269 - mae: 0.5379 - rmse: 0.9810 - val_loss: 2.0201 - val_mae: 0.7670 - val_rmse: 1.3183\n",
      "Epoch 19/50\n",
      "504/504 [==============================] - 16s 31ms/step - loss: 1.1902 - mae: 0.5189 - rmse: 0.9559 - val_loss: 2.0413 - val_mae: 0.7498 - val_rmse: 1.3229\n",
      "Epoch 20/50\n",
      "504/504 [==============================] - 16s 31ms/step - loss: 1.1624 - mae: 0.5024 - rmse: 0.9369 - val_loss: 2.1393 - val_mae: 0.7538 - val_rmse: 1.3534\n",
      "Epoch 21/50\n",
      "504/504 [==============================] - 14s 28ms/step - loss: 1.1443 - mae: 0.4881 - rmse: 0.9214 - val_loss: 2.1283 - val_mae: 0.7476 - val_rmse: 1.3475\n",
      "Epoch 22/50\n",
      "504/504 [==============================] - 14s 27ms/step - loss: 1.1138 - mae: 0.4733 - rmse: 0.9028 - val_loss: 2.2390 - val_mae: 0.7682 - val_rmse: 1.3849\n",
      "Epoch 23/50\n",
      "504/504 [==============================] - 12s 24ms/step - loss: 1.0915 - mae: 0.4587 - rmse: 0.8869 - val_loss: 2.2055 - val_mae: 0.7561 - val_rmse: 1.3694\n",
      "Epoch 24/50\n",
      "504/504 [==============================] - 12s 24ms/step - loss: 1.0593 - mae: 0.4417 - rmse: 0.8660 - val_loss: 2.2496 - val_mae: 0.7516 - val_rmse: 1.3874\n",
      "Epoch 25/50\n",
      "504/504 [==============================] - 12s 24ms/step - loss: 1.0444 - mae: 0.4325 - rmse: 0.8544 - val_loss: 2.3096 - val_mae: 0.7591 - val_rmse: 1.4026\n",
      "Epoch 26/50\n",
      "504/504 [==============================] - 12s 24ms/step - loss: 1.0255 - mae: 0.4231 - rmse: 0.8408 - val_loss: 2.2774 - val_mae: 0.7441 - val_rmse: 1.3941\n",
      "Epoch 27/50\n",
      "504/504 [==============================] - 13s 25ms/step - loss: 0.9955 - mae: 0.4077 - rmse: 0.8232 - val_loss: 2.3380 - val_mae: 0.7509 - val_rmse: 1.4136\n",
      "Epoch 28/50\n",
      "504/504 [==============================] - 12s 24ms/step - loss: 0.9800 - mae: 0.4018 - rmse: 0.8132 - val_loss: 2.3422 - val_mae: 0.7547 - val_rmse: 1.4116\n",
      "Epoch 29/50\n",
      "504/504 [==============================] - 12s 24ms/step - loss: 0.9803 - mae: 0.3968 - rmse: 0.8091 - val_loss: 2.3571 - val_mae: 0.7583 - val_rmse: 1.4173\n",
      "Epoch 30/50\n",
      "504/504 [==============================] - 12s 24ms/step - loss: 0.9490 - mae: 0.3852 - rmse: 0.7916 - val_loss: 2.4563 - val_mae: 0.7731 - val_rmse: 1.4525\n",
      "Epoch 31/50\n",
      "504/504 [==============================] - 14s 27ms/step - loss: 0.9206 - mae: 0.3724 - rmse: 0.7740 - val_loss: 2.3825 - val_mae: 0.7554 - val_rmse: 1.4229\n",
      "Epoch 32/50\n",
      "504/504 [==============================] - 15s 30ms/step - loss: 0.9209 - mae: 0.3696 - rmse: 0.7706 - val_loss: 2.4496 - val_mae: 0.7685 - val_rmse: 1.4470\n",
      "Epoch 33/50\n",
      "504/504 [==============================] - 15s 30ms/step - loss: 0.9082 - mae: 0.3603 - rmse: 0.7620 - val_loss: 2.3420 - val_mae: 0.7401 - val_rmse: 1.4112\n",
      "Epoch 34/50\n",
      "504/504 [==============================] - 13s 27ms/step - loss: 0.9268 - mae: 0.3661 - rmse: 0.7733 - val_loss: 2.4200 - val_mae: 0.7611 - val_rmse: 1.4347\n",
      "Epoch 35/50\n",
      "504/504 [==============================] - 14s 27ms/step - loss: 0.8895 - mae: 0.3537 - rmse: 0.7492 - val_loss: 2.4358 - val_mae: 0.7593 - val_rmse: 1.4432\n",
      "Epoch 36/50\n",
      "504/504 [==============================] - 14s 28ms/step - loss: 0.8734 - mae: 0.3442 - rmse: 0.7389 - val_loss: 2.4458 - val_mae: 0.7532 - val_rmse: 1.4484\n",
      "Epoch 37/50\n",
      "504/504 [==============================] - 14s 27ms/step - loss: 0.8535 - mae: 0.3384 - rmse: 0.7284 - val_loss: 2.5081 - val_mae: 0.7659 - val_rmse: 1.4690\n",
      "Epoch 38/50\n",
      "504/504 [==============================] - 13s 26ms/step - loss: 0.8481 - mae: 0.3353 - rmse: 0.7234 - val_loss: 2.4326 - val_mae: 0.7441 - val_rmse: 1.4440\n",
      "Epoch 39/50\n",
      "504/504 [==============================] - 13s 27ms/step - loss: 0.8622 - mae: 0.3371 - rmse: 0.7320 - val_loss: 2.4552 - val_mae: 0.7649 - val_rmse: 1.4528\n",
      "Epoch 40/50\n",
      "504/504 [==============================] - 14s 28ms/step - loss: 0.8287 - mae: 0.3258 - rmse: 0.7142 - val_loss: 2.4074 - val_mae: 0.7391 - val_rmse: 1.4339\n",
      "Epoch 41/50\n",
      "504/504 [==============================] - 13s 26ms/step - loss: 0.8374 - mae: 0.3263 - rmse: 0.7165 - val_loss: 2.3537 - val_mae: 0.7245 - val_rmse: 1.4163\n",
      "Epoch 42/50\n",
      "504/504 [==============================] - 13s 26ms/step - loss: 0.8052 - mae: 0.3155 - rmse: 0.6970 - val_loss: 2.4697 - val_mae: 0.7513 - val_rmse: 1.4590\n",
      "Epoch 43/50\n",
      "504/504 [==============================] - 13s 26ms/step - loss: 0.8193 - mae: 0.3187 - rmse: 0.7052 - val_loss: 2.3911 - val_mae: 0.7306 - val_rmse: 1.4279\n",
      "Epoch 44/50\n",
      "504/504 [==============================] - 14s 28ms/step - loss: 0.8299 - mae: 0.3205 - rmse: 0.7088 - val_loss: 2.5738 - val_mae: 0.7627 - val_rmse: 1.4859\n",
      "Epoch 45/50\n",
      "504/504 [==============================] - 14s 28ms/step - loss: 0.8230 - mae: 0.3145 - rmse: 0.7018 - val_loss: 2.5176 - val_mae: 0.7540 - val_rmse: 1.4708\n",
      "Epoch 46/50\n",
      "504/504 [==============================] - 13s 26ms/step - loss: 0.8166 - mae: 0.3135 - rmse: 0.6987 - val_loss: 2.5177 - val_mae: 0.7417 - val_rmse: 1.4714\n",
      "Epoch 47/50\n",
      "504/504 [==============================] - 14s 27ms/step - loss: 0.7883 - mae: 0.3024 - rmse: 0.6817 - val_loss: 2.4845 - val_mae: 0.7537 - val_rmse: 1.4592\n",
      "Epoch 48/50\n",
      "504/504 [==============================] - 13s 26ms/step - loss: 0.7956 - mae: 0.3042 - rmse: 0.6852 - val_loss: 2.5154 - val_mae: 0.7498 - val_rmse: 1.4694\n",
      "Epoch 49/50\n",
      "504/504 [==============================] - 14s 27ms/step - loss: 0.7727 - mae: 0.2939 - rmse: 0.6702 - val_loss: 2.4690 - val_mae: 0.7407 - val_rmse: 1.4569\n",
      "Epoch 50/50\n",
      "504/504 [==============================] - 14s 27ms/step - loss: 0.7678 - mae: 0.2915 - rmse: 0.6692 - val_loss: 2.4628 - val_mae: 0.7484 - val_rmse: 1.4579\n"
     ]
    }
   ],
   "source": [
    "callbacks = [keras.callbacks.EarlyStopping( \n",
    "    monitor='val_rmse', min_delta=0, patience=5, verbose=1, \n",
    "    mode='auto', baseline=None, restore_best_weights=True)]\n",
    "\n",
    "history = model.fit(\n",
    "    x=[train_cont_feats, train_cate_feats],\n",
    "    y=train_ratings,\n",
    "    batch_size=64,\n",
    "    epochs=50,\n",
    "    verbose=1,\n",
    "    validation_split=.2,\n",
    ")"
   ]
  },
  {
   "cell_type": "markdown",
   "metadata": {},
   "source": [
    "## Result of training dataset\n",
    "the result is adjusted for min=0, max=5"
   ]
  },
  {
   "cell_type": "code",
   "execution_count": 48,
   "metadata": {},
   "outputs": [
    {
     "name": "stdout",
     "output_type": "stream",
     "text": [
      "[0.       0.       0.       ... 0.       0.       4.695835]\n",
      "rmse: SideNCF: 0.840\n"
     ]
    }
   ],
   "source": [
    "pred_rating = model.predict([train_cont_feats, train_cate_feats]).flatten()\n",
    "pred_rating = adjustment.adjust(pred_rating)\n",
    "print(pred_rating)\n",
    "print('rmse: SideNCF: %.3f' %rmse(train_ratings, pred_rating))"
   ]
  },
  {
   "cell_type": "markdown",
   "metadata": {},
   "source": [
    "## Save prediction"
   ]
  },
  {
   "cell_type": "code",
   "execution_count": 49,
   "metadata": {},
   "outputs": [],
   "source": [
    "pred = model.predict([test_cont_feats, test_cate_feats]).flatten()\n",
    "pred = adjustment.adjust(pred)\n",
    "sub[\"rating\"] = pred\n",
    "save_csv(sub, \"../predict\", \"NCF\")"
   ]
  },
  {
   "cell_type": "markdown",
   "metadata": {},
   "source": [
    "# Final model: RandomForestRegressor\n",
    "* It reach a lowest RMSE in Kaggle"
   ]
  },
  {
   "cell_type": "code",
   "execution_count": 47,
   "metadata": {},
   "outputs": [],
   "source": [
    "# fit the regressor using RandomForestRegressor\n",
    "regressor = RandomForestRegressor(n_estimators = 500, random_state = 3009)\n",
    "regressor.fit(train_joint_feats, train_ratings)\n",
    "pred_rating = regressor.predict(train_joint_feats)\n",
    "pred=regressor.predict(test_joint_feats)"
   ]
  },
  {
   "cell_type": "markdown",
   "metadata": {},
   "source": [
    "# Result\n",
    "## Print T-th record\n",
    "Take T=9315"
   ]
  },
  {
   "cell_type": "code",
   "execution_count": 48,
   "metadata": {},
   "outputs": [
    {
     "name": "stdout",
     "output_type": "stream",
     "text": [
      "T-th test_pair:  [ 2073 11608]\n",
      "T-th predicted rating:  0.7853333333333333\n"
     ]
    }
   ],
   "source": [
    "t = 9315\n",
    "\n",
    "print(\"T-th test_pair: \", test_pairs[t])\n",
    "print(\"T-th predicted rating: \", pred[t])"
   ]
  },
  {
   "cell_type": "markdown",
   "metadata": {},
   "source": [
    "## Print Top-5 Preferred Items based on `pred_rating`"
   ]
  },
  {
   "cell_type": "code",
   "execution_count": 49,
   "metadata": {},
   "outputs": [
    {
     "data": {
      "text/html": [
       "<div>\n",
       "<style scoped>\n",
       "    .dataframe tbody tr th:only-of-type {\n",
       "        vertical-align: middle;\n",
       "    }\n",
       "\n",
       "    .dataframe tbody tr th {\n",
       "        vertical-align: top;\n",
       "    }\n",
       "\n",
       "    .dataframe thead th {\n",
       "        text-align: right;\n",
       "    }\n",
       "</style>\n",
       "<table border=\"1\" class=\"dataframe\">\n",
       "  <thead>\n",
       "    <tr style=\"text-align: right;\">\n",
       "      <th></th>\n",
       "      <th>item_id</th>\n",
       "      <th>rating</th>\n",
       "    </tr>\n",
       "  </thead>\n",
       "  <tbody>\n",
       "  </tbody>\n",
       "</table>\n",
       "</div>"
      ],
      "text/plain": [
       "Empty DataFrame\n",
       "Columns: [item_id, rating]\n",
       "Index: []"
      ]
     },
     "execution_count": 49,
     "metadata": {},
     "output_type": "execute_result"
    }
   ],
   "source": [
    "user_id_t = test_pairs[t, 0]\n",
    "index = train_pair[train_pair[\"UserId\"] == user_id_t].index\n",
    "pred_t = pd.DataFrame({\"item_id\": train_pair[\"ItemId\"][index], \"rating\": pred_rating[index]})\n",
    "pred_t.sort_values(\"rating\", ascending = False, inplace = True)\n",
    "pred_t[:5]"
   ]
  },
  {
   "cell_type": "markdown",
   "metadata": {},
   "source": [
    "There is no preferred items for userId=2073, since he/she rated 0 items."
   ]
  },
  {
   "cell_type": "markdown",
   "metadata": {},
   "source": [
    "# Philosophy\n",
    "This part is contributed by `Tsoi Tung Sing 1155127274` "
   ]
  },
  {
   "cell_type": "markdown",
   "metadata": {},
   "source": [
    "## Data Pre-processing\n",
    "We not only converted data type, but also removed outliers using mahalanobis distance and standardized data using z-score. \n",
    "\n",
    "We realised that there are many abnormal data in the user and item features dataset. Therefore, we removed outliers \n",
    "before building any models.\n",
    "\n",
    "Unlike individual quantile measurement, mahalanobis distance takes all features into account and calculates the \n",
    "distance between variables in a multi-dimensional space. For iid dataset in the recommender system, we believe \n",
    "that it performs better in removing outliers than just measuring individual IQR.\n",
    "\n",
    "Also, the scale of each variable in the dataset are different, we standardized the data to reduce the bias of models."
   ]
  },
  {
   "cell_type": "markdown",
   "metadata": {},
   "source": [
    "## Interesting Factors found from EDA that may help model buliding\n",
    "* Most users didn't rate any items (21234 out of 27000)\n",
    "* 23091 (57%) ratings are 0\n",
    "* 1538 (27%) users only give 0 ratings, 9286 (46%) items are only being rated 0\n",
    "* High deviance in No. of rating each user gave (sd = 47.6)\n",
    "* No. of rating does not correlate with rating "
   ]
  },
  {
   "cell_type": "markdown",
   "metadata": {},
   "source": [
    "## Model Buliding\n",
    "We believe that there should be some interaction between the users and items. Therefore,\n",
    "we first tried Latent Factor Models together with different combination of global mean, user mean and item mean.\n",
    "\n",
    "Then, we tried to build models with side information and see whether the model gives a better prerdiction. \n",
    "\n",
    "We used Linear regression to check the linear relationship between the variables and used Random Forest to check the non-linear relationship. And the result shows that Random Forest model out-performs Linear regression a lot which matches the correlation part in EDA."
   ]
  }
 ],
 "metadata": {
  "kernelspec": {
   "display_name": "Python 3",
   "language": "python",
   "name": "python3"
  },
  "language_info": {
   "codemirror_mode": {
    "name": "ipython",
    "version": 3
   },
   "file_extension": ".py",
   "mimetype": "text/x-python",
   "name": "python",
   "nbconvert_exporter": "python",
   "pygments_lexer": "ipython3",
   "version": "3.7.6"
  }
 },
 "nbformat": 4,
 "nbformat_minor": 4
}
