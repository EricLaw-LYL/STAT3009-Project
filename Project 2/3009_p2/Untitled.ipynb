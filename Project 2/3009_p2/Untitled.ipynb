{
 "cells": [
  {
   "cell_type": "markdown",
   "metadata": {},
   "source": [
    "# STAT3009 Project 2\n",
    "# SID:1155152095(T = 2095)\n",
    "# Name: Lam Wai Chiu"
   ]
  },
  {
   "cell_type": "markdown",
   "metadata": {},
   "source": [
    "## Import package"
   ]
  },
  {
   "cell_type": "code",
   "execution_count": 85,
   "metadata": {},
   "outputs": [],
   "source": [
    "import numpy as np\n",
    "import pandas as pd\n",
    "from sklearn import preprocessing\n",
    "\n",
    "from numpy.linalg import norm\n",
    "from scipy.sparse import lil_matrix\n",
    "from sklearn.impute import SimpleImputer\n",
    "from sklearn.linear_model import LinearRegression\n",
    "from sklearn.ensemble import RandomForestRegressor\n",
    "\n",
    "from sklearn.ensemble import RandomForestClassifier\n",
    "from sklearn.datasets import make_classification\n",
    "\n"
   ]
  },
  {
   "cell_type": "markdown",
   "metadata": {},
   "source": [
    "## Load the existing methods"
   ]
  },
  {
   "cell_type": "code",
   "execution_count": 2,
   "metadata": {},
   "outputs": [],
   "source": [
    "class glb_mean(object):\n",
    "\tdef __init__(self):\n",
    "\t\tself.glb_mean = 0\n",
    "\t\n",
    "\tdef fit(self, train_ratings):\n",
    "\t\tself.glb_mean = np.mean(train_ratings)\n",
    "\t\n",
    "\tdef predict(self, test_pairs):\n",
    "\t\tpred = np.ones(len(test_pairs))\n",
    "\t\tpred = pred*self.glb_mean\n",
    "\t\treturn pred\n",
    "\n",
    "class user_mean(object):\n",
    "\tdef __init__(self, n_user):\n",
    "\t\tself.n_user = n_user\n",
    "\t\tself.glb_mean = 0.\n",
    "\t\tself.user_mean = np.zeros(n_user)\n",
    "\t\n",
    "\tdef fit(self, train_pairs, train_ratings):\n",
    "\t\tself.glb_mean = train_ratings.mean()\n",
    "\t\tfor u in range(self.n_user):\n",
    "\t\t\tind_train = np.where(train_pairs[:,0] == u)[0]\n",
    "\t\t\tif len(ind_train) == 0:\n",
    "\t\t\t\tself.user_mean[u] = self.glb_mean\n",
    "\t\t\telse:\n",
    "\t\t\t\tself.user_mean[u] = train_ratings[ind_train].mean()\n",
    "\t\n",
    "\tdef predict(self, test_pairs):\n",
    "\t\tpred = np.ones(len(test_pairs))*self.glb_mean\n",
    "\t\tj = 0\n",
    "\t\tfor row in test_pairs:\n",
    "\t\t\tuser_tmp, item_tmp = row[0], row[1]\n",
    "\t\t\tpred[j] = self.user_mean[user_tmp]\n",
    "\t\t\tj = j + 1\n",
    "\t\treturn pred\n",
    "\n",
    "class item_mean(object):\n",
    "\tdef __init__(self, n_item):\n",
    "\t\tself.n_item = n_item\n",
    "\t\tself.glb_mean = 0.\n",
    "\t\tself.item_mean = np.zeros(n_item)\n",
    "\t\n",
    "\tdef fit(self, train_pairs, train_ratings):\n",
    "\t\tself.glb_mean = train_ratings.mean()\n",
    "\t\tfor i in range(self.n_item):\n",
    "\t\t\tind_train = np.where(train_pairs[:,1] == i)[0]\n",
    "\t\t\tif len(ind_train) == 0:\n",
    "\t\t\t\tself.item_mean[i] = self.glb_mean\n",
    "\t\t\telse:\n",
    "\t\t\t\tself.item_mean[i] = train_ratings[ind_train].mean()\n",
    "\t\n",
    "\tdef predict(self, test_pairs):\n",
    "\t\tpred = np.ones(len(test_pairs))*self.glb_mean\n",
    "\t\tj = 0\n",
    "\t\tfor row in test_pairs:\n",
    "\t\t\tuser_tmp, item_tmp = row[0], row[1]\n",
    "\t\t\tpred[j] = self.item_mean[item_tmp]\n",
    "\t\t\tj = j + 1\n",
    "\t\treturn pred\n",
    "\n",
    "\n",
    "class cor_rs_user(object):\n",
    "\tdef __init__(self, n_user, n_item):\n",
    "\t\tself.n_user = n_user\n",
    "\t\tself.n_item = n_item\n",
    "\t\tself.glb_mean = 0.\n",
    "\t\tself.user_mean = np.zeros(n_user)\n",
    "\t\tself.S = lil_matrix((n_user, n_user))\n",
    "\t\tself.index_item = []\n",
    "\t\tself.index_user = []\n",
    "\t\tself.min_co = 3\n",
    "\t\n",
    "\tdef cossim(self, index_u, index_v, train_pairs, train_ratings):\n",
    "\t\titem_u = train_pairs[index_u][:,1]\n",
    "\t\titem_v = train_pairs[index_v][:,1]\n",
    "\t\t# find co-rating items by `set`\n",
    "\t\titem_co = list(set(item_u).intersection(set(item_v)))\n",
    "\t\tif len(item_co) < self.min_co:\n",
    "\t\t\t# a tuning parameter\n",
    "\t\t\treturn 0.0\n",
    "\t\telse:\n",
    "\t\t\tvec_u, vec_v = train_ratings[index_u], train_ratings[index_v]\n",
    "\t\t\t# find the co-rating vectors by using `np.isin`\n",
    "\t\t\tind_co_u = [np.where(item_u == item_co_tmp)[0][0] for item_co_tmp in item_co]\n",
    "\t\t\tind_co_v = [np.where(item_v == item_co_tmp)[0][0] for item_co_tmp in item_co]\n",
    "\t\t\tvec_co_u, vec_co_v = vec_u[ind_co_u], vec_v[ind_co_v]\t\t\t\n",
    "\t\t\treturn np.dot(vec_co_u, vec_co_v) / (norm(vec_co_u)+1e-5) / (norm(vec_co_v)+1e-5)\n",
    "\t\n",
    "\tdef sim_mat(self, train_pairs, train_ratings):\n",
    "\t\tself.index_item = [np.where(train_pairs[:,1] == i)[0] for i in range(n_item)]\n",
    "\t\tself.index_user = [np.where(train_pairs[:,0] == u)[0] for u in range(n_user)]\n",
    "\t\tfor u in range(self.n_user):\n",
    "\t\t\tfor v in range(u):\n",
    "\t\t\t\tif (len(self.index_user[u]) == 0) or (len(self.index_user[v]) == 0):\n",
    "\t\t\t\t\tcontinue\n",
    "\t\t\t\tweight_tmp = self.cossim(self.index_user[u],self.index_user[v],train_pairs,train_ratings)\n",
    "\t\t\t\tif weight_tmp > 0:\n",
    "\t\t\t\t\tself.S[u,v] = weight_tmp\n",
    "\t\tself.S = self.S + self.S.T\n",
    "\t\n",
    "\tdef fit(self, train_pairs, train_ratings):\n",
    "\t\tself.glb_mean = train_ratings.mean()\n",
    "\t\t# use another class to predict the user mean\n",
    "\t\tuser_ave_method = user_mean(self.n_user)\n",
    "\t\tuser_ave_method.fit(train_pairs, train_ratings)\n",
    "\t\tself.user_mean = user_ave_method.user_mean\n",
    "\t\tself.sim_mat(train_pairs, train_ratings)\n",
    "\t\n",
    "\tdef predict(self, test_pairs, train_pairs, train_ratings, top=10):\n",
    "\t\tpred = np.zeros(len(test_pairs))\n",
    "\t\tfor j in range(len(test_pairs)):\n",
    "\t\t\tuser_tmp, item_tmp = test_pairs[j,0], test_pairs[j,1]\n",
    "\t\t\tindex_tmp = self.index_item[item_tmp]\n",
    "\t\t\trated_users = train_pairs[index_tmp][:,0]\n",
    "\t\t\trated_ratings = train_ratings[index_tmp]\n",
    "\t\t\tsim_weight = self.S[user_tmp, rated_users].toarray()[0]\n",
    "\t\t\t## only keep top 10 closest users\n",
    "\t\t\ttop_ind = sim_weight.argsort()[-top:][::-1]\n",
    "\t\t\tsim_weight_knn = np.zeros(len(sim_weight))\n",
    "\t\t\tsim_weight_knn[top_ind] = sim_weight[top_ind]\n",
    "\t\t\tif (len(rated_users) == 0) or (max(sim_weight_knn) == 0):\n",
    "\t\t\t\t# if no rated users or no similar users\n",
    "\t\t\t\tpred[j] = self.user_mean[user_tmp]\n",
    "\t\t\telse:\n",
    "\t\t\t\tpred[j] = np.sum(sim_weight_knn*rated_ratings) / np.sum(sim_weight_knn)\n",
    "\t\treturn pred\n",
    "\n",
    "\n",
    "class cor_rs_item(object):\n",
    "\tdef __init__(self, n_user, n_item):\n",
    "\t\tself.n_user = n_user\n",
    "\t\tself.n_item = n_item\n",
    "\t\tself.glb_mean = 0.\n",
    "\t\tself.item_mean = np.zeros(n_item)\n",
    "\t\tself.S = lil_matrix((n_item, n_item))\n",
    "\t\tself.index_item = []\n",
    "\t\tself.index_user = []\n",
    "\t\tself.min_co = 3\n",
    "\n",
    "\tdef cossim(self, index_i, index_j, train_pairs, train_ratings):\n",
    "\t\t# index_u = np.where(train_pairs[:,0] == u)[0]\n",
    "\t\t# index_v = np.where(train_pairs[:,0] == v)[0]\n",
    "\t\tuser_i = train_pairs[index_i][:,0]\n",
    "\t\tuser_j = train_pairs[index_j][:,0]\n",
    "\t\t# find co-rating items by `set`\n",
    "\t\tuser_co = list(set(user_i).intersection(set(user_j)))\n",
    "\t\tif len(user_co) < self.min_co:\n",
    "\t\t\t# a tuning parameter\n",
    "\t\t\treturn 0.0\n",
    "\t\telse:\n",
    "\t\t\t# find the co-rating vectors by using `np.where`\n",
    "\t\t\tvec_i, vec_j = train_ratings[index_i], train_ratings[index_j]\n",
    "\t\t\tind_co_i = [np.where(user_i == user_co_tmp)[0][0] for user_co_tmp in user_co]\n",
    "\t\t\tind_co_j = [np.where(user_j == user_co_tmp)[0][0] for user_co_tmp in user_co]\n",
    "\t\t\tvec_co_i, vec_co_j = vec_i[ind_co_i], vec_j[ind_co_j]\n",
    "\t\t\treturn np.dot(vec_co_i, vec_co_j) / (norm(vec_co_i)+1e-5) / (norm(vec_co_j)+1e-5)\n",
    "\t\n",
    "\tdef sim_mat(self, train_pairs, train_ratings):\n",
    "\t\tself.index_item = [np.where(train_pairs[:,1] == i)[0] for i in range(n_item)]\n",
    "\t\tself.index_user = [np.where(train_pairs[:,0] == u)[0] for u in range(n_user)]\n",
    "\t\tfor i in range(self.n_item):\n",
    "\t\t\tfor j in range(i):\n",
    "\t\t\t\tif (len(self.index_item[i]) == 0) or (len(self.index_item[j]) == 0):\n",
    "\t\t\t\t\tcontinue\n",
    "\t\t\t\tweight_tmp = self.cossim(self.index_item[i],self.index_item[j],train_pairs,train_ratings)\n",
    "\t\t\t\tif weight_tmp > 0:\n",
    "\t\t\t\t\tself.S[i,j] = weight_tmp\n",
    "\t\tself.S = self.S + self.S.T\n",
    "\t\n",
    "\tdef fit(self, train_pairs, train_ratings):\n",
    "\t\tself.glb_mean = train_ratings.mean()\n",
    "\t\t# use another class to predict the item mean\n",
    "\t\titem_ave_method = item_mean(self.n_item)\n",
    "\t\titem_ave_method.fit(train_pairs, train_ratings)\n",
    "\t\tself.item_mean = item_ave_method.item_mean\n",
    "\t\tself.sim_mat(train_pairs, train_ratings)\n",
    "\t\n",
    "\tdef predict(self, test_pairs, train_pairs, train_ratings, top=10):\n",
    "\t\tpred = np.zeros(len(test_pairs))\n",
    "\t\tfor j in range(len(test_pairs)):\n",
    "\t\t\tuser_tmp, item_tmp = test_pairs[j,0], test_pairs[j,1]\n",
    "\t\t\tindex_tmp = self.index_user[user_tmp]\n",
    "\t\t\trated_items = train_pairs[index_tmp][:,1]\n",
    "\t\t\trated_ratings = train_ratings[index_tmp]\n",
    "\t\t\tsim_weight = self.S[item_tmp, rated_items].toarray()[0]\n",
    "\t\t\t## only keep top 10 closest users\n",
    "\t\t\ttop_ind = sim_weight.argsort()[-top:][::-1]\n",
    "\t\t\tsim_weight_knn = np.zeros(len(sim_weight))\n",
    "\t\t\tsim_weight_knn[top_ind] = sim_weight[top_ind]\n",
    "\t\t\tif (len(rated_items) == 0) or (max(sim_weight_knn) == 0):\n",
    "\t\t\t\t# if no rated items or no similar items\n",
    "\t\t\t\tpred[j] = self.item_mean[item_tmp]\n",
    "\t\t\telse:\n",
    "\t\t\t\tpred[j] = np.sum(sim_weight_knn*rated_ratings) / np.sum(sim_weight_knn)\n",
    "\t\treturn pred\n",
    "\n",
    "def rmse(true, pred):\n",
    "\treturn np.sqrt(np.mean((pred - true)**2))\n",
    "\n",
    "\n",
    "    \n",
    "\n",
    "class LFM(object):\n",
    "\n",
    "    def __init__(self, n_user, n_item, lam=.001, K=10, iterNum=10, tol=1e-4, verbose=1):\n",
    "        self.P = np.random.randn(n_user, K)\n",
    "        self.Q = np.random.randn(n_item, K)\n",
    "        # self.index_item = []\n",
    "        # self.index_user = []\n",
    "        self.n_user = n_user\n",
    "        self.n_item = n_item\n",
    "        self.lam = lam\n",
    "        self.K = K\n",
    "        self.iterNum = iterNum\n",
    "        self.tol = tol\n",
    "        self.verbose = verbose\n",
    "\n",
    "    def fit(self, train_pair, train_rating):\n",
    "        diff, tol = 1., self.tol\n",
    "        n_user, n_item, n_obs = self.n_user, self.n_item, len(train_pair)\n",
    "        K, iterNum, lam = self.K, self.iterNum, self.lam\n",
    "        ## store user/item index set\n",
    "        self.index_item = [np.where(train_pair[:,1] == i)[0] for i in range(n_item)]\n",
    "        self.index_user = [np.where(train_pair[:,0] == u)[0] for u in range(n_user)]\n",
    "        if self.verbose:\n",
    "            print('Fitting Reg-LFM: K: %d, lam: %.5f' %(K, lam))\n",
    "        for i in range(iterNum):\n",
    "            ## item update\n",
    "            score_old = self.rmse(test_pair=train_pair, test_rating=train_rating)\n",
    "            for item_id in range(n_item):\n",
    "                index_item_tmp = self.index_item[item_id]\n",
    "                if len(index_item_tmp) == 0:\n",
    "                    self.Q[item_id,:] = 0.\n",
    "                    continue\n",
    "                sum_pu, sum_matrix = np.zeros((K)), np.zeros((K, K))\n",
    "                for record_ind in index_item_tmp:\n",
    "                    ## double-check\n",
    "                    if item_id != train_pair[record_ind][1]:\n",
    "                        raise ValueError('the item_id is waring in updating Q!')\n",
    "                    user_id, rating_tmp = train_pair[record_ind][0], train_rating[record_ind]\n",
    "                    sum_matrix = sum_matrix + np.outer(self.P[user_id,:], self.P[user_id,:])\n",
    "                    sum_pu = sum_pu + rating_tmp * self.P[user_id,:]                    \n",
    "                self.Q[item_id,:] = np.dot(np.linalg.inv(sum_matrix + lam*n_obs*np.identity(K)), sum_pu)\n",
    "            \n",
    "            for user_id in range(n_user):\n",
    "                index_user_tmp = self.index_user[user_id]\n",
    "                if len(index_user_tmp) == 0:\n",
    "                    self.P[user_id,:] = 0.\n",
    "                    continue\n",
    "                sum_pu, sum_matrix = np.zeros((K)), np.zeros((K, K))\n",
    "                for record_ind in index_user_tmp:\n",
    "                    ## double-check\n",
    "                    if user_id != train_pair[record_ind][0]:\n",
    "                        raise ValueError('the user_id is waring in updating P!')\n",
    "                    item_id, rating_tmp = train_pair[record_ind][1], train_rating[record_ind]\n",
    "                    sum_matrix = sum_matrix + np.outer(self.Q[item_id,:], self.Q[item_id,:])\n",
    "                    sum_pu = sum_pu + rating_tmp * self.Q[item_id,:]                    \n",
    "                self.P[user_id,:] = np.dot(np.linalg.inv(sum_matrix + lam*n_obs*np.identity(K)), sum_pu)\n",
    "            # compute the new rmse score\n",
    "            score_new = self.rmse(test_pair=train_pair, test_rating=train_rating)\n",
    "            diff = abs(score_new - score_old) / score_old\n",
    "            if self.verbose:\n",
    "                print(\"Reg-LFM: ite: %d; diff: %.3f RMSE: %.3f\" %(i, diff, score_new))\n",
    "            if(diff < tol):\n",
    "                break\n",
    "\n",
    "    def predict(self, test_pair):\n",
    "        # predict ratings for user-item pairs\n",
    "        pred_rating = [np.dot(self.P[line[0]], self.Q[line[1]]) for line in test_pair]\n",
    "        return np.array(pred_rating)\n",
    "    \n",
    "    def rmse(self, test_pair, test_rating):\n",
    "        # report the rmse for the fitted `LFM`\n",
    "        pred_rating = self.predict(test_pair=test_pair)\n",
    "        return np.sqrt( np.mean( (pred_rating - test_rating)**2) )\n",
    "\n",
    "from sklearn.model_selection import KFold\n",
    "import itertools\n",
    "import pandas as pd\n",
    "import seaborn as sns\n",
    "import matplotlib.pyplot as plt\n",
    "\n",
    "class LFM_CV(object):\n",
    "\n",
    "\tdef __init__(self, n_user, n_item, cv=5,\n",
    "\t\t\t\tlams=[.000001,.0001,.001,.01], \n",
    "\t\t\t\tKs=[3,5,10,20], \n",
    "\t\t\t\titerNum=10, tol=1e-4):\n",
    "\t\t# self.index_item = []\n",
    "\t\t# self.index_user = []\n",
    "\t\tself.n_user = n_user\n",
    "\t\tself.n_item = n_item\n",
    "\t\tself.cv = cv\n",
    "\t\tself.lams = lams\n",
    "\t\tself.Ks = Ks\n",
    "\t\tself.iterNum = iterNum\n",
    "\t\tself.tol = tol\n",
    "\t\tself.best_model = {}\n",
    "\t\tself.cv_result = {'K': [], 'lam': [], 'train_rmse': [], 'valid_rmse': []}\n",
    "\n",
    "\tdef grid_search(self, train_pair, train_rating):\n",
    "\t\t## generate all comb of `K` and `lam`\n",
    "\t\tkf = KFold(n_splits=self.cv, shuffle=True)\n",
    "\t\tfor (K,lam) in itertools.product(self.Ks, self.lams):\n",
    "\t\t\ttrain_rmse_tmp, valid_rmse_tmp = 0., 0.\n",
    "\t\t\tfor train_index, valid_index in kf.split(train_pair):\n",
    "\t\t\t\t# produce training/validation sets\n",
    "\t\t\t\ttrain_pair_cv, train_rating_cv = train_pair[train_index], train_rating[train_index]\n",
    "\t\t\t\tvalid_pair_cv, valid_rating_cv = train_pair[valid_index], train_rating[valid_index]\n",
    "\t\t\t\t# fit the model based on CV data\n",
    "\t\t\t\tmodel_tmp = LFM(self.n_user, self.n_item, K=K, lam=lam, verbose=0)\n",
    "\t\t\t\tmodel_tmp.fit(train_pair=train_pair_cv, train_rating=train_rating_cv)\n",
    "\t\t\t\ttrain_rmse_tmp_cv = model_tmp.rmse(test_pair=train_pair_cv, test_rating=train_rating_cv)\n",
    "\t\t\t\tvalid_rmse_tmp_cv = model_tmp.rmse(test_pair=valid_pair_cv, test_rating=valid_rating_cv)\n",
    "\t\t\t\ttrain_rmse_tmp = train_rmse_tmp + train_rmse_tmp_cv / self.cv\n",
    "\t\t\t\tvalid_rmse_tmp = valid_rmse_tmp + valid_rmse_tmp_cv / self.cv\n",
    "\t\t\t\tprint('%d-Fold CV for K: %d; lam: %.5f: train_rmse: %.3f, valid_rmse: %.3f' \n",
    "\t\t\t\t\t\t%(self.cv, K, lam, train_rmse_tmp_cv, valid_rmse_tmp_cv))\n",
    "\t\t\tself.cv_result['K'].append(K)\n",
    "\t\t\tself.cv_result['lam'].append(lam)\n",
    "\t\t\tself.cv_result['train_rmse'].append(train_rmse_tmp)\n",
    "\t\t\tself.cv_result['valid_rmse'].append(valid_rmse_tmp)\n",
    "\t\tself.cv_result = pd.DataFrame.from_dict(self.cv_result)\n",
    "\t\tbest_ind = self.cv_result['valid_rmse'].argmin()\n",
    "\t\tself.best_model = self.cv_result.loc[best_ind]\n",
    "\t\n",
    "\tdef plot_grid(self, data_source='valid'):\n",
    "\t\tsns.set_theme()\n",
    "\t\tif data_source == 'train':\n",
    "\t\t\tcv_pivot = self.cv_result.pivot(\"K\", \"lam\", \"train_rmse\")\n",
    "\t\telif data_source == 'valid':\n",
    "\t\t\tcv_pivot = self.cv_result.pivot(\"K\", \"lam\", \"valid_rmse\")\n",
    "\t\telse:\n",
    "\t\t\traise ValueError('data_source must be train or valid!')\n",
    "\t\tsns.heatmap(cv_pivot, annot=True, fmt=\".3f\", linewidths=.5, cmap=\"YlGnBu\")\n",
    "\t\tplt.show()"
   ]
  },
  {
   "cell_type": "markdown",
   "metadata": {},
   "source": [
    "## Load the data"
   ]
  },
  {
   "cell_type": "code",
   "execution_count": 3,
   "metadata": {},
   "outputs": [],
   "source": [
    "# Load dataset\n",
    "item_feat = pd.read_csv(\"data/item_feats.csv\")\n",
    "user_feat = pd.read_csv(\"data/user_feats.csv\")\n",
    "test_pair = pd.read_csv(\"data/test_pair.csv\")\n",
    "train_rating = pd.read_csv(\"data/train_rating.csv\")\n",
    "sub = pd.read_csv('predict/sample_submission.csv')"
   ]
  },
  {
   "cell_type": "markdown",
   "metadata": {},
   "source": [
    "## Feature engineering"
   ]
  },
  {
   "cell_type": "code",
   "execution_count": 4,
   "metadata": {},
   "outputs": [],
   "source": [
    "# UserID,ItemID\n",
    "le_user = preprocessing.LabelEncoder()\n",
    "le_user.fit(np.append(np.append(train_rating['UserId'], test_pair[\"UserId\"]), user_feat[\"UserId\"]))\n",
    "\n",
    "user_feat['UserId'] = le_user.transform(user_feat[\"UserId\"])\n",
    "test_pair[\"UserId\"] = le_user.transform(test_pair[\"UserId\"])\n",
    "train_rating['UserId'] = le_user.transform(train_rating[\"UserId\"])\n",
    "\n",
    "le_item = preprocessing.LabelEncoder()\n",
    "le_item.fit(np.append(np.append(train_rating['ItemId'], test_pair[\"ItemId\"]), item_feat[\"ItemId\"]))\n",
    "\n",
    "item_feat['ItemId'] = le_item.transform(item_feat[\"ItemId\"])\n",
    "test_pair[\"ItemId\"] = le_item.transform(test_pair[\"ItemId\"])\n",
    "train_rating['ItemId'] = le_item.transform(train_rating[\"ItemId\"])\n",
    "\n",
    "#Inf value\n",
    "user_feat.loc[np.isinf(user_feat['V1']),'V1']=-3\n",
    "item_feat.loc[np.isinf(item_feat['V2']),'V2']=2\n",
    "\n",
    "# Missing data\n",
    "imp_mean = SimpleImputer(missing_values=np.nan, strategy='mean')\n",
    "imp_mean.fit(user_feat['V1'].values.reshape(-1, 1))\n",
    "user_feat['V1'] = imp_mean.transform(user_feat['V1'].values.reshape(-1, 1))"
   ]
  },
  {
   "cell_type": "markdown",
   "metadata": {},
   "source": [
    "## Generate some additional side information for users and items\n",
    "- Number of ratings\n",
    "- Averaged ratings\n",
    "- quantiles of the ratings (as a practice)"
   ]
  },
  {
   "cell_type": "markdown",
   "metadata": {},
   "source": [
    "### train dataset"
   ]
  },
  {
   "cell_type": "code",
   "execution_count": 12,
   "metadata": {},
   "outputs": [],
   "source": [
    "# tran_pair, train_rating\n",
    "train_pairs = train_rating[['UserId', 'ItemId']].values\n",
    "train_ratings = train_rating['rating'].values\n",
    "train_pair=train_rating.drop(columns='rating')\n",
    "# test_pair\n",
    "test_pairs = test_pair[['UserId', 'ItemId']].values\n",
    "n_user, n_item = max(train_pairs[:,0].max(), test_pairs[:,0].max())+1, max(train_pairs[:,1].max(), test_pairs[:,1].max())+1\n"
   ]
  },
  {
   "cell_type": "code",
   "execution_count": 54,
   "metadata": {},
   "outputs": [],
   "source": [
    "temp_train_user=np.zeros((len(train_pairs[:,0]), 4))\n",
    "temp_train_item=np.zeros((len(train_pairs[:,0]), 3))\n",
    "\n",
    "temp_test_user=np.zeros((len(test_pairs[:,0]), 4))\n",
    "temp_test_item=np.zeros((len(test_pairs[:,0]), 3))\n",
    "\n",
    "for i in range(0,len(train_pairs[:,0])):\n",
    "    temp_train_user[i,:]=user_feat.loc[np.where(train_pairs[i,0]==user_feat.values[:,0])[0][0]].values[1:5]\n",
    "    temp_train_item[i,:]=item_feat.loc[np.where(train_pairs[i,1]==item_feat.values[:,0])[0][0]].values[1:4]\n",
    "\n",
    "for i in range(0,len(test_pairs[:,0])):\n",
    "    temp_test_user[i,:]=user_feat.loc[np.where(test_pairs[i,0]==user_feat.values[:,0])[0][0]].values[1:5]\n",
    "    temp_test_item[i,:]=item_feat.loc[np.where(test_pairs[i,1]==item_feat.values[:,0])[0][0]].values[1:4]\n"
   ]
  },
  {
   "cell_type": "code",
   "execution_count": 17,
   "metadata": {},
   "outputs": [],
   "source": [
    "## baseline user mean methods\n",
    "user_ave = user_mean(n_user=n_user)\n",
    "user_ave.fit(train_pairs=train_pairs, train_ratings=train_ratings)\n",
    "pred_user_mean = user_ave.predict(train_pairs)\n",
    "user_mean_pred=pd.DataFrame({'user_mean':pred_user_mean})\n"
   ]
  },
  {
   "cell_type": "code",
   "execution_count": 14,
   "metadata": {},
   "outputs": [],
   "source": [
    "## baseline item mean methods\n",
    "item_ave = item_mean(n_item=n_item)\n",
    "item_ave.fit(train_pairs=train_pairs, train_ratings=train_ratings)\n",
    "pred_item_mean = item_ave.predict(train_pairs)\n",
    "item_mean_pred=pd.DataFrame({'item_mean':pred_item_mean})\n"
   ]
  },
  {
   "cell_type": "code",
   "execution_count": 15,
   "metadata": {},
   "outputs": [],
   "source": [
    "## Correlation-based RS (user)\n",
    "cor_user = cor_rs_user(n_user=n_user, n_item=n_item)\n",
    "cor_user.fit(train_pairs=train_pairs, train_ratings = train_ratings)\n",
    "pred_cor_user = cor_user.predict(train_pairs, train_pairs, train_ratings)\n",
    "cor_user_pred = pd.DataFrame({'cor_user':pred_cor_user})\n"
   ]
  },
  {
   "cell_type": "code",
   "execution_count": 16,
   "metadata": {},
   "outputs": [],
   "source": [
    "## Correlation-based RS (item)\n",
    "cor_item = cor_rs_item(n_user=n_user, n_item=n_item)\n",
    "cor_item.fit(train_pairs=train_pairs, train_ratings=train_ratings)\n",
    "pred_cor_item = cor_item.predict(train_pairs, train_pairs, train_ratings)\n",
    "cor_item_pred = pd.DataFrame({'cor_item':pred_cor_item})"
   ]
  },
  {
   "cell_type": "code",
   "execution_count": 58,
   "metadata": {},
   "outputs": [],
   "source": [
    "temp_train_user=pd.DataFrame(temp_train_user,columns=['V1','V2','V3','V4'])\n",
    "temp_train_item=pd.DataFrame(temp_train_item,columns=['V1','V2','V3'])\n",
    "temp_test_user=pd.DataFrame(temp_test_user,columns=['V1','V2','V3','V4'])\n",
    "temp_test_item=pd.DataFrame(temp_test_item,columns=['V1','V2','V3'])"
   ]
  },
  {
   "cell_type": "code",
   "execution_count": 59,
   "metadata": {},
   "outputs": [],
   "source": [
    "user_pd_train = pd.concat([temp_train_user, user_mean_pred, cor_user_pred], axis=1)\n",
    "item_pd_train = pd.concat([temp_train_item, item_mean_pred, cor_item_pred], axis=1)"
   ]
  },
  {
   "cell_type": "markdown",
   "metadata": {},
   "source": [
    "## Pre-processing the dataset\n",
    "- all continuous features should be standardized as mean 0, std 1\n",
    "- all categorical features should be re-encoding to remove the missing ones"
   ]
  },
  {
   "cell_type": "code",
   "execution_count": 62,
   "metadata": {},
   "outputs": [
    {
     "name": "stdout",
     "output_type": "stream",
     "text": [
      "#######################################################\n",
      "########## 10 random samples for users feats ##########\n",
      "#######################################################\n",
      "             V1        V2        V3        V4  user_mean  cor_user\n",
      "30749  0.563707 -0.786587  0.556476  0.522285   0.203148  0.071402\n",
      "17874 -0.123625 -0.677754 -1.333865  0.522285  -0.584968 -1.238725\n",
      "2362  -0.123625 -1.271980 -1.849412 -2.708999   0.311297  0.158744\n",
      "12341 -0.061883 -1.781316  0.407540 -1.670372   0.994345  0.857478\n",
      "26172 -1.559877 -1.309853  0.105085  0.522285  -1.020331 -0.916685\n",
      "27605 -0.289363 -0.186702  1.321778  0.522285  -0.973045 -0.878497\n",
      "19672 -0.289363 -0.186702  1.321778  0.522285  -0.973045 -1.238725\n",
      "34478  0.391178 -0.113131 -1.132228  0.522285  -0.282666 -0.320943\n",
      "21469 -0.198026 -1.608925  1.324069  0.522285  -0.265499 -1.238725\n",
      "12198 -0.563187  0.547699 -0.002607  0.522285   0.815006  0.565541\n",
      "#######################################################\n",
      "########## 10 random samples for items feats ##########\n",
      "#######################################################\n",
      "             V1        V2        V3  item_mean  cor_item\n",
      "26388  1.618636 -0.151469  0.634261   0.130922  1.433524\n",
      "35002  1.502382  0.012984 -0.265259  -1.145967 -1.043312\n",
      "24322 -0.660255  0.119602  0.634261  -1.145967 -1.043312\n",
      "6546   1.519369  0.296251 -1.342450   1.299397  1.146071\n",
      "26900 -1.302569  0.277515  0.992648  -0.023096  1.490869\n",
      "30816  0.726296 -0.057380 -0.334297   0.682918  0.594126\n",
      "39269  0.086105  0.107396 -0.224649  -1.145967 -1.043312\n",
      "16037 -1.261960  0.249389 -1.341435   1.299397  1.146071\n",
      "3120  -1.057322  0.336792 -0.898781  -0.656895 -0.605435\n",
      "22240  0.565983  0.224743 -1.373923   1.049870  0.551540\n"
     ]
    }
   ],
   "source": [
    "## pre-processing for users\n",
    "user_cont = ['user_mean','cor_user','V1','V2','V3','V4']\n",
    "user_pd_train[user_cont] = preprocessing.StandardScaler().fit_transform(user_pd_train[user_cont])\n",
    "\n",
    "## pre-processing for items\n",
    "item_cont = ['item_mean', 'cor_item', 'V1','V2','V3']\n",
    "item_pd_train[item_cont] = preprocessing.StandardScaler().fit_transform(item_pd_train[item_cont])\n",
    "\n",
    "\n",
    "print('#######################################################')\n",
    "print('########## 10 random samples for users feats ##########')\n",
    "print('#######################################################')\n",
    "print(user_pd_train.sample(10))\n",
    "\n",
    "print('#######################################################')\n",
    "print('########## 10 random samples for items feats ##########')\n",
    "print('#######################################################')\n",
    "print(item_pd_train.sample(10))"
   ]
  },
  {
   "cell_type": "markdown",
   "metadata": {},
   "source": [
    "### test dataset"
   ]
  },
  {
   "cell_type": "code",
   "execution_count": 63,
   "metadata": {},
   "outputs": [],
   "source": [
    "## baseline user mean methods\n",
    "user_ave = user_mean(n_user=n_user)\n",
    "user_ave.fit(train_pairs=train_pairs, train_ratings=train_ratings)\n",
    "pred_user_mean = user_ave.predict(test_pairs)\n",
    "user_mean_pred=pd.DataFrame({'user_mean':pred_user_mean})"
   ]
  },
  {
   "cell_type": "code",
   "execution_count": 64,
   "metadata": {},
   "outputs": [],
   "source": [
    "## baseline item mean methods\n",
    "item_ave = item_mean(n_item=n_item)\n",
    "item_ave.fit(train_pairs=train_pairs, train_ratings=train_ratings)\n",
    "pred_item_mean = item_ave.predict(test_pairs)\n",
    "item_mean_pred=pd.DataFrame({'item_mean':pred_item_mean})"
   ]
  },
  {
   "cell_type": "code",
   "execution_count": 65,
   "metadata": {},
   "outputs": [],
   "source": [
    "## Correlation-based RS (user)\n",
    "cor_user = cor_rs_user(n_user=n_user, n_item=n_item)\n",
    "cor_user.fit(train_pairs=train_pairs, train_ratings = train_ratings)\n",
    "pred_cor_user = cor_user.predict(test_pairs, train_pairs, train_ratings)\n",
    "cor_user_pred = pd.DataFrame({'cor_user':pred_cor_user})"
   ]
  },
  {
   "cell_type": "code",
   "execution_count": 66,
   "metadata": {},
   "outputs": [],
   "source": [
    "## Correlation-based RS (item)\n",
    "cor_item = cor_rs_item(n_user=n_user, n_item=n_item)\n",
    "cor_item.fit(train_pairs=train_pairs, train_ratings=train_ratings)\n",
    "pred_cor_item = cor_item.predict(test_pairs, train_pairs, train_ratings)\n",
    "cor_item_pred = pd.DataFrame({'cor_item':pred_cor_item})"
   ]
  },
  {
   "cell_type": "code",
   "execution_count": 69,
   "metadata": {},
   "outputs": [],
   "source": [
    "user_pd_test = pd.concat([temp_test_user, user_mean_pred, cor_user_pred], axis=1)\n",
    "item_pd_test = pd.concat([temp_test_item, item_mean_pred, cor_item_pred], axis=1)"
   ]
  },
  {
   "cell_type": "markdown",
   "metadata": {},
   "source": [
    "## Pre-processing the dataset\n",
    "                                                    - all continuous features should be standardized as mean 0, std 1\n",
    "- all categorical features should be re-encoding to remove the missing ones"
   ]
  },
  {
   "cell_type": "code",
   "execution_count": 70,
   "metadata": {},
   "outputs": [
    {
     "name": "stdout",
     "output_type": "stream",
     "text": [
      "#######################################################\n",
      "########## 10 random samples for users feats ##########\n",
      "#######################################################\n",
      "             V1        V2        V3        V4  user_mean  cor_user\n",
      "6132   0.815314  0.859654  1.553926  0.528364   0.220775 -1.282235\n",
      "14759 -1.657106  0.307163 -1.343556  0.528364  -1.190933 -1.005046\n",
      "6147   1.067234  0.404045 -0.120073  0.528364   1.875797  1.428656\n",
      "12534  1.122796  1.287770 -1.343556  0.528364  -0.336171 -0.326721\n",
      "16174  0.977815  0.173622 -0.014876  0.528364  -0.324103 -0.282415\n",
      "739   -0.501636  1.048182  1.613385  0.528364   2.067154  1.580514\n",
      "7430   0.863236  1.212271  0.101755  0.528364  -1.210733 -1.282235\n",
      "384   -1.557701 -0.813095  0.412771  0.528364  -1.134475 -0.960241\n",
      "16465  0.395957  1.723741  1.553926  0.528364  -1.279412 -1.075261\n",
      "820   -0.097059 -0.125753 -1.343556  0.528364   0.681036  0.480515\n",
      "#######################################################\n",
      "########## 10 random samples for items feats ##########\n",
      "#######################################################\n",
      "             V1        V2        V3  item_mean  cor_item\n",
      "17784  0.437004  0.149153 -1.257381   2.128493  1.979481\n",
      "5287   0.695610 -0.014976 -0.295302  -0.023762 -0.002557\n",
      "11942  0.457344  0.158147  0.584660  -1.519705 -1.380190\n",
      "1283  -0.030283 -0.038613 -1.325304  -0.151631 -0.120313\n",
      "1090  -1.542033  0.335304  0.939484  -1.519705 -1.380190\n",
      "15607 -1.551543  0.120842 -1.345580  -0.288439  1.136196\n",
      "12999 -0.080472 -0.070007 -0.805234   0.152385  0.159660\n",
      "7495   1.359164  0.080624 -1.358759  -1.519705 -1.380190\n",
      "600    0.508061  0.059022  0.445772  -1.519705 -1.380190\n",
      "9465  -0.525307  0.367534  0.816816   0.441201  0.425633\n"
     ]
    }
   ],
   "source": [
    "## pre-processing for users\n",
    "user_cont = ['user_mean','cor_user','V1','V2','V3','V4']\n",
    "user_pd_test[user_cont] = preprocessing.StandardScaler().fit_transform(user_pd_test[user_cont])\n",
    "\n",
    "## pre-processing for items\n",
    "item_cont = ['item_mean', 'cor_item', 'V1','V2','V3']\n",
    "item_pd_test[item_cont] = preprocessing.StandardScaler().fit_transform(item_pd_test[item_cont])\n",
    "\n",
    "\n",
    "print('#######################################################')\n",
    "print('########## 10 random samples for users feats ##########')\n",
    "print('#######################################################')\n",
    "print(user_pd_test.sample(10))\n",
    "\n",
    "print('#######################################################')\n",
    "print('########## 10 random samples for items feats ##########')\n",
    "print('#######################################################')\n",
    "print(item_pd_test.sample(10))"
   ]
  },
  {
   "cell_type": "markdown",
   "metadata": {},
   "source": [
    "## Method 1: ``Regression``: rating ~ user_features + item_features"
   ]
  },
  {
   "cell_type": "markdown",
   "metadata": {},
   "source": [
    "### Step 1: generate `joint_feats` by emerge all user and item features\n",
    "- merge all continuous features"
   ]
  },
  {
   "cell_type": "markdown",
   "metadata": {},
   "source": [
    "### joint_feats of train"
   ]
  },
  {
   "cell_type": "code",
   "execution_count": 71,
   "metadata": {},
   "outputs": [],
   "source": [
    "train_joint_feats=np.concatenate((user_pd_train.values, item_pd_train), axis=1)"
   ]
  },
  {
   "cell_type": "markdown",
   "metadata": {},
   "source": [
    "### joint_feats for testing data"
   ]
  },
  {
   "cell_type": "code",
   "execution_count": 72,
   "metadata": {},
   "outputs": [],
   "source": [
    "test_joint_feats=np.concatenate((user_pd_test.values, item_pd_test.values), axis=1)"
   ]
  },
  {
   "cell_type": "markdown",
   "metadata": {},
   "source": [
    "### Step 2: fit `regression`: rating ~ joint features\n"
   ]
  },
  {
   "cell_type": "code",
   "execution_count": 73,
   "metadata": {},
   "outputs": [],
   "source": [
    "reg = LinearRegression().fit(train_joint_feats, train_ratings)\n",
    "reg_rating = reg.predict(test_joint_feats)\n",
    "train_rating_res = train_ratings - reg.predict(train_joint_feats)"
   ]
  },
  {
   "cell_type": "markdown",
   "metadata": {},
   "source": [
    "### Step 3: fit ``LFM`` after the regression\n"
   ]
  },
  {
   "cell_type": "code",
   "execution_count": 74,
   "metadata": {},
   "outputs": [
    {
     "name": "stdout",
     "output_type": "stream",
     "text": [
      "3-Fold CV for K: 3; lam: 0.00010: train_rmse: 0.684, valid_rmse: 1.386\n",
      "3-Fold CV for K: 3; lam: 0.00010: train_rmse: 0.678, valid_rmse: 1.398\n",
      "3-Fold CV for K: 3; lam: 0.00010: train_rmse: 0.684, valid_rmse: 1.415\n",
      "3-Fold CV for K: 3; lam: 0.00032: train_rmse: 0.988, valid_rmse: 1.220\n",
      "3-Fold CV for K: 3; lam: 0.00032: train_rmse: 0.984, valid_rmse: 1.229\n",
      "3-Fold CV for K: 3; lam: 0.00032: train_rmse: 0.987, valid_rmse: 1.217\n",
      "3-Fold CV for K: 3; lam: 0.00100: train_rmse: 1.140, valid_rmse: 1.188\n",
      "3-Fold CV for K: 3; lam: 0.00100: train_rmse: 1.139, valid_rmse: 1.193\n",
      "3-Fold CV for K: 3; lam: 0.00100: train_rmse: 1.143, valid_rmse: 1.186\n",
      "3-Fold CV for K: 3; lam: 0.00316: train_rmse: 1.183, valid_rmse: 1.202\n",
      "3-Fold CV for K: 3; lam: 0.00316: train_rmse: 1.191, valid_rmse: 1.185\n",
      "3-Fold CV for K: 3; lam: 0.00316: train_rmse: 1.194, valid_rmse: 1.180\n",
      "3-Fold CV for K: 3; lam: 0.01000: train_rmse: 1.190, valid_rmse: 1.188\n",
      "3-Fold CV for K: 3; lam: 0.01000: train_rmse: 1.190, valid_rmse: 1.188\n",
      "3-Fold CV for K: 3; lam: 0.01000: train_rmse: 1.188, valid_rmse: 1.192\n",
      "3-Fold CV for K: 3; lam: 0.03162: train_rmse: 1.192, valid_rmse: 1.184\n",
      "3-Fold CV for K: 3; lam: 0.03162: train_rmse: 1.185, valid_rmse: 1.198\n",
      "3-Fold CV for K: 3; lam: 0.03162: train_rmse: 1.191, valid_rmse: 1.185\n",
      "3-Fold CV for K: 3; lam: 0.10000: train_rmse: 1.198, valid_rmse: 1.171\n",
      "3-Fold CV for K: 3; lam: 0.10000: train_rmse: 1.184, valid_rmse: 1.199\n",
      "3-Fold CV for K: 3; lam: 0.10000: train_rmse: 1.185, valid_rmse: 1.197\n",
      "3-Fold CV for K: 3; lam: 0.31623: train_rmse: 1.186, valid_rmse: 1.196\n",
      "3-Fold CV for K: 3; lam: 0.31623: train_rmse: 1.188, valid_rmse: 1.191\n",
      "3-Fold CV for K: 3; lam: 0.31623: train_rmse: 1.193, valid_rmse: 1.181\n",
      "3-Fold CV for K: 3; lam: 1.00000: train_rmse: 1.188, valid_rmse: 1.191\n",
      "3-Fold CV for K: 3; lam: 1.00000: train_rmse: 1.192, valid_rmse: 1.184\n",
      "3-Fold CV for K: 3; lam: 1.00000: train_rmse: 1.188, valid_rmse: 1.192\n",
      "3-Fold CV for K: 3; lam: 3.16228: train_rmse: 1.188, valid_rmse: 1.192\n",
      "3-Fold CV for K: 3; lam: 3.16228: train_rmse: 1.189, valid_rmse: 1.189\n",
      "3-Fold CV for K: 3; lam: 3.16228: train_rmse: 1.191, valid_rmse: 1.186\n",
      "3-Fold CV for K: 5; lam: 0.00010: train_rmse: 0.587, valid_rmse: 1.344\n",
      "3-Fold CV for K: 5; lam: 0.00010: train_rmse: 0.585, valid_rmse: 1.372\n",
      "3-Fold CV for K: 5; lam: 0.00010: train_rmse: 0.585, valid_rmse: 1.368\n",
      "3-Fold CV for K: 5; lam: 0.00032: train_rmse: 0.954, valid_rmse: 1.219\n",
      "3-Fold CV for K: 5; lam: 0.00032: train_rmse: 0.962, valid_rmse: 1.207\n",
      "3-Fold CV for K: 5; lam: 0.00032: train_rmse: 0.956, valid_rmse: 1.222\n",
      "3-Fold CV for K: 5; lam: 0.00100: train_rmse: 1.138, valid_rmse: 1.194\n",
      "3-Fold CV for K: 5; lam: 0.00100: train_rmse: 1.147, valid_rmse: 1.176\n",
      "3-Fold CV for K: 5; lam: 0.00100: train_rmse: 1.135, valid_rmse: 1.197\n",
      "3-Fold CV for K: 5; lam: 0.00316: train_rmse: 1.190, valid_rmse: 1.189\n",
      "3-Fold CV for K: 5; lam: 0.00316: train_rmse: 1.188, valid_rmse: 1.192\n",
      "3-Fold CV for K: 5; lam: 0.00316: train_rmse: 1.190, valid_rmse: 1.187\n",
      "3-Fold CV for K: 5; lam: 0.01000: train_rmse: 1.192, valid_rmse: 1.184\n",
      "3-Fold CV for K: 5; lam: 0.01000: train_rmse: 1.188, valid_rmse: 1.193\n",
      "3-Fold CV for K: 5; lam: 0.01000: train_rmse: 1.188, valid_rmse: 1.191\n",
      "3-Fold CV for K: 5; lam: 0.03162: train_rmse: 1.187, valid_rmse: 1.194\n",
      "3-Fold CV for K: 5; lam: 0.03162: train_rmse: 1.193, valid_rmse: 1.182\n",
      "3-Fold CV for K: 5; lam: 0.03162: train_rmse: 1.188, valid_rmse: 1.192\n",
      "3-Fold CV for K: 5; lam: 0.10000: train_rmse: 1.187, valid_rmse: 1.194\n",
      "3-Fold CV for K: 5; lam: 0.10000: train_rmse: 1.192, valid_rmse: 1.184\n",
      "3-Fold CV for K: 5; lam: 0.10000: train_rmse: 1.189, valid_rmse: 1.190\n",
      "3-Fold CV for K: 5; lam: 0.31623: train_rmse: 1.188, valid_rmse: 1.192\n",
      "3-Fold CV for K: 5; lam: 0.31623: train_rmse: 1.185, valid_rmse: 1.199\n",
      "3-Fold CV for K: 5; lam: 0.31623: train_rmse: 1.195, valid_rmse: 1.177\n",
      "3-Fold CV for K: 5; lam: 1.00000: train_rmse: 1.190, valid_rmse: 1.188\n",
      "3-Fold CV for K: 5; lam: 1.00000: train_rmse: 1.188, valid_rmse: 1.191\n",
      "3-Fold CV for K: 5; lam: 1.00000: train_rmse: 1.190, valid_rmse: 1.188\n",
      "3-Fold CV for K: 5; lam: 3.16228: train_rmse: 1.189, valid_rmse: 1.190\n",
      "3-Fold CV for K: 5; lam: 3.16228: train_rmse: 1.190, valid_rmse: 1.188\n",
      "3-Fold CV for K: 5; lam: 3.16228: train_rmse: 1.189, valid_rmse: 1.190\n",
      "3-Fold CV for K: 10; lam: 0.00010: train_rmse: 0.536, valid_rmse: 1.273\n",
      "3-Fold CV for K: 10; lam: 0.00010: train_rmse: 0.535, valid_rmse: 1.295\n",
      "3-Fold CV for K: 10; lam: 0.00010: train_rmse: 0.534, valid_rmse: 1.285\n",
      "3-Fold CV for K: 10; lam: 0.00032: train_rmse: 0.934, valid_rmse: 1.193\n",
      "3-Fold CV for K: 10; lam: 0.00032: train_rmse: 0.932, valid_rmse: 1.206\n",
      "3-Fold CV for K: 10; lam: 0.00032: train_rmse: 0.933, valid_rmse: 1.206\n",
      "3-Fold CV for K: 10; lam: 0.00100: train_rmse: 1.141, valid_rmse: 1.186\n",
      "3-Fold CV for K: 10; lam: 0.00100: train_rmse: 1.135, valid_rmse: 1.201\n",
      "3-Fold CV for K: 10; lam: 0.00100: train_rmse: 1.144, valid_rmse: 1.181\n",
      "3-Fold CV for K: 10; lam: 0.00316: train_rmse: 1.184, valid_rmse: 1.200\n",
      "3-Fold CV for K: 10; lam: 0.00316: train_rmse: 1.187, valid_rmse: 1.193\n",
      "3-Fold CV for K: 10; lam: 0.00316: train_rmse: 1.197, valid_rmse: 1.174\n",
      "3-Fold CV for K: 10; lam: 0.01000: train_rmse: 1.187, valid_rmse: 1.193\n",
      "3-Fold CV for K: 10; lam: 0.01000: train_rmse: 1.190, valid_rmse: 1.187\n",
      "3-Fold CV for K: 10; lam: 0.01000: train_rmse: 1.190, valid_rmse: 1.187\n",
      "3-Fold CV for K: 10; lam: 0.03162: train_rmse: 1.192, valid_rmse: 1.183\n",
      "3-Fold CV for K: 10; lam: 0.03162: train_rmse: 1.192, valid_rmse: 1.183\n",
      "3-Fold CV for K: 10; lam: 0.03162: train_rmse: 1.183, valid_rmse: 1.202\n",
      "3-Fold CV for K: 10; lam: 0.10000: train_rmse: 1.189, valid_rmse: 1.189\n",
      "3-Fold CV for K: 10; lam: 0.10000: train_rmse: 1.195, valid_rmse: 1.178\n",
      "3-Fold CV for K: 10; lam: 0.10000: train_rmse: 1.184, valid_rmse: 1.200\n",
      "3-Fold CV for K: 10; lam: 0.31623: train_rmse: 1.188, valid_rmse: 1.192\n",
      "3-Fold CV for K: 10; lam: 0.31623: train_rmse: 1.190, valid_rmse: 1.188\n",
      "3-Fold CV for K: 10; lam: 0.31623: train_rmse: 1.190, valid_rmse: 1.188\n",
      "3-Fold CV for K: 10; lam: 1.00000: train_rmse: 1.190, valid_rmse: 1.188\n",
      "3-Fold CV for K: 10; lam: 1.00000: train_rmse: 1.187, valid_rmse: 1.195\n",
      "3-Fold CV for K: 10; lam: 1.00000: train_rmse: 1.191, valid_rmse: 1.185\n",
      "3-Fold CV for K: 10; lam: 3.16228: train_rmse: 1.194, valid_rmse: 1.179\n",
      "3-Fold CV for K: 10; lam: 3.16228: train_rmse: 1.186, valid_rmse: 1.196\n",
      "3-Fold CV for K: 10; lam: 3.16228: train_rmse: 1.188, valid_rmse: 1.192\n"
     ]
    },
    {
     "data": {
      "image/png": "[encoded data removed]",
      "text/plain": [
       "<Figure size 432x288 with 2 Axes>"
      ]
     },
     "metadata": {},
     "output_type": "display_data"
    },
    {
     "data": {
      "image/png": "[encoded data removed]",
      "text/plain": [
       "<Figure size 432x288 with 2 Axes>"
      ]
     },
     "metadata": {},
     "output_type": "display_data"
    }
   ],
   "source": [
    "Ks, lams = [3, 5, 10], 10**np.arange(-4, 1, .5)\n",
    "shiing_cv = LFM_CV(n_user, n_item, cv=3, Ks=Ks, lams=lams)\n",
    "shiing_cv.grid_search(train_pairs, train_rating_res)\n",
    "shiing_cv.plot_grid('valid')\n",
    "shiing_cv.plot_grid('train')"
   ]
  },
  {
   "cell_type": "code",
   "execution_count": 75,
   "metadata": {},
   "outputs": [
    {
     "name": "stdout",
     "output_type": "stream",
     "text": [
      "K             3.000000\n",
      "lam           0.001000\n",
      "train_rmse    1.140729\n",
      "valid_rmse    1.189146\n",
      "Name: 2, dtype: float64\n",
      "Fitting Reg-LFM: K: 3, lam: 0.00100\n",
      "Reg-LFM: ite: 0; diff: 0.433 RMSE: 1.167\n",
      "Reg-LFM: ite: 1; diff: 0.014 RMSE: 1.151\n",
      "Reg-LFM: ite: 2; diff: 0.002 RMSE: 1.148\n",
      "Reg-LFM: ite: 3; diff: 0.000 RMSE: 1.148\n"
     ]
    }
   ],
   "source": [
    "## refit the best model with the full dataset\n",
    "print(shiing_cv.best_model)\n",
    "best_K, best_lam = int(shiing_cv.best_model['K']), shiing_cv.best_model['lam']\n",
    "shiing_best = LFM(n_user, n_item, K=best_K, lam=best_lam)\n",
    "shiing_best.fit(train_pairs, train_rating_res)\n",
    "pred_LFM = reg_rating + shiing_best.predict(test_pairs)"
   ]
  },
  {
   "cell_type": "code",
   "execution_count": 76,
   "metadata": {},
   "outputs": [],
   "source": [
    "sub['rating'] = pred_LFM\n",
    "sub.to_csv('predict/pred_reg_LMF.csv', index=False)"
   ]
  },
  {
   "cell_type": "markdown",
   "metadata": {},
   "source": [
    "## Method 2: ``RandomForest Regressor``: rating ~ user_features + item_features"
   ]
  },
  {
   "cell_type": "markdown",
   "metadata": {},
   "source": [
    "### Step 1: fit `regression`: rating ~ joint features\n"
   ]
  },
  {
   "cell_type": "code",
   "execution_count": 24,
   "metadata": {},
   "outputs": [],
   "source": [
    "regressor = RandomForestRegressor(n_estimators = 500, random_state = 3009)\n",
    "regressor.fit(train_joint_feats, train_ratings)\n",
    "pred_reg=regressor.predict(test_joint_feats)\n",
    "train_rating_res = train_ratings - reg.predict(train_joint_feats)"
   ]
  },
  {
   "cell_type": "markdown",
   "metadata": {},
   "source": [
    "### Step 2: fit ``LFM`` after the RandomForest Regressor"
   ]
  },
  {
   "cell_type": "code",
   "execution_count": 25,
   "metadata": {},
   "outputs": [
    {
     "name": "stdout",
     "output_type": "stream",
     "text": [
      "3-Fold CV for K: 3; lam: 0.00010: train_rmse: 0.704, valid_rmse: 1.492\n",
      "3-Fold CV for K: 3; lam: 0.00010: train_rmse: 0.705, valid_rmse: 1.458\n",
      "3-Fold CV for K: 3; lam: 0.00010: train_rmse: 0.698, valid_rmse: 1.482\n",
      "3-Fold CV for K: 3; lam: 0.00032: train_rmse: 0.997, valid_rmse: 1.296\n",
      "3-Fold CV for K: 3; lam: 0.00032: train_rmse: 0.997, valid_rmse: 1.283\n",
      "3-Fold CV for K: 3; lam: 0.00032: train_rmse: 0.991, valid_rmse: 1.296\n",
      "3-Fold CV for K: 3; lam: 0.00100: train_rmse: 1.177, valid_rmse: 1.244\n",
      "3-Fold CV for K: 3; lam: 0.00100: train_rmse: 1.177, valid_rmse: 1.242\n",
      "3-Fold CV for K: 3; lam: 0.00100: train_rmse: 1.178, valid_rmse: 1.237\n",
      "3-Fold CV for K: 3; lam: 0.00316: train_rmse: 1.239, valid_rmse: 1.246\n",
      "3-Fold CV for K: 3; lam: 0.00316: train_rmse: 1.246, valid_rmse: 1.232\n",
      "3-Fold CV for K: 3; lam: 0.00316: train_rmse: 1.239, valid_rmse: 1.246\n",
      "3-Fold CV for K: 3; lam: 0.01000: train_rmse: 1.237, valid_rmse: 1.251\n",
      "3-Fold CV for K: 3; lam: 0.01000: train_rmse: 1.248, valid_rmse: 1.227\n",
      "3-Fold CV for K: 3; lam: 0.01000: train_rmse: 1.239, valid_rmse: 1.246\n",
      "3-Fold CV for K: 3; lam: 0.03162: train_rmse: 1.243, valid_rmse: 1.238\n",
      "3-Fold CV for K: 3; lam: 0.03162: train_rmse: 1.244, valid_rmse: 1.236\n",
      "3-Fold CV for K: 3; lam: 0.03162: train_rmse: 1.237, valid_rmse: 1.249\n",
      "3-Fold CV for K: 3; lam: 0.10000: train_rmse: 1.248, valid_rmse: 1.228\n",
      "3-Fold CV for K: 3; lam: 0.10000: train_rmse: 1.233, valid_rmse: 1.257\n",
      "3-Fold CV for K: 3; lam: 0.10000: train_rmse: 1.243, valid_rmse: 1.239\n",
      "3-Fold CV for K: 3; lam: 0.31623: train_rmse: 1.245, valid_rmse: 1.233\n",
      "3-Fold CV for K: 3; lam: 0.31623: train_rmse: 1.247, valid_rmse: 1.229\n",
      "3-Fold CV for K: 3; lam: 0.31623: train_rmse: 1.231, valid_rmse: 1.262\n",
      "3-Fold CV for K: 3; lam: 1.00000: train_rmse: 1.242, valid_rmse: 1.239\n",
      "3-Fold CV for K: 3; lam: 1.00000: train_rmse: 1.242, valid_rmse: 1.240\n",
      "3-Fold CV for K: 3; lam: 1.00000: train_rmse: 1.240, valid_rmse: 1.245\n",
      "3-Fold CV for K: 3; lam: 3.16228: train_rmse: 1.246, valid_rmse: 1.232\n",
      "3-Fold CV for K: 3; lam: 3.16228: train_rmse: 1.237, valid_rmse: 1.249\n",
      "3-Fold CV for K: 3; lam: 3.16228: train_rmse: 1.241, valid_rmse: 1.243\n",
      "3-Fold CV for K: 5; lam: 0.00010: train_rmse: 0.584, valid_rmse: 1.433\n",
      "3-Fold CV for K: 5; lam: 0.00010: train_rmse: 0.585, valid_rmse: 1.448\n",
      "3-Fold CV for K: 5; lam: 0.00010: train_rmse: 0.588, valid_rmse: 1.417\n",
      "3-Fold CV for K: 5; lam: 0.00032: train_rmse: 0.960, valid_rmse: 1.272\n",
      "3-Fold CV for K: 5; lam: 0.00032: train_rmse: 0.953, valid_rmse: 1.271\n",
      "3-Fold CV for K: 5; lam: 0.00032: train_rmse: 0.954, valid_rmse: 1.283\n",
      "3-Fold CV for K: 5; lam: 0.00100: train_rmse: 1.179, valid_rmse: 1.235\n",
      "3-Fold CV for K: 5; lam: 0.00100: train_rmse: 1.174, valid_rmse: 1.244\n",
      "3-Fold CV for K: 5; lam: 0.00100: train_rmse: 1.178, valid_rmse: 1.242\n",
      "3-Fold CV for K: 5; lam: 0.00316: train_rmse: 1.241, valid_rmse: 1.242\n",
      "3-Fold CV for K: 5; lam: 0.00316: train_rmse: 1.241, valid_rmse: 1.243\n",
      "3-Fold CV for K: 5; lam: 0.00316: train_rmse: 1.242, valid_rmse: 1.239\n",
      "3-Fold CV for K: 5; lam: 0.01000: train_rmse: 1.239, valid_rmse: 1.246\n",
      "3-Fold CV for K: 5; lam: 0.01000: train_rmse: 1.240, valid_rmse: 1.244\n",
      "3-Fold CV for K: 5; lam: 0.01000: train_rmse: 1.245, valid_rmse: 1.234\n",
      "3-Fold CV for K: 5; lam: 0.03162: train_rmse: 1.237, valid_rmse: 1.250\n",
      "3-Fold CV for K: 5; lam: 0.03162: train_rmse: 1.249, valid_rmse: 1.226\n",
      "3-Fold CV for K: 5; lam: 0.03162: train_rmse: 1.238, valid_rmse: 1.248\n",
      "3-Fold CV for K: 5; lam: 0.10000: train_rmse: 1.241, valid_rmse: 1.241\n",
      "3-Fold CV for K: 5; lam: 0.10000: train_rmse: 1.243, valid_rmse: 1.239\n",
      "3-Fold CV for K: 5; lam: 0.10000: train_rmse: 1.240, valid_rmse: 1.244\n",
      "3-Fold CV for K: 5; lam: 0.31623: train_rmse: 1.243, valid_rmse: 1.238\n",
      "3-Fold CV for K: 5; lam: 0.31623: train_rmse: 1.242, valid_rmse: 1.239\n",
      "3-Fold CV for K: 5; lam: 0.31623: train_rmse: 1.238, valid_rmse: 1.247\n",
      "3-Fold CV for K: 5; lam: 1.00000: train_rmse: 1.247, valid_rmse: 1.230\n",
      "3-Fold CV for K: 5; lam: 1.00000: train_rmse: 1.240, valid_rmse: 1.244\n",
      "3-Fold CV for K: 5; lam: 1.00000: train_rmse: 1.237, valid_rmse: 1.250\n",
      "3-Fold CV for K: 5; lam: 3.16228: train_rmse: 1.239, valid_rmse: 1.247\n",
      "3-Fold CV for K: 5; lam: 3.16228: train_rmse: 1.240, valid_rmse: 1.245\n",
      "3-Fold CV for K: 5; lam: 3.16228: train_rmse: 1.246, valid_rmse: 1.232\n",
      "3-Fold CV for K: 10; lam: 0.00010: train_rmse: 0.535, valid_rmse: 1.360\n",
      "3-Fold CV for K: 10; lam: 0.00010: train_rmse: 0.529, valid_rmse: 1.338\n",
      "3-Fold CV for K: 10; lam: 0.00010: train_rmse: 0.533, valid_rmse: 1.332\n",
      "3-Fold CV for K: 10; lam: 0.00032: train_rmse: 0.927, valid_rmse: 1.256\n",
      "3-Fold CV for K: 10; lam: 0.00032: train_rmse: 0.924, valid_rmse: 1.258\n",
      "3-Fold CV for K: 10; lam: 0.00032: train_rmse: 0.926, valid_rmse: 1.248\n",
      "3-Fold CV for K: 10; lam: 0.00100: train_rmse: 1.173, valid_rmse: 1.248\n",
      "3-Fold CV for K: 10; lam: 0.00100: train_rmse: 1.173, valid_rmse: 1.246\n",
      "3-Fold CV for K: 10; lam: 0.00100: train_rmse: 1.183, valid_rmse: 1.228\n",
      "3-Fold CV for K: 10; lam: 0.00316: train_rmse: 1.243, valid_rmse: 1.238\n",
      "3-Fold CV for K: 10; lam: 0.00316: train_rmse: 1.238, valid_rmse: 1.249\n",
      "3-Fold CV for K: 10; lam: 0.00316: train_rmse: 1.243, valid_rmse: 1.238\n",
      "3-Fold CV for K: 10; lam: 0.01000: train_rmse: 1.243, valid_rmse: 1.239\n",
      "3-Fold CV for K: 10; lam: 0.01000: train_rmse: 1.241, valid_rmse: 1.243\n",
      "3-Fold CV for K: 10; lam: 0.01000: train_rmse: 1.241, valid_rmse: 1.243\n",
      "3-Fold CV for K: 10; lam: 0.03162: train_rmse: 1.238, valid_rmse: 1.249\n",
      "3-Fold CV for K: 10; lam: 0.03162: train_rmse: 1.248, valid_rmse: 1.229\n",
      "3-Fold CV for K: 10; lam: 0.03162: train_rmse: 1.239, valid_rmse: 1.247\n",
      "3-Fold CV for K: 10; lam: 0.10000: train_rmse: 1.245, valid_rmse: 1.234\n",
      "3-Fold CV for K: 10; lam: 0.10000: train_rmse: 1.237, valid_rmse: 1.250\n",
      "3-Fold CV for K: 10; lam: 0.10000: train_rmse: 1.242, valid_rmse: 1.239\n",
      "3-Fold CV for K: 10; lam: 0.31623: train_rmse: 1.240, valid_rmse: 1.244\n",
      "3-Fold CV for K: 10; lam: 0.31623: train_rmse: 1.237, valid_rmse: 1.250\n",
      "3-Fold CV for K: 10; lam: 0.31623: train_rmse: 1.247, valid_rmse: 1.230\n",
      "3-Fold CV for K: 10; lam: 1.00000: train_rmse: 1.244, valid_rmse: 1.236\n",
      "3-Fold CV for K: 10; lam: 1.00000: train_rmse: 1.244, valid_rmse: 1.236\n",
      "3-Fold CV for K: 10; lam: 1.00000: train_rmse: 1.236, valid_rmse: 1.252\n",
      "3-Fold CV for K: 10; lam: 3.16228: train_rmse: 1.238, valid_rmse: 1.248\n",
      "3-Fold CV for K: 10; lam: 3.16228: train_rmse: 1.247, valid_rmse: 1.231\n",
      "3-Fold CV for K: 10; lam: 3.16228: train_rmse: 1.239, valid_rmse: 1.245\n"
     ]
    },
    {
     "data": {
      "image/png": "[encoded data removed]",
      "text/plain": [
       "<Figure size 432x288 with 2 Axes>"
      ]
     },
     "metadata": {},
     "output_type": "display_data"
    },
    {
     "data": {
      "image/png": "[encoded data removed]",
      "text/plain": [
       "<Figure size 432x288 with 2 Axes>"
      ]
     },
     "metadata": {},
     "output_type": "display_data"
    }
   ],
   "source": [
    "Ks, lams = [3, 5, 10], 10**np.arange(-4, 1, .5)\n",
    "shiing_cv = LFM_CV(n_user, n_item, cv=3, Ks=Ks, lams=lams)\n",
    "shiing_cv.grid_search(train_pairs, train_rating_res)\n",
    "shiing_cv.plot_grid('valid')\n",
    "shiing_cv.plot_grid('train')"
   ]
  },
  {
   "cell_type": "code",
   "execution_count": 26,
   "metadata": {},
   "outputs": [
    {
     "name": "stdout",
     "output_type": "stream",
     "text": [
      "K             10.000000\n",
      "lam            0.001000\n",
      "train_rmse     1.176255\n",
      "valid_rmse     1.240493\n",
      "Name: 22, dtype: float64\n",
      "Fitting Reg-LFM: K: 10, lam: 0.00100\n",
      "Reg-LFM: ite: 0; diff: 0.650 RMSE: 1.185\n",
      "Reg-LFM: ite: 1; diff: 0.001 RMSE: 1.185\n",
      "Reg-LFM: ite: 2; diff: 0.001 RMSE: 1.187\n",
      "Reg-LFM: ite: 3; diff: 0.001 RMSE: 1.188\n",
      "Reg-LFM: ite: 4; diff: 0.000 RMSE: 1.188\n",
      "Reg-LFM: ite: 5; diff: 0.000 RMSE: 1.188\n",
      "Reg-LFM: ite: 6; diff: 0.000 RMSE: 1.188\n",
      "Reg-LFM: ite: 7; diff: 0.000 RMSE: 1.188\n"
     ]
    }
   ],
   "source": [
    "## refit the best model with the full dataset\n",
    "print(shiing_cv.best_model)\n",
    "best_K, best_lam = int(shiing_cv.best_model['K']), shiing_cv.best_model['lam']\n",
    "shiing_best = LFM(n_user, n_item, K=best_K, lam=best_lam)\n",
    "shiing_best.fit(train_pairs, train_rating_res)\n",
    "pred_LFM_rf = reg_rating + shiing_best.predict(test_pairs)"
   ]
  },
  {
   "cell_type": "code",
   "execution_count": 27,
   "metadata": {},
   "outputs": [],
   "source": [
    "sub['rating'] = pred_LFM_rf\n",
    "sub.to_csv('predict/pred_reg_LMF_rf.csv', index=False)"
   ]
  },
  {
   "cell_type": "markdown",
   "metadata": {},
   "source": [
    "## Method 3: ``RandomForest Regressor``\n"
   ]
  },
  {
   "cell_type": "code",
   "execution_count": 77,
   "metadata": {},
   "outputs": [],
   "source": [
    "regressor = RandomForestRegressor(n_estimators = 500, random_state = 3009)\n",
    "regressor.fit(train_joint_feats, train_ratings)\n",
    "pred_reg=regressor.predict(test_joint_feats)"
   ]
  },
  {
   "cell_type": "code",
   "execution_count": 78,
   "metadata": {},
   "outputs": [],
   "source": [
    "sub['rating'] = pred_reg\n",
    "sub.to_csv('predict/pred_reg_rf.csv', index=False)"
   ]
  },
  {
   "cell_type": "markdown",
   "metadata": {},
   "source": [
    "## Method 4: ``RandomForest``"
   ]
  },
  {
   "cell_type": "code",
   "execution_count": 81,
   "metadata": {},
   "outputs": [],
   "source": [
    "rate = [str(train_ratings) for train_ratings in train_ratings]"
   ]
  },
  {
   "cell_type": "code",
   "execution_count": 87,
   "metadata": {},
   "outputs": [],
   "source": [
    "clf=RandomForestClassifier(n_estimators=100, random_state=3009)\n",
    "clf.fit(train_joint_feats,rate)\n",
    "pred_rf=clf.predict(test_joint_feats)"
   ]
  },
  {
   "cell_type": "code",
   "execution_count": 88,
   "metadata": {},
   "outputs": [],
   "source": [
    "sub['rating'] = pred_rf\n",
    "sub.to_csv('predict/pred_rf.csv', index=False)"
   ]
  },
  {
   "cell_type": "code",
   "execution_count": null,
   "metadata": {},
   "outputs": [],
   "source": []
  },
  {
   "cell_type": "markdown",
   "metadata": {},
   "source": [
    "## Method 2: ``NCF`` Model based on side information"
   ]
  },
  {
   "cell_type": "markdown",
   "metadata": {},
   "source": [
    "### Step 1: Formulate neural network based on continuous and categorical features\n",
    "- embedding for categorical features\n",
    "- concatenate continuous features and all embedding vectors"
   ]
  },
  {
   "cell_type": "code",
   "execution_count": null,
   "metadata": {},
   "outputs": [],
   "source": [
    "class SideNCF(keras.Model):\n",
    "    def __init__(self, num_users, num_movies, num_genre, embedding_size, **kwargs):\n",
    "        super(SideNCF, self).__init__(**kwargs)\n",
    "        self.num_users = num_users\n",
    "        self.num_movies = num_movies\n",
    "        self.embedding_size = embedding_size\n",
    "        self.user_embedding = layers.Embedding(\n",
    "            num_users,\n",
    "            embedding_size,\n",
    "            embeddings_initializer=\"he_normal\",\n",
    "            embeddings_regularizer=keras.regularizers.l2(1e-2),\n",
    "        )\n",
    "        self.movie_embedding = layers.Embedding(\n",
    "            num_movies,\n",
    "            embedding_size,\n",
    "            embeddings_initializer=\"he_normal\",\n",
    "            embeddings_regularizer=keras.regularizers.l2(1e-2),\n",
    "        )\n",
    "        self.genre_embedding = layers.Embedding(\n",
    "            num_genre,\n",
    "            embedding_size,\n",
    "            embeddings_initializer=\"he_normal\",\n",
    "            embeddings_regularizer=keras.regularizers.l2(1e-2),\n",
    "        )\n",
    "        self.concatenate = layers.Concatenate()\n",
    "        self.dense1 = layers.Dense(100, name='fc-1', activation='relu')\n",
    "        self.dense2 = layers.Dense(50, name='fc-2', activation='relu')\n",
    "        self.dense3 = layers.Dense(1, name='fc-3', activation='relu')\n",
    "\n",
    "    def call(self, inputs):\n",
    "        cont_feats = inputs[0]\n",
    "        cate_feats = inputs[1]\n",
    "        user_vector = self.user_embedding(cate_feats[:,0])\n",
    "        movie_vector = self.movie_embedding(cate_feats[:,1])\n",
    "        genre_vector = self.genre_embedding(cate_feats[:,2])\n",
    "        concatted_vec = self.concatenate([cont_feats, user_vector, movie_vector, genre_vector])\n",
    "        fc_1 = self.dense1(concatted_vec)\n",
    "        fc_2 = self.dense2(fc_1)\n",
    "        fc_3 = self.dense3(fc_2)\n",
    "        return fc_3"
   ]
  },
  {
   "cell_type": "code",
   "execution_count": null,
   "metadata": {},
   "outputs": [],
   "source": [
    "num_genre = movies_pd['pGenre'].max() + 1\n",
    "model = SideNCF(num_users=n_user, num_movies=n_item, num_genre=num_genre, embedding_size=50)\n",
    "\n",
    "metrics = [\n",
    "    keras.metrics.MeanAbsoluteError(name='mae'),\n",
    "    keras.metrics.RootMeanSquaredError(name='rmse')\n",
    "]\n",
    "\n",
    "model.compile(\n",
    "    optimizer=keras.optimizers.Adam(1e-3), \n",
    "    loss=tf.keras.losses.MeanSquaredError(), \n",
    "    metrics=metrics\n",
    ")\n",
    "\n",
    "# from tensorflow.keras.utils import plot_model\n",
    "# plot_model(model, to_file='model.png')"
   ]
  },
  {
   "cell_type": "code",
   "execution_count": null,
   "metadata": {},
   "outputs": [],
   "source": []
  },
  {
   "cell_type": "code",
   "execution_count": null,
   "metadata": {},
   "outputs": [],
   "source": []
  },
  {
   "cell_type": "code",
   "execution_count": null,
   "metadata": {},
   "outputs": [],
   "source": []
  },
  {
   "cell_type": "code",
   "execution_count": null,
   "metadata": {},
   "outputs": [],
   "source": []
  },
  {
   "cell_type": "code",
   "execution_count": null,
   "metadata": {},
   "outputs": [],
   "source": []
  },
  {
   "cell_type": "code",
   "execution_count": null,
   "metadata": {},
   "outputs": [],
   "source": []
  },
  {
   "cell_type": "code",
   "execution_count": 52,
   "metadata": {},
   "outputs": [],
   "source": [
    "# tran_pair, train_rating\n",
    "train_pairs = train_rating[['UserId', 'ItemId']].values\n",
    "train_ratings = train_rating['rating'].values\n",
    "# test_pair\n",
    "test_pairs = test_pair[['UserId', 'ItemId']].values\n",
    "n_user, n_item = max(train_pairs[:,0].max(), test_pairs[:,0].max())+1, max(train_pairs[:,1].max(), test_pairs[:,1].max())+1\n",
    "\n",
    "# user_mean\n",
    "user_ave = user_mean(n_user=n_user)\n",
    "user_ave.fit(train_pair=train_pairs, train_ratings=train_ratings)\n",
    "pred_user_mean = user_ave.predict(test_pairs)\n",
    "\n",
    "## item mean\n",
    "item_ave = item_mean(n_item=n_item)\n",
    "item_ave.fit(train_pair=train_pairs, train_ratings=train_ratings)\n",
    "pred_item_mean = item_ave.predict(test_pairs)\n",
    "\n",
    "user_rating=pd.concat([test_pair,pd.DataFrame({'rating':pred_user_mean})],axis=1)\n",
    "item_rating=pd.concat([test_pair,pd.DataFrame({'rating':pred_item_mean})],axis=1)\n"
   ]
  },
  {
   "cell_type": "code",
   "execution_count": 53,
   "metadata": {},
   "outputs": [
    {
     "name": "stdout",
     "output_type": "stream",
     "text": [
      "#######################################################\n",
      "########## 10 random samples for users feats ##########\n",
      "#######################################################\n",
      "      UserId  rating_mean  rating_count  quantile_0.1  quantile_0.9        V1  \\\n",
      "2125   15374     0.875000             1      0.875000      0.875000  3.604344   \n",
      "1222    8900     1.640200             1      1.640200      1.640200  3.870928   \n",
      "413     2955     2.714286             3      2.714286      2.714286  3.423729   \n",
      "164     1162     1.640200             1      1.640200      1.640200  3.423729   \n",
      "1310    9535     1.333333             1      1.333333      1.333333  2.768854   \n",
      "178     1238     1.640200             1      1.640200      1.640200  3.855488   \n",
      "569     4223     1.640200             2      1.640200      1.640200  3.423729   \n",
      "2107   15272     1.640200             1      1.640200      1.640200  3.752474   \n",
      "2348   16897     1.640200             1      1.640200      1.640200  3.423729   \n",
      "1090    7924     4.000000             5      4.000000      4.000000  3.615227   \n",
      "\n",
      "        V2    V3   V4  \n",
      "2125  1962   350  330  \n",
      "1222  6394   262  330  \n",
      "413   7586   233   56  \n",
      "164   3079   977  330  \n",
      "1310  7314  1079   56  \n",
      "178   6260  1087  330  \n",
      "569   3864  1451  154  \n",
      "2107  3561   574  330  \n",
      "2348  1500   621  330  \n",
      "1090  3231   511  330  \n",
      "#######################################################\n",
      "########## 10 random samples for items feats ##########\n",
      "#######################################################\n",
      "       ItemId  rating_mean  rating_count  quantile_0.1  quantile_0.9     V1  \\\n",
      "1818     3862       3.5000             2        3.5000        3.5000    227   \n",
      "9156    19298       0.0000             1        0.0000        0.0000   4416   \n",
      "7598    16122       3.5000             1        3.5000        3.5000   5297   \n",
      "6861    14615       0.0000             1        0.0000        0.0000  11438   \n",
      "382       822       1.6000             3        1.6000        1.6000   2551   \n",
      "5067    10791       2.5000             4        2.5000        2.5000   6297   \n",
      "1906     4058       1.6402             2        1.6402        1.6402   1023   \n",
      "1968     4207       0.0000             1        0.0000        0.0000   7903   \n",
      "9441    19871       3.0000             1        3.0000        3.0000  11180   \n",
      "11920   25028       1.6402             2        1.6402        1.6402  10097   \n",
      "\n",
      "             V2    V3  \n",
      "1818   7.650612  2573  \n",
      "9156   7.778390  1101  \n",
      "7598   7.684286   918  \n",
      "6861   7.574424  1734  \n",
      "382    7.576096   697  \n",
      "5067   7.621130  2132  \n",
      "1906   7.368443   327  \n",
      "1968   7.742180  1254  \n",
      "9441   7.473537  3019  \n",
      "11920  7.425358  2807  \n"
     ]
    }
   ],
   "source": [
    "## generate cont feats for users\n",
    "user_pd_test = pd.merge(left=user_rating.groupby('UserId')['rating'].mean(), \n",
    "                        right=user_rating.groupby('UserId')['rating'].count(), on='UserId', )\n",
    "user_pd_test = pd.merge(left=user_pd_test, \n",
    "                        right=user_rating.groupby('UserId')['rating'].quantile([0.1]), on='UserId', )\n",
    "user_pd_test = pd.merge(left=user_pd_test, \n",
    "                        right=user_rating.groupby('UserId')['rating'].quantile([0.9]), on='UserId', )\n",
    "\n",
    "user_pd_test.columns = ['rating_mean', 'rating_count','quantile_0.1','quantile_0.9']\n",
    "user_pd_test = user_pd_test.reset_index()\n",
    "\n",
    "user_pd_test = pd.merge(left=user_pd_test, right=user_feat, on='UserId')\n",
    "\n",
    "## generate cont feats for items\n",
    "item_rating_pd_test = pd.merge(left=item_rating.groupby('ItemId')['rating'].mean(), \n",
    "                            right=item_rating.groupby('ItemId')['rating'].count(), on='ItemId')\n",
    "item_rating_pd_test = pd.merge(left=item_rating_pd_test, \n",
    "                        right=item_rating.groupby('ItemId')['rating'].quantile([0.1]), on='ItemId', )\n",
    "item_rating_pd_test = pd.merge(left=item_rating_pd_test, \n",
    "                        right=item_rating.groupby('ItemId')['rating'].quantile([0.9]), on='ItemId', )\n",
    "item_rating_pd_test.columns = ['rating_mean', 'rating_count','quantile_0.1','quantile_0.9']\n",
    "item_rating_pd_test = item_rating_pd_test.reset_index()\n",
    "\n",
    "item_pd_test = pd.merge(left=item_rating_pd_test, right=item_feat, on='ItemId')\n",
    "print('#######################################################')\n",
    "print('########## 10 random samples for users feats ##########')\n",
    "print('#######################################################')\n",
    "\n",
    "print(user_pd_test.sample(10))\n",
    "print('#######################################################')\n",
    "print('########## 10 random samples for items feats ##########')\n",
    "print('#######################################################')\n",
    "\n",
    "print(item_pd_test.sample(10))"
   ]
  },
  {
   "cell_type": "code",
   "execution_count": 12,
   "metadata": {},
   "outputs": [
    {
     "name": "stdout",
     "output_type": "stream",
     "text": [
      "#######################################################\n",
      "########## 10 random samples for users feats ##########\n",
      "#######################################################\n",
      "      UserId  rating_mean  rating_count  quantile_0.1  quantile_0.9        V1  \\\n",
      "655     4851     0.436174     -0.006685      0.436174      0.436174 -0.033176   \n",
      "3673   25978    -0.853177      0.723905     -0.853177     -0.853177  0.243328   \n",
      "3068   21735    -0.216675     -0.145845     -0.216675     -0.216675 -1.053768   \n",
      "1511   10846     0.470777     -0.041475      0.470777      0.470777 -0.033176   \n",
      "525     3926    -0.920253     -0.145845     -0.920253     -0.920253 -0.231115   \n",
      "3092   21892    -1.228356      0.271635     -1.228356     -1.228356 -0.155004   \n",
      "1195    8690    -0.216675     -0.145845     -0.216675     -0.216675 -0.033176   \n",
      "1319    9576    -0.216675     -0.145845     -0.216675     -0.216675 -0.033176   \n",
      "303     2062    -0.665923     -0.076265     -0.665923     -0.665923 -0.969943   \n",
      "874     6501     0.097067     -0.145845      0.097067      0.097067 -0.033176   \n",
      "\n",
      "            V2        V3        V4  \n",
      "655   1.319308  0.081428  0.605327  \n",
      "3673 -1.535721  1.334250  0.605327  \n",
      "3068 -1.433283  1.622031  0.605327  \n",
      "1511 -1.383344  0.382192  0.605327  \n",
      "525   0.005543  0.382192  0.605327  \n",
      "3092 -0.915118  0.133358  0.605327  \n",
      "1195  0.186516  1.565773  0.605327  \n",
      "1319 -0.332502 -1.742629 -1.123364  \n",
      "303  -1.208346  1.007521 -1.895571  \n",
      "874   1.421746 -1.521925  0.605327  \n",
      "#######################################################\n",
      "########## 10 random samples for items feats ##########\n",
      "#######################################################\n",
      "       ItemId  rating_mean  rating_count  quantile_0.1  quantile_0.9  \\\n",
      "4485     9522    -1.444248      0.794296     -1.444248     -1.444248   \n",
      "11622   24427     2.962476     -0.344568      2.962476      2.962476   \n",
      "3253     6960     0.759114      0.794296      0.759114      0.759114   \n",
      "2185     4681    -1.444248      0.224864     -1.444248     -1.444248   \n",
      "6972    14840     0.906005      0.794296      0.906005      0.906005   \n",
      "3661     7781    -1.444248     -0.344568     -1.444248     -1.444248   \n",
      "3400     7261    -0.282475      6.488611     -0.282475     -0.282475   \n",
      "10621   22337    -0.489458      0.224864     -0.489458     -0.489458   \n",
      "5601    11882    -1.444248      0.794296     -1.444248     -1.444248   \n",
      "9486    19975     0.001333     -0.344568      0.001333      0.001333   \n",
      "\n",
      "             V1        V2        V3  \n",
      "4485   0.007251  0.427396 -1.429587  \n",
      "11622 -0.342146  0.198685  1.022614  \n",
      "3253  -1.422771  0.238911 -0.912027  \n",
      "2185   1.306217  0.210152  1.487383  \n",
      "6972   0.931769  0.118764 -0.340640  \n",
      "3661   0.268574  0.156137 -1.374726  \n",
      "3400   0.597402  0.090158 -1.374726  \n",
      "10621  1.355264 -0.023519  1.012263  \n",
      "5601  -0.124597  0.216963 -1.389217  \n",
      "9486  -1.623971  0.255374 -0.625298  \n"
     ]
    }
   ],
   "source": [
    "## pre-processing for users\n",
    "user_cont = ['rating_mean', 'rating_count', 'quantile_0.1','quantile_0.9', 'V1','V2','V3','V4']\n",
    "user_pd_test[user_cont] = preprocessing.StandardScaler().fit_transform(user_pd_test[user_cont])\n",
    "\n",
    "## pre-processing for items\n",
    "item_cont = ['rating_mean', 'rating_count', 'quantile_0.1','quantile_0.9', 'V1','V2','V3']\n",
    "item_pd_test[item_cont] = preprocessing.StandardScaler().fit_transform(item_pd_test[item_cont])\n",
    "\n",
    "\n",
    "\n",
    "print('#######################################################')\n",
    "print('########## 10 random samples for users feats ##########')\n",
    "print('#######################################################')\n",
    "print(user_pd_test.sample(10))\n",
    "\n",
    "print('#######################################################')\n",
    "print('########## 10 random samples for items feats ##########')\n",
    "print('#######################################################')\n",
    "print(item_pd_test.sample(10))"
   ]
  },
  {
   "cell_type": "code",
   "execution_count": 13,
   "metadata": {},
   "outputs": [],
   "source": [
    "# joint_feats of test\n",
    "user_pd_test=user_pd_test.values\n",
    "item_pd_test=item_pd_test.values"
   ]
  },
  {
   "cell_type": "code",
   "execution_count": 15,
   "metadata": {},
   "outputs": [],
   "source": [
    "temp_user=np.zeros((len(test_pairs), len(user_pd_test[0,:])-1))\n",
    "for i in range(len(test_pairs)):\n",
    "    index=np.where(test_pairs[i,0]==user_pd_test[:,0])[0]\n",
    "    temp_user[i,:]=user_pd_test[index,1:len(user_pd_test[0,:])]\n",
    "    \n",
    "temp_item=np.zeros((len(test_pairs), len(item_pd_test[0,:])-1))\n",
    "for i in range(len(test_pairs)):\n",
    "    index=np.where(test_pairs[i,1]==item_pd_test[:,0])[0]\n",
    "    temp_item[i,:]=item_pd_test[index,1:len(item_pd_test[0,:])]\n",
    "\n",
    "test_joint_feats=np.concatenate((temp_user, temp_item), axis=1)"
   ]
  },
  {
   "cell_type": "code",
   "execution_count": 51,
   "metadata": {},
   "outputs": [],
   "source": [
    "temp_user=np.zeros((len(train_pairs), len(user_pd[0,:])-1))\n",
    "for i in range(len(train_pairs)):\n",
    "    index=np.where(train_pairs[i,0]==user_pd[:,0])[0]\n",
    "    temp_user[i,:]=user_pd[index,1:len(user_pd[0,:])]\n",
    "    \n",
    "temp_item=np.zeros((len(train_pairs), len(item_pd[0,:])-1))\n",
    "for i in range(len(train_pairs)):\n",
    "    index=np.where(train_pairs[i,1]==item_pd[:,0])[0]\n",
    "    temp_item[i,:]=item_pd[index,1:len(item_pd[0,:])]\n",
    "\n",
    "train_joint_feats=np.concatenate((temp_user, temp_item), axis=1)"
   ]
  },
  {
   "cell_type": "code",
   "execution_count": null,
   "metadata": {},
   "outputs": [],
   "source": []
  },
  {
   "cell_type": "code",
   "execution_count": null,
   "metadata": {},
   "outputs": [],
   "source": []
  },
  {
   "cell_type": "code",
   "execution_count": null,
   "metadata": {},
   "outputs": [],
   "source": []
  },
  {
   "cell_type": "code",
   "execution_count": 42,
   "metadata": {},
   "outputs": [
    {
     "name": "stdout",
     "output_type": "stream",
     "text": [
      "#######################################################\n",
      "########## 10 random samples for users feats ##########\n",
      "#######################################################\n",
      "      UserId  rating_mean  rating_count  quantile_0.1  quantile_0.9        V1  \\\n",
      "2530   11780     4.000000             1           4.0          4.00  3.919329   \n",
      "973     4533     5.000000             1           5.0          5.00  2.934012   \n",
      "680     3199     3.500000             1           3.5          3.50  3.423729   \n",
      "219      996     1.392857            14           0.0          3.85  3.423729   \n",
      "2994   14043     0.000000             1           0.0          0.00  2.835416   \n",
      "2365   10980     1.500000             1           1.5          1.50  4.000485   \n",
      "356     1657     0.000000             1           0.0          0.00  3.303097   \n",
      "3041   14302     0.000000             1           0.0          0.00  3.549563   \n",
      "152      696     4.000000             1           4.0          4.00  3.953528   \n",
      "2639   12348     4.500000             1           4.5          4.50  3.423729   \n",
      "\n",
      "        V2    V3   V4  \n",
      "2530   459  1422  330  \n",
      "973    616   439  325  \n",
      "680   2799    51  330  \n",
      "219   6508  1555  330  \n",
      "2994  2353   511  330  \n",
      "2365  8056   262  330  \n",
      "356   5997   296   13  \n",
      "3041  7504  1493  290  \n",
      "152   5269   262  330  \n",
      "2639   459  1422  330  \n",
      "#######################################################\n",
      "########## 10 random samples for items feats ##########\n",
      "#######################################################\n",
      "       ItemId  rating_mean  rating_count  quantile_0.1  quantile_0.9     V1  \\\n",
      "9435    12090     3.000000             1           3.0           3.0   7147   \n",
      "8035    10287     0.000000             4           0.0           0.0   9515   \n",
      "9126    11692     0.000000             1           0.0           0.0   8302   \n",
      "10678   13707     4.000000             1           4.0           4.0   8800   \n",
      "12855   16510     0.000000             3           0.0           0.0   2653   \n",
      "1125     1441     2.500000             1           2.5           2.5  11585   \n",
      "6165     7935     0.000000             1           0.0           0.0   1371   \n",
      "1383     1771     0.000000             1           0.0           0.0   5664   \n",
      "17355   22290     3.166667             3           2.6           3.8   7701   \n",
      "12053   15463     1.000000             4           0.0           2.8   6971   \n",
      "\n",
      "             V2    V3  \n",
      "9435   7.631419  2005  \n",
      "8035   7.542021  2974  \n",
      "9126   7.512744  2207  \n",
      "10678  7.523242  2134  \n",
      "12855  7.724107   693  \n",
      "1125   7.673038  1665  \n",
      "6165   7.534095  1214  \n",
      "1383   7.471500  1067  \n",
      "17355  7.541129   244  \n",
      "12053  7.497168  2144  \n"
     ]
    }
   ],
   "source": [
    "## generate cont feats for users\n",
    "\n",
    "user_pd= pd.concat([train_rating, GLB_mean_pred, user_mean_pred,item_mean_pred,cor_user_pred,cor_item_pred], axis=1)\n",
    "\n",
    "\n",
    "\n",
    "user_pd = pd.merge(left=GLB_mean_pred.groupby('UserId')['rating'], \n",
    "                        right=train_rating.groupby('UserId')['rating'].count(), on='UserId', )\n",
    "user_pd = pd.merge(left=user_pd, \n",
    "                        right=train_rating.groupby('UserId')['rating'].quantile([0.1]), on='UserId', )\n",
    "user_pd = pd.merge(left=user_pd, \n",
    "                        right=train_rating.groupby('UserId')['rating'].quantile([0.9]), on='UserId', )\n",
    "\n",
    "user_pd.columns = ['rating_mean', 'rating_count','quantile_0.1','quantile_0.9']\n",
    "user_pd = user_pd.reset_index()\n",
    "\n",
    "user_pd = pd.merge(left=user_pd, right=user_feat, on='UserId')\n",
    "\n",
    "## generate cont feats for items\n",
    "item_rating_pd = pd.merge(left=train_rating.groupby('ItemId')['rating'].mean(), \n",
    "                            right=train_rating.groupby('ItemId')['rating'].count(), on='ItemId')\n",
    "item_rating_pd = pd.merge(left=item_rating_pd, \n",
    "                        right=train_rating.groupby('ItemId')['rating'].quantile([0.1]), on='ItemId', )\n",
    "item_rating_pd = pd.merge(left=item_rating_pd, \n",
    "                        right=train_rating.groupby('ItemId')['rating'].quantile([0.9]), on='ItemId', )\n",
    "item_rating_pd.columns = ['rating_mean', 'rating_count','quantile_0.1','quantile_0.9']\n",
    "item_rating_pd = item_rating_pd.reset_index()\n",
    "\n",
    "item_pd = pd.merge(left=item_rating_pd, right=item_feat, on='ItemId')\n",
    "print('#######################################################')\n",
    "print('########## 10 random samples for users feats ##########')\n",
    "print('#######################################################')\n",
    "\n",
    "print(user_pd.sample(10))\n",
    "print('#######################################################')\n",
    "print('########## 10 random samples for items feats ##########')\n",
    "print('#######################################################')\n",
    "\n",
    "print(item_pd.sample(10))"
   ]
  }
 ],
 "metadata": {
  "kernelspec": {
   "display_name": "Python 3",
   "language": "python",
   "name": "python3"
  },
  "language_info": {
   "codemirror_mode": {
    "name": "ipython",
    "version": 3
   },
   "file_extension": ".py",
   "mimetype": "text/x-python",
   "name": "python",
   "nbconvert_exporter": "python",
   "pygments_lexer": "ipython3",
   "version": "3.7.6"
  }
 },
 "nbformat": 4,
 "nbformat_minor": 4
}
